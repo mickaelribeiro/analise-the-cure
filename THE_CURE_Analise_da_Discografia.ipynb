{
  "nbformat": 4,
  "nbformat_minor": 5,
  "metadata": {
    "kernelspec": {
      "display_name": "Python 3",
      "language": "python",
      "name": "python3"
    },
    "language_info": {
      "codemirror_mode": {
        "name": "ipython",
        "version": 3
      },
      "file_extension": ".py",
      "mimetype": "text/x-python",
      "name": "python",
      "nbconvert_exporter": "python",
      "pygments_lexer": "ipython3",
      "version": "3.8.8"
    },
    "colab": {
      "name": "THE_CURE_Analise_da_Discografia.ipynb",
      "provenance": [],
      "collapsed_sections": [],
      "toc_visible": true
    }
  },
  "cells": [
    {
      "cell_type": "code",
      "metadata": {
        "id": "3420928f"
      },
      "source": [
        "import pandas as pd\n",
        "from matplotlib import pyplot as plt"
      ],
      "id": "3420928f",
      "execution_count": 126,
      "outputs": []
    },
    {
      "cell_type": "code",
      "metadata": {
        "id": "15641673"
      },
      "source": [
        "discografia = pd.read_csv('thecure_discography.csv', sep = ',')"
      ],
      "id": "15641673",
      "execution_count": 127,
      "outputs": []
    },
    {
      "cell_type": "code",
      "metadata": {
        "id": "756d9e10"
      },
      "source": [
        "import seaborn as sns"
      ],
      "id": "756d9e10",
      "execution_count": 128,
      "outputs": []
    },
    {
      "cell_type": "markdown",
      "metadata": {
        "id": "a2dba9ba"
      },
      "source": [
        "### Excluindo colunas que não serão utilizadas"
      ],
      "id": "a2dba9ba"
    },
    {
      "cell_type": "code",
      "metadata": {
        "id": "ff0da809"
      },
      "source": [
        "discografia.drop(['Unnamed: 0', 'album_uri', 'album_img', 'track_uri'], axis = 1, inplace = True)"
      ],
      "id": "ff0da809",
      "execution_count": 129,
      "outputs": []
    },
    {
      "cell_type": "markdown",
      "metadata": {
        "id": "hHYJl_J563BJ"
      },
      "source": [
        "### Legenda \n",
        "**track_popularity:** O valor estará entre 0 e 100, sendo 100 o mais popular.\n",
        "\n",
        "**duration_ms**: A duração da faixa em milissegundos.\n",
        "\n",
        "**valence:** Uma medida de 0,0 a 1,0 que descreve a positividade musical transmitida por uma faixa.\n",
        "\n",
        "**danceability:** A capacidade de dança descreve o quão adequada uma faixa é para dançar com base em uma combinação de elementos musicais, incluindo tempo, estabilidade do ritmo, força da batida e regularidade geral. Um valor de 0,0 é menos dançável e 1,0 é mais dançante.\n",
        "\n",
        "**energy:** Representa uma medida perceptiva de intensidade e atividade (de 0,0 a 1,0).\n",
        "\n",
        "**acousticness:** Uma medida de confiança de 0,0 a 1,0 para saber se a faixa é acústica.\n",
        "\n",
        "**loudness:** O volume geral de uma faixa em decibéis (faixa típica entre -60 e 0 db).\n",
        "\n",
        "**speechiness.** A fala detecta a presença de palavras faladas em uma faixa. Quanto mais exclusivamente semelhante à fala for a gravação, mais próximo de 1,0 será o valor do atributo.\n",
        "\n",
        "**instrumentalness:** Prevê se uma faixa não contém vocais. Quanto mais próximo o valor da instrumentalidade estiver de 1,0, maior será a probabilidade de a faixa não conter nenhum conteúdo vocal.\n",
        "\n",
        "**liveness:** Detecta a presença de um público na gravação. Um valor acima de 0,8 fornece uma grande probabilidade de que a faixa esteja ao vivo.\n",
        "\n",
        "**key_mode:** A chave em que está a faixa."
      ],
      "id": "hHYJl_J563BJ"
    },
    {
      "cell_type": "markdown",
      "metadata": {
        "id": "c40c6441"
      },
      "source": [
        "# Verificando os 10 primeiros registros"
      ],
      "id": "c40c6441"
    },
    {
      "cell_type": "code",
      "metadata": {
        "colab": {
          "base_uri": "https://localhost:8080/",
          "height": 842
        },
        "id": "60e93720",
        "outputId": "556dd74b-7070-4cbb-ce54-eeba683554a2"
      },
      "source": [
        "discografia.head(10)"
      ],
      "id": "60e93720",
      "execution_count": 130,
      "outputs": [
        {
          "output_type": "execute_result",
          "data": {
            "text/html": [
              "<div>\n",
              "<style scoped>\n",
              "    .dataframe tbody tr th:only-of-type {\n",
              "        vertical-align: middle;\n",
              "    }\n",
              "\n",
              "    .dataframe tbody tr th {\n",
              "        vertical-align: top;\n",
              "    }\n",
              "\n",
              "    .dataframe thead th {\n",
              "        text-align: right;\n",
              "    }\n",
              "</style>\n",
              "<table border=\"1\" class=\"dataframe\">\n",
              "  <thead>\n",
              "    <tr style=\"text-align: right;\">\n",
              "      <th></th>\n",
              "      <th>album_name</th>\n",
              "      <th>album_release_date</th>\n",
              "      <th>album_release_year</th>\n",
              "      <th>album_popularity</th>\n",
              "      <th>track_name</th>\n",
              "      <th>danceability</th>\n",
              "      <th>energy</th>\n",
              "      <th>key</th>\n",
              "      <th>loudness</th>\n",
              "      <th>mode</th>\n",
              "      <th>speechiness</th>\n",
              "      <th>acousticness</th>\n",
              "      <th>instrumentalness</th>\n",
              "      <th>liveness</th>\n",
              "      <th>valence</th>\n",
              "      <th>tempo</th>\n",
              "      <th>duration_ms</th>\n",
              "      <th>time_signature</th>\n",
              "      <th>key_mode</th>\n",
              "      <th>track_popularity</th>\n",
              "    </tr>\n",
              "  </thead>\n",
              "  <tbody>\n",
              "    <tr>\n",
              "      <th>0</th>\n",
              "      <td>Pornography</td>\n",
              "      <td>1982-05-03</td>\n",
              "      <td>1982-05-03</td>\n",
              "      <td>34</td>\n",
              "      <td>One Hundred Years - Remastered Version</td>\n",
              "      <td>0.436</td>\n",
              "      <td>0.881</td>\n",
              "      <td>G</td>\n",
              "      <td>-5.998</td>\n",
              "      <td>major</td>\n",
              "      <td>0.0439</td>\n",
              "      <td>0.001230</td>\n",
              "      <td>0.5090</td>\n",
              "      <td>0.1080</td>\n",
              "      <td>0.262</td>\n",
              "      <td>132.590</td>\n",
              "      <td>401000</td>\n",
              "      <td>4</td>\n",
              "      <td>G major</td>\n",
              "      <td>33</td>\n",
              "    </tr>\n",
              "    <tr>\n",
              "      <th>1</th>\n",
              "      <td>Pornography</td>\n",
              "      <td>1982-05-03</td>\n",
              "      <td>1982-05-03</td>\n",
              "      <td>34</td>\n",
              "      <td>A Short Term Effect - Remastered Version</td>\n",
              "      <td>0.516</td>\n",
              "      <td>0.836</td>\n",
              "      <td>C</td>\n",
              "      <td>-5.872</td>\n",
              "      <td>major</td>\n",
              "      <td>0.0319</td>\n",
              "      <td>0.001710</td>\n",
              "      <td>0.1650</td>\n",
              "      <td>0.1360</td>\n",
              "      <td>0.649</td>\n",
              "      <td>116.566</td>\n",
              "      <td>262493</td>\n",
              "      <td>4</td>\n",
              "      <td>C major</td>\n",
              "      <td>28</td>\n",
              "    </tr>\n",
              "    <tr>\n",
              "      <th>2</th>\n",
              "      <td>Pornography</td>\n",
              "      <td>1982-05-03</td>\n",
              "      <td>1982-05-03</td>\n",
              "      <td>34</td>\n",
              "      <td>The Hanging Garden - Remastered Version</td>\n",
              "      <td>0.420</td>\n",
              "      <td>0.889</td>\n",
              "      <td>C</td>\n",
              "      <td>-5.860</td>\n",
              "      <td>major</td>\n",
              "      <td>0.0393</td>\n",
              "      <td>0.004020</td>\n",
              "      <td>0.4880</td>\n",
              "      <td>0.0795</td>\n",
              "      <td>0.634</td>\n",
              "      <td>135.421</td>\n",
              "      <td>274240</td>\n",
              "      <td>4</td>\n",
              "      <td>C major</td>\n",
              "      <td>35</td>\n",
              "    </tr>\n",
              "    <tr>\n",
              "      <th>3</th>\n",
              "      <td>Pornography</td>\n",
              "      <td>1982-05-03</td>\n",
              "      <td>1982-05-03</td>\n",
              "      <td>34</td>\n",
              "      <td>Siamese Twins - Remastered Version</td>\n",
              "      <td>0.772</td>\n",
              "      <td>0.523</td>\n",
              "      <td>D</td>\n",
              "      <td>-9.788</td>\n",
              "      <td>major</td>\n",
              "      <td>0.0364</td>\n",
              "      <td>0.000298</td>\n",
              "      <td>0.7950</td>\n",
              "      <td>0.2820</td>\n",
              "      <td>0.752</td>\n",
              "      <td>94.194</td>\n",
              "      <td>328360</td>\n",
              "      <td>4</td>\n",
              "      <td>D major</td>\n",
              "      <td>34</td>\n",
              "    </tr>\n",
              "    <tr>\n",
              "      <th>4</th>\n",
              "      <td>Pornography</td>\n",
              "      <td>1982-05-03</td>\n",
              "      <td>1982-05-03</td>\n",
              "      <td>34</td>\n",
              "      <td>The Figurehead - Remastered Version</td>\n",
              "      <td>0.655</td>\n",
              "      <td>0.842</td>\n",
              "      <td>A#</td>\n",
              "      <td>-5.349</td>\n",
              "      <td>minor</td>\n",
              "      <td>0.0264</td>\n",
              "      <td>0.001250</td>\n",
              "      <td>0.6420</td>\n",
              "      <td>0.1100</td>\n",
              "      <td>0.727</td>\n",
              "      <td>110.370</td>\n",
              "      <td>375173</td>\n",
              "      <td>4</td>\n",
              "      <td>A# minor</td>\n",
              "      <td>28</td>\n",
              "    </tr>\n",
              "    <tr>\n",
              "      <th>5</th>\n",
              "      <td>Pornography</td>\n",
              "      <td>1982-05-03</td>\n",
              "      <td>1982-05-03</td>\n",
              "      <td>34</td>\n",
              "      <td>A Strange Day - Remastered Version</td>\n",
              "      <td>0.603</td>\n",
              "      <td>0.964</td>\n",
              "      <td>A</td>\n",
              "      <td>-7.245</td>\n",
              "      <td>minor</td>\n",
              "      <td>0.0430</td>\n",
              "      <td>0.000109</td>\n",
              "      <td>0.0801</td>\n",
              "      <td>0.1190</td>\n",
              "      <td>0.564</td>\n",
              "      <td>112.798</td>\n",
              "      <td>303960</td>\n",
              "      <td>4</td>\n",
              "      <td>A minor</td>\n",
              "      <td>31</td>\n",
              "    </tr>\n",
              "    <tr>\n",
              "      <th>6</th>\n",
              "      <td>Pornography</td>\n",
              "      <td>1982-05-03</td>\n",
              "      <td>1982-05-03</td>\n",
              "      <td>34</td>\n",
              "      <td>Cold - Remastered Version</td>\n",
              "      <td>0.473</td>\n",
              "      <td>0.832</td>\n",
              "      <td>A#</td>\n",
              "      <td>-5.841</td>\n",
              "      <td>minor</td>\n",
              "      <td>0.0283</td>\n",
              "      <td>0.091600</td>\n",
              "      <td>0.4980</td>\n",
              "      <td>0.1010</td>\n",
              "      <td>0.238</td>\n",
              "      <td>100.881</td>\n",
              "      <td>266573</td>\n",
              "      <td>4</td>\n",
              "      <td>A# minor</td>\n",
              "      <td>31</td>\n",
              "    </tr>\n",
              "    <tr>\n",
              "      <th>7</th>\n",
              "      <td>Pornography</td>\n",
              "      <td>1982-05-03</td>\n",
              "      <td>1982-05-03</td>\n",
              "      <td>34</td>\n",
              "      <td>Pornography - Remastered Version</td>\n",
              "      <td>0.423</td>\n",
              "      <td>0.829</td>\n",
              "      <td>A#</td>\n",
              "      <td>-9.534</td>\n",
              "      <td>major</td>\n",
              "      <td>0.0739</td>\n",
              "      <td>0.435000</td>\n",
              "      <td>0.5300</td>\n",
              "      <td>0.5170</td>\n",
              "      <td>0.205</td>\n",
              "      <td>123.997</td>\n",
              "      <td>387867</td>\n",
              "      <td>4</td>\n",
              "      <td>A# major</td>\n",
              "      <td>25</td>\n",
              "    </tr>\n",
              "    <tr>\n",
              "      <th>8</th>\n",
              "      <td>The Top</td>\n",
              "      <td>1984-04-30</td>\n",
              "      <td>1984-04-30</td>\n",
              "      <td>28</td>\n",
              "      <td>Shake Dog Shake - Remastered</td>\n",
              "      <td>0.353</td>\n",
              "      <td>0.914</td>\n",
              "      <td>C</td>\n",
              "      <td>-5.474</td>\n",
              "      <td>major</td>\n",
              "      <td>0.0438</td>\n",
              "      <td>0.011400</td>\n",
              "      <td>0.0119</td>\n",
              "      <td>0.3210</td>\n",
              "      <td>0.158</td>\n",
              "      <td>166.084</td>\n",
              "      <td>296387</td>\n",
              "      <td>4</td>\n",
              "      <td>C major</td>\n",
              "      <td>22</td>\n",
              "    </tr>\n",
              "    <tr>\n",
              "      <th>9</th>\n",
              "      <td>The Top</td>\n",
              "      <td>1984-04-30</td>\n",
              "      <td>1984-04-30</td>\n",
              "      <td>28</td>\n",
              "      <td>Birdmad Girl - Remastered</td>\n",
              "      <td>0.760</td>\n",
              "      <td>0.798</td>\n",
              "      <td>B</td>\n",
              "      <td>-8.482</td>\n",
              "      <td>minor</td>\n",
              "      <td>0.0332</td>\n",
              "      <td>0.002720</td>\n",
              "      <td>0.0002</td>\n",
              "      <td>0.0753</td>\n",
              "      <td>0.818</td>\n",
              "      <td>119.770</td>\n",
              "      <td>245413</td>\n",
              "      <td>4</td>\n",
              "      <td>B minor</td>\n",
              "      <td>20</td>\n",
              "    </tr>\n",
              "  </tbody>\n",
              "</table>\n",
              "</div>"
            ],
            "text/plain": [
              "    album_name album_release_date  ...  key_mode  track_popularity\n",
              "0  Pornography         1982-05-03  ...   G major                33\n",
              "1  Pornography         1982-05-03  ...   C major                28\n",
              "2  Pornography         1982-05-03  ...   C major                35\n",
              "3  Pornography         1982-05-03  ...   D major                34\n",
              "4  Pornography         1982-05-03  ...  A# minor                28\n",
              "5  Pornography         1982-05-03  ...   A minor                31\n",
              "6  Pornography         1982-05-03  ...  A# minor                31\n",
              "7  Pornography         1982-05-03  ...  A# major                25\n",
              "8      The Top         1984-04-30  ...   C major                22\n",
              "9      The Top         1984-04-30  ...   B minor                20\n",
              "\n",
              "[10 rows x 20 columns]"
            ]
          },
          "metadata": {
            "tags": []
          },
          "execution_count": 130
        }
      ]
    },
    {
      "cell_type": "markdown",
      "metadata": {
        "id": "17b1df44"
      },
      "source": [
        "## Verificando os dados estatísticos das colunas"
      ],
      "id": "17b1df44"
    },
    {
      "cell_type": "code",
      "metadata": {
        "colab": {
          "base_uri": "https://localhost:8080/",
          "height": 314
        },
        "id": "4542335d",
        "outputId": "cc76a091-9014-4e6d-9d92-1aebe00e022c"
      },
      "source": [
        "discografia.describe()"
      ],
      "id": "4542335d",
      "execution_count": 131,
      "outputs": [
        {
          "output_type": "execute_result",
          "data": {
            "text/html": [
              "<div>\n",
              "<style scoped>\n",
              "    .dataframe tbody tr th:only-of-type {\n",
              "        vertical-align: middle;\n",
              "    }\n",
              "\n",
              "    .dataframe tbody tr th {\n",
              "        vertical-align: top;\n",
              "    }\n",
              "\n",
              "    .dataframe thead th {\n",
              "        text-align: right;\n",
              "    }\n",
              "</style>\n",
              "<table border=\"1\" class=\"dataframe\">\n",
              "  <thead>\n",
              "    <tr style=\"text-align: right;\">\n",
              "      <th></th>\n",
              "      <th>album_popularity</th>\n",
              "      <th>danceability</th>\n",
              "      <th>energy</th>\n",
              "      <th>loudness</th>\n",
              "      <th>speechiness</th>\n",
              "      <th>acousticness</th>\n",
              "      <th>instrumentalness</th>\n",
              "      <th>liveness</th>\n",
              "      <th>valence</th>\n",
              "      <th>tempo</th>\n",
              "      <th>duration_ms</th>\n",
              "      <th>time_signature</th>\n",
              "      <th>track_popularity</th>\n",
              "    </tr>\n",
              "  </thead>\n",
              "  <tbody>\n",
              "    <tr>\n",
              "      <th>count</th>\n",
              "      <td>223.000000</td>\n",
              "      <td>223.000000</td>\n",
              "      <td>223.000000</td>\n",
              "      <td>223.000000</td>\n",
              "      <td>223.000000</td>\n",
              "      <td>223.000000</td>\n",
              "      <td>223.000000</td>\n",
              "      <td>223.000000</td>\n",
              "      <td>223.000000</td>\n",
              "      <td>223.000000</td>\n",
              "      <td>2.230000e+02</td>\n",
              "      <td>223.000000</td>\n",
              "      <td>223.000000</td>\n",
              "    </tr>\n",
              "    <tr>\n",
              "      <th>mean</th>\n",
              "      <td>33.215247</td>\n",
              "      <td>0.520341</td>\n",
              "      <td>0.768982</td>\n",
              "      <td>-8.486027</td>\n",
              "      <td>0.049394</td>\n",
              "      <td>0.149261</td>\n",
              "      <td>0.233470</td>\n",
              "      <td>0.403882</td>\n",
              "      <td>0.503273</td>\n",
              "      <td>129.404668</td>\n",
              "      <td>2.919564e+05</td>\n",
              "      <td>3.955157</td>\n",
              "      <td>22.941704</td>\n",
              "    </tr>\n",
              "    <tr>\n",
              "      <th>std</th>\n",
              "      <td>10.637700</td>\n",
              "      <td>0.135878</td>\n",
              "      <td>0.157281</td>\n",
              "      <td>3.847060</td>\n",
              "      <td>0.031209</td>\n",
              "      <td>0.182739</td>\n",
              "      <td>0.295339</td>\n",
              "      <td>0.326814</td>\n",
              "      <td>0.210575</td>\n",
              "      <td>29.393823</td>\n",
              "      <td>1.185817e+05</td>\n",
              "      <td>0.281178</td>\n",
              "      <td>10.092867</td>\n",
              "    </tr>\n",
              "    <tr>\n",
              "      <th>min</th>\n",
              "      <td>11.000000</td>\n",
              "      <td>0.175000</td>\n",
              "      <td>0.284000</td>\n",
              "      <td>-24.265000</td>\n",
              "      <td>0.023300</td>\n",
              "      <td>0.000030</td>\n",
              "      <td>0.000000</td>\n",
              "      <td>0.038900</td>\n",
              "      <td>0.042200</td>\n",
              "      <td>74.919000</td>\n",
              "      <td>1.404670e+05</td>\n",
              "      <td>1.000000</td>\n",
              "      <td>0.000000</td>\n",
              "    </tr>\n",
              "    <tr>\n",
              "      <th>25%</th>\n",
              "      <td>28.000000</td>\n",
              "      <td>0.431000</td>\n",
              "      <td>0.674500</td>\n",
              "      <td>-11.356000</td>\n",
              "      <td>0.032450</td>\n",
              "      <td>0.012700</td>\n",
              "      <td>0.001285</td>\n",
              "      <td>0.117500</td>\n",
              "      <td>0.343500</td>\n",
              "      <td>108.812000</td>\n",
              "      <td>2.163630e+05</td>\n",
              "      <td>4.000000</td>\n",
              "      <td>17.000000</td>\n",
              "    </tr>\n",
              "    <tr>\n",
              "      <th>50%</th>\n",
              "      <td>34.000000</td>\n",
              "      <td>0.528000</td>\n",
              "      <td>0.805000</td>\n",
              "      <td>-7.727000</td>\n",
              "      <td>0.040500</td>\n",
              "      <td>0.067400</td>\n",
              "      <td>0.060600</td>\n",
              "      <td>0.300000</td>\n",
              "      <td>0.506000</td>\n",
              "      <td>128.105000</td>\n",
              "      <td>2.624930e+05</td>\n",
              "      <td>4.000000</td>\n",
              "      <td>22.000000</td>\n",
              "    </tr>\n",
              "    <tr>\n",
              "      <th>75%</th>\n",
              "      <td>38.000000</td>\n",
              "      <td>0.608000</td>\n",
              "      <td>0.900000</td>\n",
              "      <td>-5.750500</td>\n",
              "      <td>0.051400</td>\n",
              "      <td>0.218000</td>\n",
              "      <td>0.457000</td>\n",
              "      <td>0.694500</td>\n",
              "      <td>0.658000</td>\n",
              "      <td>150.101500</td>\n",
              "      <td>3.443530e+05</td>\n",
              "      <td>4.000000</td>\n",
              "      <td>28.000000</td>\n",
              "    </tr>\n",
              "    <tr>\n",
              "      <th>max</th>\n",
              "      <td>52.000000</td>\n",
              "      <td>0.848000</td>\n",
              "      <td>0.998000</td>\n",
              "      <td>-1.378000</td>\n",
              "      <td>0.267000</td>\n",
              "      <td>0.759000</td>\n",
              "      <td>0.933000</td>\n",
              "      <td>1.000000</td>\n",
              "      <td>0.960000</td>\n",
              "      <td>204.468000</td>\n",
              "      <td>1.286600e+06</td>\n",
              "      <td>5.000000</td>\n",
              "      <td>62.000000</td>\n",
              "    </tr>\n",
              "  </tbody>\n",
              "</table>\n",
              "</div>"
            ],
            "text/plain": [
              "       album_popularity  danceability  ...  time_signature  track_popularity\n",
              "count        223.000000    223.000000  ...      223.000000        223.000000\n",
              "mean          33.215247      0.520341  ...        3.955157         22.941704\n",
              "std           10.637700      0.135878  ...        0.281178         10.092867\n",
              "min           11.000000      0.175000  ...        1.000000          0.000000\n",
              "25%           28.000000      0.431000  ...        4.000000         17.000000\n",
              "50%           34.000000      0.528000  ...        4.000000         22.000000\n",
              "75%           38.000000      0.608000  ...        4.000000         28.000000\n",
              "max           52.000000      0.848000  ...        5.000000         62.000000\n",
              "\n",
              "[8 rows x 13 columns]"
            ]
          },
          "metadata": {
            "tags": []
          },
          "execution_count": 131
        }
      ]
    },
    {
      "cell_type": "markdown",
      "metadata": {
        "id": "wdLNFVzhZqQX"
      },
      "source": [
        "# Criando as funções"
      ],
      "id": "wdLNFVzhZqQX"
    },
    {
      "cell_type": "code",
      "metadata": {
        "id": "JANsy1s0_vhC"
      },
      "source": [
        "def media(variavel):\n",
        "  media_album = discografia.groupby('album_name').mean()[variavel].to_frame().reset_index()\n",
        "  media_album = media_album.sort_values(variavel, ascending = False)\n",
        "  return media_album"
      ],
      "id": "JANsy1s0_vhC",
      "execution_count": 132,
      "outputs": []
    },
    {
      "cell_type": "code",
      "metadata": {
        "id": "5c3fd5cf"
      },
      "source": [
        "def plotar(titulo, x, y, labelx, labely, variavel):\n",
        "    dataset = media(variavel)\n",
        "    grafico = sns.barplot(x = x, y = y, data = dataset, palette = 'Blues_d')\n",
        "    grafico.figure.set_size_inches(12,6)\n",
        "    grafico.set_title(titulo, fontsize = 18)\n",
        "    grafico.set_xlabel(labelx, fontsize = 12)\n",
        "    grafico.set_ylabel(labely, fontsize = 12)\n",
        "    grafico = grafico"
      ],
      "id": "5c3fd5cf",
      "execution_count": 133,
      "outputs": []
    },
    {
      "cell_type": "code",
      "metadata": {
        "id": "Y7Kuj73sCLJG"
      },
      "source": [
        "def top_musicas_sup(variavel1):\n",
        "  max_musica = discografia[['track_name', 'album_name', variavel1]]\n",
        "  max_musica = max_musica.sort_values(variavel1, ascending = False)\n",
        "  max_musica = max_musica.head(10)\n",
        "  return max_musica"
      ],
      "id": "Y7Kuj73sCLJG",
      "execution_count": 134,
      "outputs": []
    },
    {
      "cell_type": "code",
      "metadata": {
        "id": "PsDQZiKhCxbT"
      },
      "source": [
        "def top_musicas_inf(variavel2):\n",
        "  min_musica = discografia[['track_name', 'album_name', variavel2]]\n",
        "  min_musica = min_musica.sort_values(variavel2, ascending = True)\n",
        "  min_musica = min_musica.head(10)\n",
        "  return min_musica"
      ],
      "id": "PsDQZiKhCxbT",
      "execution_count": 135,
      "outputs": []
    },
    {
      "cell_type": "markdown",
      "metadata": {
        "id": "CLyEhkvOHEyJ"
      },
      "source": [
        "# Índice de presença de público (liveness)"
      ],
      "id": "CLyEhkvOHEyJ"
    },
    {
      "cell_type": "markdown",
      "metadata": {
        "id": "nL3sC56EHNZy"
      },
      "source": [
        "### Média de índice de presença de público por álbum"
      ],
      "id": "nL3sC56EHNZy"
    },
    {
      "cell_type": "code",
      "metadata": {
        "colab": {
          "base_uri": "https://localhost:8080/",
          "height": 538
        },
        "id": "Xg__oJplHL9W",
        "outputId": "5223cba7-bda9-47d6-c868-329f4b66f33f"
      },
      "source": [
        "media('liveness')"
      ],
      "id": "Xg__oJplHL9W",
      "execution_count": 136,
      "outputs": [
        {
          "output_type": "execute_result",
          "data": {
            "text/html": [
              "<div>\n",
              "<style scoped>\n",
              "    .dataframe tbody tr th:only-of-type {\n",
              "        vertical-align: middle;\n",
              "    }\n",
              "\n",
              "    .dataframe tbody tr th {\n",
              "        vertical-align: top;\n",
              "    }\n",
              "\n",
              "    .dataframe thead th {\n",
              "        text-align: right;\n",
              "    }\n",
              "</style>\n",
              "<table border=\"1\" class=\"dataframe\">\n",
              "  <thead>\n",
              "    <tr style=\"text-align: right;\">\n",
              "      <th></th>\n",
              "      <th>album_name</th>\n",
              "      <th>liveness</th>\n",
              "    </tr>\n",
              "  </thead>\n",
              "  <tbody>\n",
              "    <tr>\n",
              "      <th>8</th>\n",
              "      <td>Paris</td>\n",
              "      <td>0.980417</td>\n",
              "    </tr>\n",
              "    <tr>\n",
              "      <th>10</th>\n",
              "      <td>Show</td>\n",
              "      <td>0.829889</td>\n",
              "    </tr>\n",
              "    <tr>\n",
              "      <th>1</th>\n",
              "      <td>Bestival Live 2011</td>\n",
              "      <td>0.825100</td>\n",
              "    </tr>\n",
              "    <tr>\n",
              "      <th>3</th>\n",
              "      <td>Concert - The Cure Live</td>\n",
              "      <td>0.747200</td>\n",
              "    </tr>\n",
              "    <tr>\n",
              "      <th>6</th>\n",
              "      <td>Kiss Me Kiss Me Kiss Me</td>\n",
              "      <td>0.338290</td>\n",
              "    </tr>\n",
              "    <tr>\n",
              "      <th>5</th>\n",
              "      <td>Hypnagogic States</td>\n",
              "      <td>0.301900</td>\n",
              "    </tr>\n",
              "    <tr>\n",
              "      <th>14</th>\n",
              "      <td>Wild Mood Swings</td>\n",
              "      <td>0.286521</td>\n",
              "    </tr>\n",
              "    <tr>\n",
              "      <th>11</th>\n",
              "      <td>The Cure</td>\n",
              "      <td>0.255964</td>\n",
              "    </tr>\n",
              "    <tr>\n",
              "      <th>13</th>\n",
              "      <td>The Top</td>\n",
              "      <td>0.246745</td>\n",
              "    </tr>\n",
              "    <tr>\n",
              "      <th>15</th>\n",
              "      <td>Wish</td>\n",
              "      <td>0.245667</td>\n",
              "    </tr>\n",
              "    <tr>\n",
              "      <th>0</th>\n",
              "      <td>4:13 Dream</td>\n",
              "      <td>0.242315</td>\n",
              "    </tr>\n",
              "    <tr>\n",
              "      <th>2</th>\n",
              "      <td>Bloodflowers</td>\n",
              "      <td>0.224300</td>\n",
              "    </tr>\n",
              "    <tr>\n",
              "      <th>7</th>\n",
              "      <td>Mixed Up (Remastered 2018 / Deluxe Edition)</td>\n",
              "      <td>0.214690</td>\n",
              "    </tr>\n",
              "    <tr>\n",
              "      <th>4</th>\n",
              "      <td>Disintegration (Deluxe Edition [Remastered])</td>\n",
              "      <td>0.192330</td>\n",
              "    </tr>\n",
              "    <tr>\n",
              "      <th>9</th>\n",
              "      <td>Pornography</td>\n",
              "      <td>0.181562</td>\n",
              "    </tr>\n",
              "    <tr>\n",
              "      <th>12</th>\n",
              "      <td>The Head On The Door</td>\n",
              "      <td>0.133990</td>\n",
              "    </tr>\n",
              "  </tbody>\n",
              "</table>\n",
              "</div>"
            ],
            "text/plain": [
              "                                      album_name  liveness\n",
              "8                                          Paris  0.980417\n",
              "10                                          Show  0.829889\n",
              "1                             Bestival Live 2011  0.825100\n",
              "3                        Concert - The Cure Live  0.747200\n",
              "6                        Kiss Me Kiss Me Kiss Me  0.338290\n",
              "5                              Hypnagogic States  0.301900\n",
              "14                              Wild Mood Swings  0.286521\n",
              "11                                      The Cure  0.255964\n",
              "13                                       The Top  0.246745\n",
              "15                                          Wish  0.245667\n",
              "0                                     4:13 Dream  0.242315\n",
              "2                                   Bloodflowers  0.224300\n",
              "7    Mixed Up (Remastered 2018 / Deluxe Edition)  0.214690\n",
              "4   Disintegration (Deluxe Edition [Remastered])  0.192330\n",
              "9                                    Pornography  0.181562\n",
              "12                          The Head On The Door  0.133990"
            ]
          },
          "metadata": {
            "tags": []
          },
          "execution_count": 136
        }
      ]
    },
    {
      "cell_type": "markdown",
      "metadata": {
        "id": "dUeNWS3nHosR"
      },
      "source": [
        "### Gráfico da média do índice de presença de público por álbum"
      ],
      "id": "dUeNWS3nHosR"
    },
    {
      "cell_type": "code",
      "metadata": {
        "colab": {
          "base_uri": "https://localhost:8080/",
          "height": 414
        },
        "id": "X_8QLW_5HYKV",
        "outputId": "0737f968-34df-4d52-95f8-1500f8758d0c"
      },
      "source": [
        "plotar('Índice de Presença de Público por Álbum', 'liveness', 'album_name', 'Média Índice de Presença de Público', 'Nome do Álbum', 'liveness')"
      ],
      "id": "X_8QLW_5HYKV",
      "execution_count": 137,
      "outputs": [
        {
          "output_type": "display_data",
          "data": {
            "image/png": "[encoded data removed]",
            "text/plain": [
              "<Figure size 864x432 with 1 Axes>"
            ]
          },
          "metadata": {
            "tags": [],
            "needs_background": "light"
          }
        }
      ]
    },
    {
      "cell_type": "markdown",
      "metadata": {
        "id": "-wfK1uycSt1Z"
      },
      "source": [
        "### Top 10 músicas com maior índice de presença de público"
      ],
      "id": "-wfK1uycSt1Z"
    },
    {
      "cell_type": "code",
      "metadata": {
        "id": "6Gdl_hlNH-8Z",
        "colab": {
          "base_uri": "https://localhost:8080/",
          "height": 355
        },
        "outputId": "6c42a59a-12dd-4c4f-d41e-b5ab57bb0ff9"
      },
      "source": [
        "top_musicas_sup('liveness')"
      ],
      "id": "6Gdl_hlNH-8Z",
      "execution_count": 138,
      "outputs": [
        {
          "output_type": "execute_result",
          "data": {
            "text/html": [
              "<div>\n",
              "<style scoped>\n",
              "    .dataframe tbody tr th:only-of-type {\n",
              "        vertical-align: middle;\n",
              "    }\n",
              "\n",
              "    .dataframe tbody tr th {\n",
              "        vertical-align: top;\n",
              "    }\n",
              "\n",
              "    .dataframe thead th {\n",
              "        text-align: right;\n",
              "    }\n",
              "</style>\n",
              "<table border=\"1\" class=\"dataframe\">\n",
              "  <thead>\n",
              "    <tr style=\"text-align: right;\">\n",
              "      <th></th>\n",
              "      <th>track_name</th>\n",
              "      <th>album_name</th>\n",
              "      <th>liveness</th>\n",
              "    </tr>\n",
              "  </thead>\n",
              "  <tbody>\n",
              "    <tr>\n",
              "      <th>130</th>\n",
              "      <td>Charlotte Sometimes - Live Paris Version</td>\n",
              "      <td>Paris</td>\n",
              "      <td>1.000</td>\n",
              "    </tr>\n",
              "    <tr>\n",
              "      <th>211</th>\n",
              "      <td>The Walk - Bestival Live 2011</td>\n",
              "      <td>Bestival Live 2011</td>\n",
              "      <td>0.997</td>\n",
              "    </tr>\n",
              "    <tr>\n",
              "      <th>125</th>\n",
              "      <td>In Your House - Live Paris Version</td>\n",
              "      <td>Paris</td>\n",
              "      <td>0.993</td>\n",
              "    </tr>\n",
              "    <tr>\n",
              "      <th>131</th>\n",
              "      <td>Close To Me - Live Paris Version</td>\n",
              "      <td>Paris</td>\n",
              "      <td>0.992</td>\n",
              "    </tr>\n",
              "    <tr>\n",
              "      <th>122</th>\n",
              "      <td>At Night - Live Paris Version</td>\n",
              "      <td>Paris</td>\n",
              "      <td>0.991</td>\n",
              "    </tr>\n",
              "    <tr>\n",
              "      <th>220</th>\n",
              "      <td>One Hundred Years - Bestival Live 2011</td>\n",
              "      <td>Bestival Live 2011</td>\n",
              "      <td>0.988</td>\n",
              "    </tr>\n",
              "    <tr>\n",
              "      <th>217</th>\n",
              "      <td>Primary - Bestival Live 2011</td>\n",
              "      <td>Bestival Live 2011</td>\n",
              "      <td>0.988</td>\n",
              "    </tr>\n",
              "    <tr>\n",
              "      <th>36</th>\n",
              "      <td>10:15 Saturday Night - New Version / Live Vers...</td>\n",
              "      <td>Concert - The Cure Live</td>\n",
              "      <td>0.988</td>\n",
              "    </tr>\n",
              "    <tr>\n",
              "      <th>121</th>\n",
              "      <td>One Hundred Years - Live Paris Version</td>\n",
              "      <td>Paris</td>\n",
              "      <td>0.987</td>\n",
              "    </tr>\n",
              "    <tr>\n",
              "      <th>222</th>\n",
              "      <td>Disintegration - Bestival Live 2011</td>\n",
              "      <td>Bestival Live 2011</td>\n",
              "      <td>0.984</td>\n",
              "    </tr>\n",
              "  </tbody>\n",
              "</table>\n",
              "</div>"
            ],
            "text/plain": [
              "                                            track_name  ... liveness\n",
              "130           Charlotte Sometimes - Live Paris Version  ...    1.000\n",
              "211                      The Walk - Bestival Live 2011  ...    0.997\n",
              "125                 In Your House - Live Paris Version  ...    0.993\n",
              "131                   Close To Me - Live Paris Version  ...    0.992\n",
              "122                      At Night - Live Paris Version  ...    0.991\n",
              "220             One Hundred Years - Bestival Live 2011  ...    0.988\n",
              "217                       Primary - Bestival Live 2011  ...    0.988\n",
              "36   10:15 Saturday Night - New Version / Live Vers...  ...    0.988\n",
              "121             One Hundred Years - Live Paris Version  ...    0.987\n",
              "222                Disintegration - Bestival Live 2011  ...    0.984\n",
              "\n",
              "[10 rows x 3 columns]"
            ]
          },
          "metadata": {
            "tags": []
          },
          "execution_count": 138
        }
      ]
    },
    {
      "cell_type": "markdown",
      "metadata": {
        "id": "cSoPJ7XdS7BU"
      },
      "source": [
        "### Top 10 músicas com menor índice de presença de público"
      ],
      "id": "cSoPJ7XdS7BU"
    },
    {
      "cell_type": "code",
      "metadata": {
        "colab": {
          "base_uri": "https://localhost:8080/",
          "height": 355
        },
        "id": "ff_7Os2US44p",
        "outputId": "6228ee34-345e-4c90-d055-33da0fe77bff"
      },
      "source": [
        "top_musicas_inf('liveness')"
      ],
      "id": "ff_7Os2US44p",
      "execution_count": 139,
      "outputs": [
        {
          "output_type": "execute_result",
          "data": {
            "text/html": [
              "<div>\n",
              "<style scoped>\n",
              "    .dataframe tbody tr th:only-of-type {\n",
              "        vertical-align: middle;\n",
              "    }\n",
              "\n",
              "    .dataframe tbody tr th {\n",
              "        vertical-align: top;\n",
              "    }\n",
              "\n",
              "    .dataframe thead th {\n",
              "        text-align: right;\n",
              "    }\n",
              "</style>\n",
              "<table border=\"1\" class=\"dataframe\">\n",
              "  <thead>\n",
              "    <tr style=\"text-align: right;\">\n",
              "      <th></th>\n",
              "      <th>track_name</th>\n",
              "      <th>album_name</th>\n",
              "      <th>liveness</th>\n",
              "    </tr>\n",
              "  </thead>\n",
              "  <tbody>\n",
              "    <tr>\n",
              "      <th>88</th>\n",
              "      <td>Lullaby - Extended Mix</td>\n",
              "      <td>Mixed Up (Remastered 2018 / Deluxe Edition)</td>\n",
              "      <td>0.0389</td>\n",
              "    </tr>\n",
              "    <tr>\n",
              "      <th>58</th>\n",
              "      <td>Hot Hot Hot !!! - 2006 Remastered Version</td>\n",
              "      <td>Kiss Me Kiss Me Kiss Me</td>\n",
              "      <td>0.0426</td>\n",
              "    </tr>\n",
              "    <tr>\n",
              "      <th>94</th>\n",
              "      <td>Pictures Of You - Extended Dub Mix</td>\n",
              "      <td>Mixed Up (Remastered 2018 / Deluxe Edition)</td>\n",
              "      <td>0.0543</td>\n",
              "    </tr>\n",
              "    <tr>\n",
              "      <th>73</th>\n",
              "      <td>Lullaby</td>\n",
              "      <td>Disintegration (Deluxe Edition [Remastered])</td>\n",
              "      <td>0.0550</td>\n",
              "    </tr>\n",
              "    <tr>\n",
              "      <th>99</th>\n",
              "      <td>Let's Go To Bed - Extended Mix 1982</td>\n",
              "      <td>Mixed Up (Remastered 2018 / Deluxe Edition)</td>\n",
              "      <td>0.0551</td>\n",
              "    </tr>\n",
              "    <tr>\n",
              "      <th>109</th>\n",
              "      <td>High</td>\n",
              "      <td>Wish</td>\n",
              "      <td>0.0594</td>\n",
              "    </tr>\n",
              "    <tr>\n",
              "      <th>90</th>\n",
              "      <td>Fascination Street - Extended Mix</td>\n",
              "      <td>Mixed Up (Remastered 2018 / Deluxe Edition)</td>\n",
              "      <td>0.0596</td>\n",
              "    </tr>\n",
              "    <tr>\n",
              "      <th>89</th>\n",
              "      <td>Close To Me - Closer Mix</td>\n",
              "      <td>Mixed Up (Remastered 2018 / Deluxe Edition)</td>\n",
              "      <td>0.0602</td>\n",
              "    </tr>\n",
              "    <tr>\n",
              "      <th>177</th>\n",
              "      <td>Anniversary</td>\n",
              "      <td>The Cure</td>\n",
              "      <td>0.0656</td>\n",
              "    </tr>\n",
              "    <tr>\n",
              "      <th>163</th>\n",
              "      <td>Bare</td>\n",
              "      <td>Wild Mood Swings</td>\n",
              "      <td>0.0710</td>\n",
              "    </tr>\n",
              "  </tbody>\n",
              "</table>\n",
              "</div>"
            ],
            "text/plain": [
              "                                    track_name  ... liveness\n",
              "88                      Lullaby - Extended Mix  ...   0.0389\n",
              "58   Hot Hot Hot !!! - 2006 Remastered Version  ...   0.0426\n",
              "94          Pictures Of You - Extended Dub Mix  ...   0.0543\n",
              "73                                     Lullaby  ...   0.0550\n",
              "99         Let's Go To Bed - Extended Mix 1982  ...   0.0551\n",
              "109                                       High  ...   0.0594\n",
              "90           Fascination Street - Extended Mix  ...   0.0596\n",
              "89                    Close To Me - Closer Mix  ...   0.0602\n",
              "177                                Anniversary  ...   0.0656\n",
              "163                                       Bare  ...   0.0710\n",
              "\n",
              "[10 rows x 3 columns]"
            ]
          },
          "metadata": {
            "tags": []
          },
          "execution_count": 139
        }
      ]
    },
    {
      "cell_type": "markdown",
      "metadata": {
        "id": "CAZWaCXPTpHZ"
      },
      "source": [
        "# Valência (valence)"
      ],
      "id": "CAZWaCXPTpHZ"
    },
    {
      "cell_type": "markdown",
      "metadata": {
        "id": "Ru7zwz5ETrPp"
      },
      "source": [
        "### Média de valência por álbum"
      ],
      "id": "Ru7zwz5ETrPp"
    },
    {
      "cell_type": "code",
      "metadata": {
        "colab": {
          "base_uri": "https://localhost:8080/",
          "height": 538
        },
        "id": "IatBQOQLTA5h",
        "outputId": "12a88414-9299-4661-ce7a-6cd53a888147"
      },
      "source": [
        "media('valence')"
      ],
      "id": "IatBQOQLTA5h",
      "execution_count": 140,
      "outputs": [
        {
          "output_type": "execute_result",
          "data": {
            "text/html": [
              "<div>\n",
              "<style scoped>\n",
              "    .dataframe tbody tr th:only-of-type {\n",
              "        vertical-align: middle;\n",
              "    }\n",
              "\n",
              "    .dataframe tbody tr th {\n",
              "        vertical-align: top;\n",
              "    }\n",
              "\n",
              "    .dataframe thead th {\n",
              "        text-align: right;\n",
              "    }\n",
              "</style>\n",
              "<table border=\"1\" class=\"dataframe\">\n",
              "  <thead>\n",
              "    <tr style=\"text-align: right;\">\n",
              "      <th></th>\n",
              "      <th>album_name</th>\n",
              "      <th>valence</th>\n",
              "    </tr>\n",
              "  </thead>\n",
              "  <tbody>\n",
              "    <tr>\n",
              "      <th>12</th>\n",
              "      <td>The Head On The Door</td>\n",
              "      <td>0.728900</td>\n",
              "    </tr>\n",
              "    <tr>\n",
              "      <th>7</th>\n",
              "      <td>Mixed Up (Remastered 2018 / Deluxe Edition)</td>\n",
              "      <td>0.661900</td>\n",
              "    </tr>\n",
              "    <tr>\n",
              "      <th>6</th>\n",
              "      <td>Kiss Me Kiss Me Kiss Me</td>\n",
              "      <td>0.558050</td>\n",
              "    </tr>\n",
              "    <tr>\n",
              "      <th>13</th>\n",
              "      <td>The Top</td>\n",
              "      <td>0.550750</td>\n",
              "    </tr>\n",
              "    <tr>\n",
              "      <th>14</th>\n",
              "      <td>Wild Mood Swings</td>\n",
              "      <td>0.507571</td>\n",
              "    </tr>\n",
              "    <tr>\n",
              "      <th>9</th>\n",
              "      <td>Pornography</td>\n",
              "      <td>0.503875</td>\n",
              "    </tr>\n",
              "    <tr>\n",
              "      <th>15</th>\n",
              "      <td>Wish</td>\n",
              "      <td>0.495000</td>\n",
              "    </tr>\n",
              "    <tr>\n",
              "      <th>0</th>\n",
              "      <td>4:13 Dream</td>\n",
              "      <td>0.479515</td>\n",
              "    </tr>\n",
              "    <tr>\n",
              "      <th>5</th>\n",
              "      <td>Hypnagogic States</td>\n",
              "      <td>0.477667</td>\n",
              "    </tr>\n",
              "    <tr>\n",
              "      <th>4</th>\n",
              "      <td>Disintegration (Deluxe Edition [Remastered])</td>\n",
              "      <td>0.467750</td>\n",
              "    </tr>\n",
              "    <tr>\n",
              "      <th>11</th>\n",
              "      <td>The Cure</td>\n",
              "      <td>0.465364</td>\n",
              "    </tr>\n",
              "    <tr>\n",
              "      <th>1</th>\n",
              "      <td>Bestival Live 2011</td>\n",
              "      <td>0.457900</td>\n",
              "    </tr>\n",
              "    <tr>\n",
              "      <th>3</th>\n",
              "      <td>Concert - The Cure Live</td>\n",
              "      <td>0.448720</td>\n",
              "    </tr>\n",
              "    <tr>\n",
              "      <th>8</th>\n",
              "      <td>Paris</td>\n",
              "      <td>0.442583</td>\n",
              "    </tr>\n",
              "    <tr>\n",
              "      <th>2</th>\n",
              "      <td>Bloodflowers</td>\n",
              "      <td>0.424889</td>\n",
              "    </tr>\n",
              "    <tr>\n",
              "      <th>10</th>\n",
              "      <td>Show</td>\n",
              "      <td>0.338667</td>\n",
              "    </tr>\n",
              "  </tbody>\n",
              "</table>\n",
              "</div>"
            ],
            "text/plain": [
              "                                      album_name   valence\n",
              "12                          The Head On The Door  0.728900\n",
              "7    Mixed Up (Remastered 2018 / Deluxe Edition)  0.661900\n",
              "6                        Kiss Me Kiss Me Kiss Me  0.558050\n",
              "13                                       The Top  0.550750\n",
              "14                              Wild Mood Swings  0.507571\n",
              "9                                    Pornography  0.503875\n",
              "15                                          Wish  0.495000\n",
              "0                                     4:13 Dream  0.479515\n",
              "5                              Hypnagogic States  0.477667\n",
              "4   Disintegration (Deluxe Edition [Remastered])  0.467750\n",
              "11                                      The Cure  0.465364\n",
              "1                             Bestival Live 2011  0.457900\n",
              "3                        Concert - The Cure Live  0.448720\n",
              "8                                          Paris  0.442583\n",
              "2                                   Bloodflowers  0.424889\n",
              "10                                          Show  0.338667"
            ]
          },
          "metadata": {
            "tags": []
          },
          "execution_count": 140
        }
      ]
    },
    {
      "cell_type": "markdown",
      "metadata": {
        "id": "g1htDCekUmAK"
      },
      "source": [
        "### Gráfico da média de valência por álbum"
      ],
      "id": "g1htDCekUmAK"
    },
    {
      "cell_type": "code",
      "metadata": {
        "colab": {
          "base_uri": "https://localhost:8080/",
          "height": 414
        },
        "id": "6PZ9KFN4Ujj9",
        "outputId": "e456e79d-c162-443f-a5e1-1f352054c206"
      },
      "source": [
        "plotar('Valência por Álbum', 'valence', 'album_name', 'Média Valência', 'Nome do Álbum', 'valence')"
      ],
      "id": "6PZ9KFN4Ujj9",
      "execution_count": 141,
      "outputs": [
        {
          "output_type": "display_data",
          "data": {
            "image/png": "[encoded data removed]",
            "text/plain": [
              "<Figure size 864x432 with 1 Axes>"
            ]
          },
          "metadata": {
            "tags": [],
            "needs_background": "light"
          }
        }
      ]
    },
    {
      "cell_type": "markdown",
      "metadata": {
        "id": "zCKV0EdaU5Hw"
      },
      "source": [
        "### Top 10 músicas com maior valência"
      ],
      "id": "zCKV0EdaU5Hw"
    },
    {
      "cell_type": "code",
      "metadata": {
        "colab": {
          "base_uri": "https://localhost:8080/",
          "height": 355
        },
        "id": "MeEyzjFSU2DT",
        "outputId": "903ece91-b410-4d8f-8d7c-8723870e9605"
      },
      "source": [
        "top_musicas_sup('valence')"
      ],
      "id": "MeEyzjFSU2DT",
      "execution_count": 142,
      "outputs": [
        {
          "output_type": "execute_result",
          "data": {
            "text/html": [
              "<div>\n",
              "<style scoped>\n",
              "    .dataframe tbody tr th:only-of-type {\n",
              "        vertical-align: middle;\n",
              "    }\n",
              "\n",
              "    .dataframe tbody tr th {\n",
              "        vertical-align: top;\n",
              "    }\n",
              "\n",
              "    .dataframe thead th {\n",
              "        text-align: right;\n",
              "    }\n",
              "</style>\n",
              "<table border=\"1\" class=\"dataframe\">\n",
              "  <thead>\n",
              "    <tr style=\"text-align: right;\">\n",
              "      <th></th>\n",
              "      <th>track_name</th>\n",
              "      <th>album_name</th>\n",
              "      <th>valence</th>\n",
              "    </tr>\n",
              "  </thead>\n",
              "  <tbody>\n",
              "    <tr>\n",
              "      <th>44</th>\n",
              "      <td>Close To Me</td>\n",
              "      <td>The Head On The Door</td>\n",
              "      <td>0.960</td>\n",
              "    </tr>\n",
              "    <tr>\n",
              "      <th>101</th>\n",
              "      <td>Close To Me - Extended Mix 1985</td>\n",
              "      <td>Mixed Up (Remastered 2018 / Deluxe Edition)</td>\n",
              "      <td>0.948</td>\n",
              "    </tr>\n",
              "    <tr>\n",
              "      <th>26</th>\n",
              "      <td>Throw Your Foot [Garden /Eden Studios RS&amp;AA De...</td>\n",
              "      <td>The Top</td>\n",
              "      <td>0.944</td>\n",
              "    </tr>\n",
              "    <tr>\n",
              "      <th>43</th>\n",
              "      <td>The Baby Screams</td>\n",
              "      <td>The Head On The Door</td>\n",
              "      <td>0.882</td>\n",
              "    </tr>\n",
              "    <tr>\n",
              "      <th>131</th>\n",
              "      <td>Close To Me - Live Paris Version</td>\n",
              "      <td>Paris</td>\n",
              "      <td>0.881</td>\n",
              "    </tr>\n",
              "    <tr>\n",
              "      <th>13</th>\n",
              "      <td>The Caterpillar - Remastered Version</td>\n",
              "      <td>The Top</td>\n",
              "      <td>0.870</td>\n",
              "    </tr>\n",
              "    <tr>\n",
              "      <th>193</th>\n",
              "      <td>Freakshow</td>\n",
              "      <td>4:13 Dream</td>\n",
              "      <td>0.869</td>\n",
              "    </tr>\n",
              "    <tr>\n",
              "      <th>93</th>\n",
              "      <td>A Forest - Tree Mix</td>\n",
              "      <td>Mixed Up (Remastered 2018 / Deluxe Edition)</td>\n",
              "      <td>0.864</td>\n",
              "    </tr>\n",
              "    <tr>\n",
              "      <th>27</th>\n",
              "      <td>Happy The Man [Garden /Eden Studios RS&amp;AA Demo...</td>\n",
              "      <td>The Top</td>\n",
              "      <td>0.864</td>\n",
              "    </tr>\n",
              "    <tr>\n",
              "      <th>55</th>\n",
              "      <td>Hey You !!! - 2006 Remastered Version</td>\n",
              "      <td>Kiss Me Kiss Me Kiss Me</td>\n",
              "      <td>0.864</td>\n",
              "    </tr>\n",
              "  </tbody>\n",
              "</table>\n",
              "</div>"
            ],
            "text/plain": [
              "                                            track_name  ... valence\n",
              "44                                         Close To Me  ...   0.960\n",
              "101                    Close To Me - Extended Mix 1985  ...   0.948\n",
              "26   Throw Your Foot [Garden /Eden Studios RS&AA De...  ...   0.944\n",
              "43                                    The Baby Screams  ...   0.882\n",
              "131                   Close To Me - Live Paris Version  ...   0.881\n",
              "13                The Caterpillar - Remastered Version  ...   0.870\n",
              "193                                          Freakshow  ...   0.869\n",
              "93                                 A Forest - Tree Mix  ...   0.864\n",
              "27   Happy The Man [Garden /Eden Studios RS&AA Demo...  ...   0.864\n",
              "55               Hey You !!! - 2006 Remastered Version  ...   0.864\n",
              "\n",
              "[10 rows x 3 columns]"
            ]
          },
          "metadata": {
            "tags": []
          },
          "execution_count": 142
        }
      ]
    },
    {
      "cell_type": "markdown",
      "metadata": {
        "id": "TaEdFRlNVQbi"
      },
      "source": [
        "### Top 10 músicas com menor valência"
      ],
      "id": "TaEdFRlNVQbi"
    },
    {
      "cell_type": "code",
      "metadata": {
        "colab": {
          "base_uri": "https://localhost:8080/",
          "height": 355
        },
        "id": "4rNc8a4KU-KD",
        "outputId": "865a600b-91b4-49f6-bccc-498ade0548cf"
      },
      "source": [
        "top_musicas_inf('valence')"
      ],
      "id": "4rNc8a4KU-KD",
      "execution_count": 143,
      "outputs": [
        {
          "output_type": "execute_result",
          "data": {
            "text/html": [
              "<div>\n",
              "<style scoped>\n",
              "    .dataframe tbody tr th:only-of-type {\n",
              "        vertical-align: middle;\n",
              "    }\n",
              "\n",
              "    .dataframe tbody tr th {\n",
              "        vertical-align: top;\n",
              "    }\n",
              "\n",
              "    .dataframe thead th {\n",
              "        text-align: right;\n",
              "    }\n",
              "</style>\n",
              "<table border=\"1\" class=\"dataframe\">\n",
              "  <thead>\n",
              "    <tr style=\"text-align: right;\">\n",
              "      <th></th>\n",
              "      <th>track_name</th>\n",
              "      <th>album_name</th>\n",
              "      <th>valence</th>\n",
              "    </tr>\n",
              "  </thead>\n",
              "  <tbody>\n",
              "    <tr>\n",
              "      <th>32</th>\n",
              "      <td>Give Me It - Live Version (1984)</td>\n",
              "      <td>Concert - The Cure Live</td>\n",
              "      <td>0.0422</td>\n",
              "    </tr>\n",
              "    <tr>\n",
              "      <th>201</th>\n",
              "      <td>The Scream</td>\n",
              "      <td>4:13 Dream</td>\n",
              "      <td>0.0447</td>\n",
              "    </tr>\n",
              "    <tr>\n",
              "      <th>75</th>\n",
              "      <td>Prayers For Rain</td>\n",
              "      <td>Disintegration (Deluxe Edition [Remastered])</td>\n",
              "      <td>0.1080</td>\n",
              "    </tr>\n",
              "    <tr>\n",
              "      <th>66</th>\n",
              "      <td>The Kiss [RS Home Demo 3/86] [Instrumental]</td>\n",
              "      <td>Kiss Me Kiss Me Kiss Me</td>\n",
              "      <td>0.1120</td>\n",
              "    </tr>\n",
              "    <tr>\n",
              "      <th>220</th>\n",
              "      <td>One Hundred Years - Bestival Live 2011</td>\n",
              "      <td>Bestival Live 2011</td>\n",
              "      <td>0.1240</td>\n",
              "    </tr>\n",
              "    <tr>\n",
              "      <th>68</th>\n",
              "      <td>Plainsong</td>\n",
              "      <td>Disintegration (Deluxe Edition [Remastered])</td>\n",
              "      <td>0.1250</td>\n",
              "    </tr>\n",
              "    <tr>\n",
              "      <th>77</th>\n",
              "      <td>Disintegration</td>\n",
              "      <td>Disintegration (Deluxe Edition [Remastered])</td>\n",
              "      <td>0.1250</td>\n",
              "    </tr>\n",
              "    <tr>\n",
              "      <th>11</th>\n",
              "      <td>Give Me It - Remastered</td>\n",
              "      <td>The Top</td>\n",
              "      <td>0.1290</td>\n",
              "    </tr>\n",
              "    <tr>\n",
              "      <th>17</th>\n",
              "      <td>The Top - Remastered</td>\n",
              "      <td>The Top</td>\n",
              "      <td>0.1330</td>\n",
              "    </tr>\n",
              "    <tr>\n",
              "      <th>188</th>\n",
              "      <td>Exploding Head Syndrome - 4 Single Remix by 65...</td>\n",
              "      <td>Hypnagogic States</td>\n",
              "      <td>0.1410</td>\n",
              "    </tr>\n",
              "  </tbody>\n",
              "</table>\n",
              "</div>"
            ],
            "text/plain": [
              "                                            track_name  ... valence\n",
              "32                    Give Me It - Live Version (1984)  ...  0.0422\n",
              "201                                         The Scream  ...  0.0447\n",
              "75                                    Prayers For Rain  ...  0.1080\n",
              "66         The Kiss [RS Home Demo 3/86] [Instrumental]  ...  0.1120\n",
              "220             One Hundred Years - Bestival Live 2011  ...  0.1240\n",
              "68                                           Plainsong  ...  0.1250\n",
              "77                                      Disintegration  ...  0.1250\n",
              "11                             Give Me It - Remastered  ...  0.1290\n",
              "17                                The Top - Remastered  ...  0.1330\n",
              "188  Exploding Head Syndrome - 4 Single Remix by 65...  ...  0.1410\n",
              "\n",
              "[10 rows x 3 columns]"
            ]
          },
          "metadata": {
            "tags": []
          },
          "execution_count": 143
        }
      ]
    },
    {
      "cell_type": "markdown",
      "metadata": {
        "id": "_tooVscifs3n"
      },
      "source": [
        "# Índice de partes cantadas (speechiness)"
      ],
      "id": "_tooVscifs3n"
    },
    {
      "cell_type": "markdown",
      "metadata": {
        "id": "zVRilvjIf2bN"
      },
      "source": [
        "### Média de partes cantadas por álbum"
      ],
      "id": "zVRilvjIf2bN"
    },
    {
      "cell_type": "code",
      "metadata": {
        "colab": {
          "base_uri": "https://localhost:8080/",
          "height": 538
        },
        "id": "aLs7m5U0ce3i",
        "outputId": "144dbb14-cbfc-472a-9b38-9c87e038c984"
      },
      "source": [
        "media('speechiness')"
      ],
      "id": "aLs7m5U0ce3i",
      "execution_count": 144,
      "outputs": [
        {
          "output_type": "execute_result",
          "data": {
            "text/html": [
              "<div>\n",
              "<style scoped>\n",
              "    .dataframe tbody tr th:only-of-type {\n",
              "        vertical-align: middle;\n",
              "    }\n",
              "\n",
              "    .dataframe tbody tr th {\n",
              "        vertical-align: top;\n",
              "    }\n",
              "\n",
              "    .dataframe thead th {\n",
              "        text-align: right;\n",
              "    }\n",
              "</style>\n",
              "<table border=\"1\" class=\"dataframe\">\n",
              "  <thead>\n",
              "    <tr style=\"text-align: right;\">\n",
              "      <th></th>\n",
              "      <th>album_name</th>\n",
              "      <th>speechiness</th>\n",
              "    </tr>\n",
              "  </thead>\n",
              "  <tbody>\n",
              "    <tr>\n",
              "      <th>5</th>\n",
              "      <td>Hypnagogic States</td>\n",
              "      <td>0.078467</td>\n",
              "    </tr>\n",
              "    <tr>\n",
              "      <th>0</th>\n",
              "      <td>4:13 Dream</td>\n",
              "      <td>0.078423</td>\n",
              "    </tr>\n",
              "    <tr>\n",
              "      <th>3</th>\n",
              "      <td>Concert - The Cure Live</td>\n",
              "      <td>0.059970</td>\n",
              "    </tr>\n",
              "    <tr>\n",
              "      <th>10</th>\n",
              "      <td>Show</td>\n",
              "      <td>0.054150</td>\n",
              "    </tr>\n",
              "    <tr>\n",
              "      <th>14</th>\n",
              "      <td>Wild Mood Swings</td>\n",
              "      <td>0.052629</td>\n",
              "    </tr>\n",
              "    <tr>\n",
              "      <th>11</th>\n",
              "      <td>The Cure</td>\n",
              "      <td>0.050555</td>\n",
              "    </tr>\n",
              "    <tr>\n",
              "      <th>7</th>\n",
              "      <td>Mixed Up (Remastered 2018 / Deluxe Edition)</td>\n",
              "      <td>0.050140</td>\n",
              "    </tr>\n",
              "    <tr>\n",
              "      <th>6</th>\n",
              "      <td>Kiss Me Kiss Me Kiss Me</td>\n",
              "      <td>0.049265</td>\n",
              "    </tr>\n",
              "    <tr>\n",
              "      <th>1</th>\n",
              "      <td>Bestival Live 2011</td>\n",
              "      <td>0.046835</td>\n",
              "    </tr>\n",
              "    <tr>\n",
              "      <th>13</th>\n",
              "      <td>The Top</td>\n",
              "      <td>0.046370</td>\n",
              "    </tr>\n",
              "    <tr>\n",
              "      <th>12</th>\n",
              "      <td>The Head On The Door</td>\n",
              "      <td>0.045550</td>\n",
              "    </tr>\n",
              "    <tr>\n",
              "      <th>4</th>\n",
              "      <td>Disintegration (Deluxe Edition [Remastered])</td>\n",
              "      <td>0.042935</td>\n",
              "    </tr>\n",
              "    <tr>\n",
              "      <th>9</th>\n",
              "      <td>Pornography</td>\n",
              "      <td>0.040388</td>\n",
              "    </tr>\n",
              "    <tr>\n",
              "      <th>8</th>\n",
              "      <td>Paris</td>\n",
              "      <td>0.035867</td>\n",
              "    </tr>\n",
              "    <tr>\n",
              "      <th>15</th>\n",
              "      <td>Wish</td>\n",
              "      <td>0.035508</td>\n",
              "    </tr>\n",
              "    <tr>\n",
              "      <th>2</th>\n",
              "      <td>Bloodflowers</td>\n",
              "      <td>0.034589</td>\n",
              "    </tr>\n",
              "  </tbody>\n",
              "</table>\n",
              "</div>"
            ],
            "text/plain": [
              "                                      album_name  speechiness\n",
              "5                              Hypnagogic States     0.078467\n",
              "0                                     4:13 Dream     0.078423\n",
              "3                        Concert - The Cure Live     0.059970\n",
              "10                                          Show     0.054150\n",
              "14                              Wild Mood Swings     0.052629\n",
              "11                                      The Cure     0.050555\n",
              "7    Mixed Up (Remastered 2018 / Deluxe Edition)     0.050140\n",
              "6                        Kiss Me Kiss Me Kiss Me     0.049265\n",
              "1                             Bestival Live 2011     0.046835\n",
              "13                                       The Top     0.046370\n",
              "12                          The Head On The Door     0.045550\n",
              "4   Disintegration (Deluxe Edition [Remastered])     0.042935\n",
              "9                                    Pornography     0.040388\n",
              "8                                          Paris     0.035867\n",
              "15                                          Wish     0.035508\n",
              "2                                   Bloodflowers     0.034589"
            ]
          },
          "metadata": {
            "tags": []
          },
          "execution_count": 144
        }
      ]
    },
    {
      "cell_type": "markdown",
      "metadata": {
        "id": "69c3Zp6ZgVmj"
      },
      "source": [
        "### Gráfico da média de partes cantadas por álbum"
      ],
      "id": "69c3Zp6ZgVmj"
    },
    {
      "cell_type": "code",
      "metadata": {
        "colab": {
          "base_uri": "https://localhost:8080/",
          "height": 414
        },
        "id": "l6A1rW0pgKjV",
        "outputId": "7be0dddc-ca0d-4831-82dc-cac37f2d2e96"
      },
      "source": [
        "plotar('Índice de Palavras Cantadas por Álbum', 'speechiness', 'album_name', 'Média Palavras Cantadas', 'Nome do Álbum', 'speechiness')"
      ],
      "id": "l6A1rW0pgKjV",
      "execution_count": 145,
      "outputs": [
        {
          "output_type": "display_data",
          "data": {
            "image/png": "[encoded data removed]",
            "text/plain": [
              "<Figure size 864x432 with 1 Axes>"
            ]
          },
          "metadata": {
            "tags": [],
            "needs_background": "light"
          }
        }
      ]
    },
    {
      "cell_type": "markdown",
      "metadata": {
        "id": "-vu-UiWg5PGa"
      },
      "source": [
        "### Top 10 músicas com mais partes cantadas"
      ],
      "id": "-vu-UiWg5PGa"
    },
    {
      "cell_type": "code",
      "metadata": {
        "colab": {
          "base_uri": "https://localhost:8080/",
          "height": 355
        },
        "id": "aAJhwf_Y5Shb",
        "outputId": "c6d264d3-e19c-4b75-889c-fe97f189cde1"
      },
      "source": [
        "top_musicas_sup('speechiness')"
      ],
      "id": "aAJhwf_Y5Shb",
      "execution_count": 146,
      "outputs": [
        {
          "output_type": "execute_result",
          "data": {
            "text/html": [
              "<div>\n",
              "<style scoped>\n",
              "    .dataframe tbody tr th:only-of-type {\n",
              "        vertical-align: middle;\n",
              "    }\n",
              "\n",
              "    .dataframe tbody tr th {\n",
              "        vertical-align: top;\n",
              "    }\n",
              "\n",
              "    .dataframe thead th {\n",
              "        text-align: right;\n",
              "    }\n",
              "</style>\n",
              "<table border=\"1\" class=\"dataframe\">\n",
              "  <thead>\n",
              "    <tr style=\"text-align: right;\">\n",
              "      <th></th>\n",
              "      <th>track_name</th>\n",
              "      <th>album_name</th>\n",
              "      <th>speechiness</th>\n",
              "    </tr>\n",
              "  </thead>\n",
              "  <tbody>\n",
              "    <tr>\n",
              "      <th>66</th>\n",
              "      <td>The Kiss [RS Home Demo 3/86] [Instrumental]</td>\n",
              "      <td>Kiss Me Kiss Me Kiss Me</td>\n",
              "      <td>0.267</td>\n",
              "    </tr>\n",
              "    <tr>\n",
              "      <th>201</th>\n",
              "      <td>The Scream</td>\n",
              "      <td>4:13 Dream</td>\n",
              "      <td>0.248</td>\n",
              "    </tr>\n",
              "    <tr>\n",
              "      <th>202</th>\n",
              "      <td>It's Over</td>\n",
              "      <td>4:13 Dream</td>\n",
              "      <td>0.168</td>\n",
              "    </tr>\n",
              "    <tr>\n",
              "      <th>11</th>\n",
              "      <td>Give Me It - Remastered</td>\n",
              "      <td>The Top</td>\n",
              "      <td>0.161</td>\n",
              "    </tr>\n",
              "    <tr>\n",
              "      <th>101</th>\n",
              "      <td>Close To Me - Extended Mix 1985</td>\n",
              "      <td>Mixed Up (Remastered 2018 / Deluxe Edition)</td>\n",
              "      <td>0.134</td>\n",
              "    </tr>\n",
              "    <tr>\n",
              "      <th>200</th>\n",
              "      <td>Sleep When I'm Dead</td>\n",
              "      <td>4:13 Dream</td>\n",
              "      <td>0.133</td>\n",
              "    </tr>\n",
              "    <tr>\n",
              "      <th>189</th>\n",
              "      <td>The Only One - Remix 65 by 65 Days Of Static</td>\n",
              "      <td>Hypnagogic States</td>\n",
              "      <td>0.130</td>\n",
              "    </tr>\n",
              "    <tr>\n",
              "      <th>197</th>\n",
              "      <td>Switch</td>\n",
              "      <td>4:13 Dream</td>\n",
              "      <td>0.123</td>\n",
              "    </tr>\n",
              "    <tr>\n",
              "      <th>44</th>\n",
              "      <td>Close To Me</td>\n",
              "      <td>The Head On The Door</td>\n",
              "      <td>0.123</td>\n",
              "    </tr>\n",
              "    <tr>\n",
              "      <th>151</th>\n",
              "      <td>Club America</td>\n",
              "      <td>Wild Mood Swings</td>\n",
              "      <td>0.113</td>\n",
              "    </tr>\n",
              "  </tbody>\n",
              "</table>\n",
              "</div>"
            ],
            "text/plain": [
              "                                       track_name  ... speechiness\n",
              "66    The Kiss [RS Home Demo 3/86] [Instrumental]  ...       0.267\n",
              "201                                    The Scream  ...       0.248\n",
              "202                                     It's Over  ...       0.168\n",
              "11                        Give Me It - Remastered  ...       0.161\n",
              "101               Close To Me - Extended Mix 1985  ...       0.134\n",
              "200                           Sleep When I'm Dead  ...       0.133\n",
              "189  The Only One - Remix 65 by 65 Days Of Static  ...       0.130\n",
              "197                                        Switch  ...       0.123\n",
              "44                                    Close To Me  ...       0.123\n",
              "151                                  Club America  ...       0.113\n",
              "\n",
              "[10 rows x 3 columns]"
            ]
          },
          "metadata": {
            "tags": []
          },
          "execution_count": 146
        }
      ]
    },
    {
      "cell_type": "markdown",
      "metadata": {
        "id": "kReVY4Fp6BmL"
      },
      "source": [
        "### Top 10 músicas com menos partes cantadas"
      ],
      "id": "kReVY4Fp6BmL"
    },
    {
      "cell_type": "code",
      "metadata": {
        "colab": {
          "base_uri": "https://localhost:8080/",
          "height": 355
        },
        "id": "GzOviHEX5gZF",
        "outputId": "b51ef9ab-dfaf-4456-cce3-72b74a0854fb"
      },
      "source": [
        "top_musicas_inf('speechiness')"
      ],
      "id": "GzOviHEX5gZF",
      "execution_count": 147,
      "outputs": [
        {
          "output_type": "execute_result",
          "data": {
            "text/html": [
              "<div>\n",
              "<style scoped>\n",
              "    .dataframe tbody tr th:only-of-type {\n",
              "        vertical-align: middle;\n",
              "    }\n",
              "\n",
              "    .dataframe tbody tr th {\n",
              "        vertical-align: top;\n",
              "    }\n",
              "\n",
              "    .dataframe thead th {\n",
              "        text-align: right;\n",
              "    }\n",
              "</style>\n",
              "<table border=\"1\" class=\"dataframe\">\n",
              "  <thead>\n",
              "    <tr style=\"text-align: right;\">\n",
              "      <th></th>\n",
              "      <th>track_name</th>\n",
              "      <th>album_name</th>\n",
              "      <th>speechiness</th>\n",
              "    </tr>\n",
              "  </thead>\n",
              "  <tbody>\n",
              "    <tr>\n",
              "      <th>15</th>\n",
              "      <td>The Empty World - Remastered</td>\n",
              "      <td>The Top</td>\n",
              "      <td>0.0233</td>\n",
              "    </tr>\n",
              "    <tr>\n",
              "      <th>23</th>\n",
              "      <td>Piggy In The Mirror [Garden /Eden Studios RS&amp;A...</td>\n",
              "      <td>The Top</td>\n",
              "      <td>0.0236</td>\n",
              "    </tr>\n",
              "    <tr>\n",
              "      <th>170</th>\n",
              "      <td>The Loudest Sound</td>\n",
              "      <td>Bloodflowers</td>\n",
              "      <td>0.0239</td>\n",
              "    </tr>\n",
              "    <tr>\n",
              "      <th>54</th>\n",
              "      <td>The Snakepit - 2006 Remastered Version</td>\n",
              "      <td>Kiss Me Kiss Me Kiss Me</td>\n",
              "      <td>0.0250</td>\n",
              "    </tr>\n",
              "    <tr>\n",
              "      <th>51</th>\n",
              "      <td>If Only Tonight We Could Sleep - 2006 Remaster...</td>\n",
              "      <td>Kiss Me Kiss Me Kiss Me</td>\n",
              "      <td>0.0257</td>\n",
              "    </tr>\n",
              "    <tr>\n",
              "      <th>78</th>\n",
              "      <td>Homesick</td>\n",
              "      <td>Disintegration (Deluxe Edition [Remastered])</td>\n",
              "      <td>0.0258</td>\n",
              "    </tr>\n",
              "    <tr>\n",
              "      <th>81</th>\n",
              "      <td>Pictures Of You [RS Home Demo (instrumental)-0...</td>\n",
              "      <td>Disintegration (Deluxe Edition [Remastered])</td>\n",
              "      <td>0.0263</td>\n",
              "    </tr>\n",
              "    <tr>\n",
              "      <th>4</th>\n",
              "      <td>The Figurehead - Remastered Version</td>\n",
              "      <td>Pornography</td>\n",
              "      <td>0.0264</td>\n",
              "    </tr>\n",
              "    <tr>\n",
              "      <th>140</th>\n",
              "      <td>Trust - Live At The Palace, Auburn Hills, Mich...</td>\n",
              "      <td>Show</td>\n",
              "      <td>0.0264</td>\n",
              "    </tr>\n",
              "    <tr>\n",
              "      <th>75</th>\n",
              "      <td>Prayers For Rain</td>\n",
              "      <td>Disintegration (Deluxe Edition [Remastered])</td>\n",
              "      <td>0.0270</td>\n",
              "    </tr>\n",
              "  </tbody>\n",
              "</table>\n",
              "</div>"
            ],
            "text/plain": [
              "                                            track_name  ... speechiness\n",
              "15                        The Empty World - Remastered  ...      0.0233\n",
              "23   Piggy In The Mirror [Garden /Eden Studios RS&A...  ...      0.0236\n",
              "170                                  The Loudest Sound  ...      0.0239\n",
              "54              The Snakepit - 2006 Remastered Version  ...      0.0250\n",
              "51   If Only Tonight We Could Sleep - 2006 Remaster...  ...      0.0257\n",
              "78                                            Homesick  ...      0.0258\n",
              "81   Pictures Of You [RS Home Demo (instrumental)-0...  ...      0.0263\n",
              "4                  The Figurehead - Remastered Version  ...      0.0264\n",
              "140  Trust - Live At The Palace, Auburn Hills, Mich...  ...      0.0264\n",
              "75                                    Prayers For Rain  ...      0.0270\n",
              "\n",
              "[10 rows x 3 columns]"
            ]
          },
          "metadata": {
            "tags": []
          },
          "execution_count": 147
        }
      ]
    },
    {
      "cell_type": "markdown",
      "metadata": {
        "id": "Oj_P70wGZ87G"
      },
      "source": [
        "# Dançabilidade (danceability)"
      ],
      "id": "Oj_P70wGZ87G"
    },
    {
      "cell_type": "markdown",
      "metadata": {
        "id": "6906bbb6"
      },
      "source": [
        "### Média de Dançabilidade por Álbum"
      ],
      "id": "6906bbb6"
    },
    {
      "cell_type": "code",
      "metadata": {
        "colab": {
          "base_uri": "https://localhost:8080/",
          "height": 538
        },
        "id": "b9a34ef4",
        "outputId": "7518f8a2-65a2-4d8b-d335-f5e983331bb4"
      },
      "source": [
        "media('danceability')"
      ],
      "id": "b9a34ef4",
      "execution_count": 148,
      "outputs": [
        {
          "output_type": "execute_result",
          "data": {
            "text/html": [
              "<div>\n",
              "<style scoped>\n",
              "    .dataframe tbody tr th:only-of-type {\n",
              "        vertical-align: middle;\n",
              "    }\n",
              "\n",
              "    .dataframe tbody tr th {\n",
              "        vertical-align: top;\n",
              "    }\n",
              "\n",
              "    .dataframe thead th {\n",
              "        text-align: right;\n",
              "    }\n",
              "</style>\n",
              "<table border=\"1\" class=\"dataframe\">\n",
              "  <thead>\n",
              "    <tr style=\"text-align: right;\">\n",
              "      <th></th>\n",
              "      <th>album_name</th>\n",
              "      <th>danceability</th>\n",
              "    </tr>\n",
              "  </thead>\n",
              "  <tbody>\n",
              "    <tr>\n",
              "      <th>12</th>\n",
              "      <td>The Head On The Door</td>\n",
              "      <td>0.640600</td>\n",
              "    </tr>\n",
              "    <tr>\n",
              "      <th>7</th>\n",
              "      <td>Mixed Up (Remastered 2018 / Deluxe Edition)</td>\n",
              "      <td>0.626650</td>\n",
              "    </tr>\n",
              "    <tr>\n",
              "      <th>13</th>\n",
              "      <td>The Top</td>\n",
              "      <td>0.594250</td>\n",
              "    </tr>\n",
              "    <tr>\n",
              "      <th>1</th>\n",
              "      <td>Bestival Live 2011</td>\n",
              "      <td>0.575400</td>\n",
              "    </tr>\n",
              "    <tr>\n",
              "      <th>5</th>\n",
              "      <td>Hypnagogic States</td>\n",
              "      <td>0.569833</td>\n",
              "    </tr>\n",
              "    <tr>\n",
              "      <th>9</th>\n",
              "      <td>Pornography</td>\n",
              "      <td>0.537250</td>\n",
              "    </tr>\n",
              "    <tr>\n",
              "      <th>14</th>\n",
              "      <td>Wild Mood Swings</td>\n",
              "      <td>0.530286</td>\n",
              "    </tr>\n",
              "    <tr>\n",
              "      <th>2</th>\n",
              "      <td>Bloodflowers</td>\n",
              "      <td>0.498333</td>\n",
              "    </tr>\n",
              "    <tr>\n",
              "      <th>6</th>\n",
              "      <td>Kiss Me Kiss Me Kiss Me</td>\n",
              "      <td>0.498050</td>\n",
              "    </tr>\n",
              "    <tr>\n",
              "      <th>11</th>\n",
              "      <td>The Cure</td>\n",
              "      <td>0.491545</td>\n",
              "    </tr>\n",
              "    <tr>\n",
              "      <th>0</th>\n",
              "      <td>4:13 Dream</td>\n",
              "      <td>0.490000</td>\n",
              "    </tr>\n",
              "    <tr>\n",
              "      <th>15</th>\n",
              "      <td>Wish</td>\n",
              "      <td>0.483583</td>\n",
              "    </tr>\n",
              "    <tr>\n",
              "      <th>4</th>\n",
              "      <td>Disintegration (Deluxe Edition [Remastered])</td>\n",
              "      <td>0.479500</td>\n",
              "    </tr>\n",
              "    <tr>\n",
              "      <th>8</th>\n",
              "      <td>Paris</td>\n",
              "      <td>0.445750</td>\n",
              "    </tr>\n",
              "    <tr>\n",
              "      <th>3</th>\n",
              "      <td>Concert - The Cure Live</td>\n",
              "      <td>0.423100</td>\n",
              "    </tr>\n",
              "    <tr>\n",
              "      <th>10</th>\n",
              "      <td>Show</td>\n",
              "      <td>0.409278</td>\n",
              "    </tr>\n",
              "  </tbody>\n",
              "</table>\n",
              "</div>"
            ],
            "text/plain": [
              "                                      album_name  danceability\n",
              "12                          The Head On The Door      0.640600\n",
              "7    Mixed Up (Remastered 2018 / Deluxe Edition)      0.626650\n",
              "13                                       The Top      0.594250\n",
              "1                             Bestival Live 2011      0.575400\n",
              "5                              Hypnagogic States      0.569833\n",
              "9                                    Pornography      0.537250\n",
              "14                              Wild Mood Swings      0.530286\n",
              "2                                   Bloodflowers      0.498333\n",
              "6                        Kiss Me Kiss Me Kiss Me      0.498050\n",
              "11                                      The Cure      0.491545\n",
              "0                                     4:13 Dream      0.490000\n",
              "15                                          Wish      0.483583\n",
              "4   Disintegration (Deluxe Edition [Remastered])      0.479500\n",
              "8                                          Paris      0.445750\n",
              "3                        Concert - The Cure Live      0.423100\n",
              "10                                          Show      0.409278"
            ]
          },
          "metadata": {
            "tags": []
          },
          "execution_count": 148
        }
      ]
    },
    {
      "cell_type": "markdown",
      "metadata": {
        "id": "7755c5e3"
      },
      "source": [
        "### Gráfico da Média de Dançabilidade por Álbum"
      ],
      "id": "7755c5e3"
    },
    {
      "cell_type": "code",
      "metadata": {
        "colab": {
          "base_uri": "https://localhost:8080/",
          "height": 414
        },
        "id": "e77acedb",
        "outputId": "1ea2a298-91c8-4673-85bd-c61dfeda899d"
      },
      "source": [
        "plotar('Média de Dançabilidade por Álbum', 'danceability', 'album_name', 'Média Dançabilidade', 'Nome Álbum', 'danceability')"
      ],
      "id": "e77acedb",
      "execution_count": 149,
      "outputs": [
        {
          "output_type": "display_data",
          "data": {
            "image/png": "[encoded data removed]",
            "text/plain": [
              "<Figure size 864x432 with 1 Axes>"
            ]
          },
          "metadata": {
            "tags": [],
            "needs_background": "light"
          }
        }
      ]
    },
    {
      "cell_type": "markdown",
      "metadata": {
        "id": "BXpStLbb1Zfj"
      },
      "source": [
        "### Top 10 músicas com maior dançabilidade"
      ],
      "id": "BXpStLbb1Zfj"
    },
    {
      "cell_type": "code",
      "metadata": {
        "colab": {
          "base_uri": "https://localhost:8080/",
          "height": 355
        },
        "id": "1gehKxp91Xa8",
        "outputId": "fb823d37-7b5c-4eeb-b216-7566e279ea4a"
      },
      "source": [
        "top_musicas_sup('danceability')"
      ],
      "id": "1gehKxp91Xa8",
      "execution_count": 150,
      "outputs": [
        {
          "output_type": "execute_result",
          "data": {
            "text/html": [
              "<div>\n",
              "<style scoped>\n",
              "    .dataframe tbody tr th:only-of-type {\n",
              "        vertical-align: middle;\n",
              "    }\n",
              "\n",
              "    .dataframe tbody tr th {\n",
              "        vertical-align: top;\n",
              "    }\n",
              "\n",
              "    .dataframe thead th {\n",
              "        text-align: right;\n",
              "    }\n",
              "</style>\n",
              "<table border=\"1\" class=\"dataframe\">\n",
              "  <thead>\n",
              "    <tr style=\"text-align: right;\">\n",
              "      <th></th>\n",
              "      <th>track_name</th>\n",
              "      <th>album_name</th>\n",
              "      <th>danceability</th>\n",
              "    </tr>\n",
              "  </thead>\n",
              "  <tbody>\n",
              "    <tr>\n",
              "      <th>17</th>\n",
              "      <td>The Top - Remastered</td>\n",
              "      <td>The Top</td>\n",
              "      <td>0.848</td>\n",
              "    </tr>\n",
              "    <tr>\n",
              "      <th>99</th>\n",
              "      <td>Let's Go To Bed - Extended Mix 1982</td>\n",
              "      <td>Mixed Up (Remastered 2018 / Deluxe Edition)</td>\n",
              "      <td>0.828</td>\n",
              "    </tr>\n",
              "    <tr>\n",
              "      <th>24</th>\n",
              "      <td>Birdmad Girl [Garden /Eden Studios RS&amp;AA Demo ...</td>\n",
              "      <td>The Top</td>\n",
              "      <td>0.806</td>\n",
              "    </tr>\n",
              "    <tr>\n",
              "      <th>41</th>\n",
              "      <td>Six Different Ways</td>\n",
              "      <td>The Head On The Door</td>\n",
              "      <td>0.781</td>\n",
              "    </tr>\n",
              "    <tr>\n",
              "      <th>3</th>\n",
              "      <td>Siamese Twins - Remastered Version</td>\n",
              "      <td>Pornography</td>\n",
              "      <td>0.772</td>\n",
              "    </tr>\n",
              "    <tr>\n",
              "      <th>95</th>\n",
              "      <td>Hot Hot Hot!!! - Extended Mix</td>\n",
              "      <td>Mixed Up (Remastered 2018 / Deluxe Edition)</td>\n",
              "      <td>0.772</td>\n",
              "    </tr>\n",
              "    <tr>\n",
              "      <th>187</th>\n",
              "      <td>The Perfect Boy - Remix 4 by Patrick Stump / P...</td>\n",
              "      <td>Hypnagogic States</td>\n",
              "      <td>0.770</td>\n",
              "    </tr>\n",
              "    <tr>\n",
              "      <th>27</th>\n",
              "      <td>Happy The Man [Garden /Eden Studios RS&amp;AA Demo...</td>\n",
              "      <td>The Top</td>\n",
              "      <td>0.762</td>\n",
              "    </tr>\n",
              "    <tr>\n",
              "      <th>96</th>\n",
              "      <td>The Caterpillar - Flicker Mix</td>\n",
              "      <td>Mixed Up (Remastered 2018 / Deluxe Edition)</td>\n",
              "      <td>0.762</td>\n",
              "    </tr>\n",
              "    <tr>\n",
              "      <th>9</th>\n",
              "      <td>Birdmad Girl - Remastered</td>\n",
              "      <td>The Top</td>\n",
              "      <td>0.760</td>\n",
              "    </tr>\n",
              "  </tbody>\n",
              "</table>\n",
              "</div>"
            ],
            "text/plain": [
              "                                            track_name  ... danceability\n",
              "17                                The Top - Remastered  ...        0.848\n",
              "99                 Let's Go To Bed - Extended Mix 1982  ...        0.828\n",
              "24   Birdmad Girl [Garden /Eden Studios RS&AA Demo ...  ...        0.806\n",
              "41                                  Six Different Ways  ...        0.781\n",
              "3                   Siamese Twins - Remastered Version  ...        0.772\n",
              "95                       Hot Hot Hot!!! - Extended Mix  ...        0.772\n",
              "187  The Perfect Boy - Remix 4 by Patrick Stump / P...  ...        0.770\n",
              "27   Happy The Man [Garden /Eden Studios RS&AA Demo...  ...        0.762\n",
              "96                       The Caterpillar - Flicker Mix  ...        0.762\n",
              "9                            Birdmad Girl - Remastered  ...        0.760\n",
              "\n",
              "[10 rows x 3 columns]"
            ]
          },
          "metadata": {
            "tags": []
          },
          "execution_count": 150
        }
      ]
    },
    {
      "cell_type": "markdown",
      "metadata": {
        "id": "UR2KuLAF1-oS"
      },
      "source": [
        "### Top 10 músicas com menor dançabilidade"
      ],
      "id": "UR2KuLAF1-oS"
    },
    {
      "cell_type": "code",
      "metadata": {
        "colab": {
          "base_uri": "https://localhost:8080/",
          "height": 355
        },
        "id": "NsNTnxtY2CS6",
        "outputId": "b782a91c-f854-496b-d6ab-68090a94e40b"
      },
      "source": [
        "top_musicas_inf('danceability')"
      ],
      "id": "NsNTnxtY2CS6",
      "execution_count": 151,
      "outputs": [
        {
          "output_type": "execute_result",
          "data": {
            "text/html": [
              "<div>\n",
              "<style scoped>\n",
              "    .dataframe tbody tr th:only-of-type {\n",
              "        vertical-align: middle;\n",
              "    }\n",
              "\n",
              "    .dataframe tbody tr th {\n",
              "        vertical-align: top;\n",
              "    }\n",
              "\n",
              "    .dataframe thead th {\n",
              "        text-align: right;\n",
              "    }\n",
              "</style>\n",
              "<table border=\"1\" class=\"dataframe\">\n",
              "  <thead>\n",
              "    <tr style=\"text-align: right;\">\n",
              "      <th></th>\n",
              "      <th>track_name</th>\n",
              "      <th>album_name</th>\n",
              "      <th>danceability</th>\n",
              "    </tr>\n",
              "  </thead>\n",
              "  <tbody>\n",
              "    <tr>\n",
              "      <th>203</th>\n",
              "      <td>Plainsong - Bestival Live 2011</td>\n",
              "      <td>Bestival Live 2011</td>\n",
              "      <td>0.175</td>\n",
              "    </tr>\n",
              "    <tr>\n",
              "      <th>32</th>\n",
              "      <td>Give Me It - Live Version (1984)</td>\n",
              "      <td>Concert - The Cure Live</td>\n",
              "      <td>0.207</td>\n",
              "    </tr>\n",
              "    <tr>\n",
              "      <th>86</th>\n",
              "      <td>Esten [Band Demo (instrumental)-09/88]</td>\n",
              "      <td>Disintegration (Deluxe Edition [Remastered])</td>\n",
              "      <td>0.220</td>\n",
              "    </tr>\n",
              "    <tr>\n",
              "      <th>133</th>\n",
              "      <td>Open - Live At The Palace, Auburn Hills, Michigan</td>\n",
              "      <td>Show</td>\n",
              "      <td>0.223</td>\n",
              "    </tr>\n",
              "    <tr>\n",
              "      <th>124</th>\n",
              "      <td>Apart - Live Paris Version</td>\n",
              "      <td>Paris</td>\n",
              "      <td>0.230</td>\n",
              "    </tr>\n",
              "    <tr>\n",
              "      <th>190</th>\n",
              "      <td>Underneath The Stars</td>\n",
              "      <td>4:13 Dream</td>\n",
              "      <td>0.231</td>\n",
              "    </tr>\n",
              "    <tr>\n",
              "      <th>148</th>\n",
              "      <td>Cut - Live At The Palace, Auburn Hills, Michigan</td>\n",
              "      <td>Show</td>\n",
              "      <td>0.242</td>\n",
              "    </tr>\n",
              "    <tr>\n",
              "      <th>83</th>\n",
              "      <td>Homesick [Band Rehearsal (instrumental)-06/88]</td>\n",
              "      <td>Disintegration (Deluxe Edition [Remastered])</td>\n",
              "      <td>0.250</td>\n",
              "    </tr>\n",
              "    <tr>\n",
              "      <th>119</th>\n",
              "      <td>End</td>\n",
              "      <td>Wish</td>\n",
              "      <td>0.258</td>\n",
              "    </tr>\n",
              "    <tr>\n",
              "      <th>37</th>\n",
              "      <td>Killing An Arab - New Version / Live Version (...</td>\n",
              "      <td>Concert - The Cure Live</td>\n",
              "      <td>0.263</td>\n",
              "    </tr>\n",
              "  </tbody>\n",
              "</table>\n",
              "</div>"
            ],
            "text/plain": [
              "                                            track_name  ... danceability\n",
              "203                     Plainsong - Bestival Live 2011  ...        0.175\n",
              "32                    Give Me It - Live Version (1984)  ...        0.207\n",
              "86              Esten [Band Demo (instrumental)-09/88]  ...        0.220\n",
              "133  Open - Live At The Palace, Auburn Hills, Michigan  ...        0.223\n",
              "124                         Apart - Live Paris Version  ...        0.230\n",
              "190                               Underneath The Stars  ...        0.231\n",
              "148   Cut - Live At The Palace, Auburn Hills, Michigan  ...        0.242\n",
              "83      Homesick [Band Rehearsal (instrumental)-06/88]  ...        0.250\n",
              "119                                                End  ...        0.258\n",
              "37   Killing An Arab - New Version / Live Version (...  ...        0.263\n",
              "\n",
              "[10 rows x 3 columns]"
            ]
          },
          "metadata": {
            "tags": []
          },
          "execution_count": 151
        }
      ]
    },
    {
      "cell_type": "markdown",
      "metadata": {
        "id": "r98t3IZ7FWre"
      },
      "source": [
        "Observando o gráfico de dançabilidade, podemos ver que, apesar de possuir o maior índice em relação aos demais, o álbum \"The Head On The Door\" possui apenas uma música no Top 10 geral de músicas com os maiores índices de dançabilidade. \n",
        "Ao olhar para as demais músicas desse álbum, pode-se observar uma certa regularidade dos índices, ou seja, apesar de apenas uma música se encontrar no Top 10, o álbum conta com outras músicas com bons índices de dançabilidade, fazendo com que sua média se mantenha elevada, tornando o \"The Head On The Door\" no álbum mais \"dançável\" do The Cure."
      ],
      "id": "r98t3IZ7FWre"
    },
    {
      "cell_type": "markdown",
      "metadata": {
        "id": "cE29YyC095gT"
      },
      "source": [
        "# Índice Instrumental (instrumentalness)\n",
        "\n"
      ],
      "id": "cE29YyC095gT"
    },
    {
      "cell_type": "markdown",
      "metadata": {
        "id": "-_-rero8-AeD"
      },
      "source": [
        "### Média do índice instrumental por álbum"
      ],
      "id": "-_-rero8-AeD"
    },
    {
      "cell_type": "code",
      "metadata": {
        "colab": {
          "base_uri": "https://localhost:8080/",
          "height": 538
        },
        "id": "Va_HTHzo9pNp",
        "outputId": "89a15c2c-f6bb-411c-c5e5-c417dc7473af"
      },
      "source": [
        "media('instrumentalness')"
      ],
      "id": "Va_HTHzo9pNp",
      "execution_count": 152,
      "outputs": [
        {
          "output_type": "execute_result",
          "data": {
            "text/html": [
              "<div>\n",
              "<style scoped>\n",
              "    .dataframe tbody tr th:only-of-type {\n",
              "        vertical-align: middle;\n",
              "    }\n",
              "\n",
              "    .dataframe tbody tr th {\n",
              "        vertical-align: top;\n",
              "    }\n",
              "\n",
              "    .dataframe thead th {\n",
              "        text-align: right;\n",
              "    }\n",
              "</style>\n",
              "<table border=\"1\" class=\"dataframe\">\n",
              "  <thead>\n",
              "    <tr style=\"text-align: right;\">\n",
              "      <th></th>\n",
              "      <th>album_name</th>\n",
              "      <th>instrumentalness</th>\n",
              "    </tr>\n",
              "  </thead>\n",
              "  <tbody>\n",
              "    <tr>\n",
              "      <th>4</th>\n",
              "      <td>Disintegration (Deluxe Edition [Remastered])</td>\n",
              "      <td>0.539580</td>\n",
              "    </tr>\n",
              "    <tr>\n",
              "      <th>9</th>\n",
              "      <td>Pornography</td>\n",
              "      <td>0.463387</td>\n",
              "    </tr>\n",
              "    <tr>\n",
              "      <th>7</th>\n",
              "      <td>Mixed Up (Remastered 2018 / Deluxe Edition)</td>\n",
              "      <td>0.329865</td>\n",
              "    </tr>\n",
              "    <tr>\n",
              "      <th>13</th>\n",
              "      <td>The Top</td>\n",
              "      <td>0.281363</td>\n",
              "    </tr>\n",
              "    <tr>\n",
              "      <th>8</th>\n",
              "      <td>Paris</td>\n",
              "      <td>0.268283</td>\n",
              "    </tr>\n",
              "    <tr>\n",
              "      <th>6</th>\n",
              "      <td>Kiss Me Kiss Me Kiss Me</td>\n",
              "      <td>0.223575</td>\n",
              "    </tr>\n",
              "    <tr>\n",
              "      <th>12</th>\n",
              "      <td>The Head On The Door</td>\n",
              "      <td>0.210142</td>\n",
              "    </tr>\n",
              "    <tr>\n",
              "      <th>1</th>\n",
              "      <td>Bestival Live 2011</td>\n",
              "      <td>0.207517</td>\n",
              "    </tr>\n",
              "    <tr>\n",
              "      <th>5</th>\n",
              "      <td>Hypnagogic States</td>\n",
              "      <td>0.194343</td>\n",
              "    </tr>\n",
              "    <tr>\n",
              "      <th>10</th>\n",
              "      <td>Show</td>\n",
              "      <td>0.172449</td>\n",
              "    </tr>\n",
              "    <tr>\n",
              "      <th>15</th>\n",
              "      <td>Wish</td>\n",
              "      <td>0.160824</td>\n",
              "    </tr>\n",
              "    <tr>\n",
              "      <th>2</th>\n",
              "      <td>Bloodflowers</td>\n",
              "      <td>0.159840</td>\n",
              "    </tr>\n",
              "    <tr>\n",
              "      <th>3</th>\n",
              "      <td>Concert - The Cure Live</td>\n",
              "      <td>0.157083</td>\n",
              "    </tr>\n",
              "    <tr>\n",
              "      <th>0</th>\n",
              "      <td>4:13 Dream</td>\n",
              "      <td>0.115792</td>\n",
              "    </tr>\n",
              "    <tr>\n",
              "      <th>11</th>\n",
              "      <td>The Cure</td>\n",
              "      <td>0.048337</td>\n",
              "    </tr>\n",
              "    <tr>\n",
              "      <th>14</th>\n",
              "      <td>Wild Mood Swings</td>\n",
              "      <td>0.010827</td>\n",
              "    </tr>\n",
              "  </tbody>\n",
              "</table>\n",
              "</div>"
            ],
            "text/plain": [
              "                                      album_name  instrumentalness\n",
              "4   Disintegration (Deluxe Edition [Remastered])          0.539580\n",
              "9                                    Pornography          0.463387\n",
              "7    Mixed Up (Remastered 2018 / Deluxe Edition)          0.329865\n",
              "13                                       The Top          0.281363\n",
              "8                                          Paris          0.268283\n",
              "6                        Kiss Me Kiss Me Kiss Me          0.223575\n",
              "12                          The Head On The Door          0.210142\n",
              "1                             Bestival Live 2011          0.207517\n",
              "5                              Hypnagogic States          0.194343\n",
              "10                                          Show          0.172449\n",
              "15                                          Wish          0.160824\n",
              "2                                   Bloodflowers          0.159840\n",
              "3                        Concert - The Cure Live          0.157083\n",
              "0                                     4:13 Dream          0.115792\n",
              "11                                      The Cure          0.048337\n",
              "14                              Wild Mood Swings          0.010827"
            ]
          },
          "metadata": {
            "tags": []
          },
          "execution_count": 152
        }
      ]
    },
    {
      "cell_type": "markdown",
      "metadata": {
        "id": "_58JegMS-Sv7"
      },
      "source": [
        "### Gráfico da média do índice instrumental por álbum\n",
        "\n"
      ],
      "id": "_58JegMS-Sv7"
    },
    {
      "cell_type": "code",
      "metadata": {
        "colab": {
          "base_uri": "https://localhost:8080/",
          "height": 414
        },
        "id": "2ds0g3j2-XF6",
        "outputId": "ca9e18ab-925a-4cae-9a75-743f6799d525"
      },
      "source": [
        "plotar('Índice Instrumental por Álbum', 'instrumentalness', 'album_name', 'Média Índice Instrumental', 'Nome do Álbum', 'instrumentalness')"
      ],
      "id": "2ds0g3j2-XF6",
      "execution_count": 153,
      "outputs": [
        {
          "output_type": "display_data",
          "data": {
            "image/png": "[encoded data removed]",
            "text/plain": [
              "<Figure size 864x432 with 1 Axes>"
            ]
          },
          "metadata": {
            "tags": [],
            "needs_background": "light"
          }
        }
      ]
    },
    {
      "cell_type": "markdown",
      "metadata": {
        "id": "Hg75dozD-1Zm"
      },
      "source": [
        "### Top 10 músicas com maior índice instrumental"
      ],
      "id": "Hg75dozD-1Zm"
    },
    {
      "cell_type": "code",
      "metadata": {
        "colab": {
          "base_uri": "https://localhost:8080/",
          "height": 355
        },
        "id": "LkLyQr8H-e9A",
        "outputId": "3fa53ca9-ef38-4307-8919-c601882c652c"
      },
      "source": [
        "top_musicas_sup('instrumentalness')"
      ],
      "id": "LkLyQr8H-e9A",
      "execution_count": 154,
      "outputs": [
        {
          "output_type": "execute_result",
          "data": {
            "text/html": [
              "<div>\n",
              "<style scoped>\n",
              "    .dataframe tbody tr th:only-of-type {\n",
              "        vertical-align: middle;\n",
              "    }\n",
              "\n",
              "    .dataframe tbody tr th {\n",
              "        vertical-align: top;\n",
              "    }\n",
              "\n",
              "    .dataframe thead th {\n",
              "        text-align: right;\n",
              "    }\n",
              "</style>\n",
              "<table border=\"1\" class=\"dataframe\">\n",
              "  <thead>\n",
              "    <tr style=\"text-align: right;\">\n",
              "      <th></th>\n",
              "      <th>track_name</th>\n",
              "      <th>album_name</th>\n",
              "      <th>instrumentalness</th>\n",
              "    </tr>\n",
              "  </thead>\n",
              "  <tbody>\n",
              "    <tr>\n",
              "      <th>100</th>\n",
              "      <td>Just One Kiss - Extended Mix 1982</td>\n",
              "      <td>Mixed Up (Remastered 2018 / Deluxe Edition)</td>\n",
              "      <td>0.933</td>\n",
              "    </tr>\n",
              "    <tr>\n",
              "      <th>81</th>\n",
              "      <td>Pictures Of You [RS Home Demo (instrumental)-0...</td>\n",
              "      <td>Disintegration (Deluxe Edition [Remastered])</td>\n",
              "      <td>0.931</td>\n",
              "    </tr>\n",
              "    <tr>\n",
              "      <th>132</th>\n",
              "      <td>Tape - Live At The Palace, Auburn Hills, Michigan</td>\n",
              "      <td>Show</td>\n",
              "      <td>0.903</td>\n",
              "    </tr>\n",
              "    <tr>\n",
              "      <th>71</th>\n",
              "      <td>Lovesong</td>\n",
              "      <td>Disintegration (Deluxe Edition [Remastered])</td>\n",
              "      <td>0.898</td>\n",
              "    </tr>\n",
              "    <tr>\n",
              "      <th>140</th>\n",
              "      <td>Trust - Live At The Palace, Auburn Hills, Mich...</td>\n",
              "      <td>Show</td>\n",
              "      <td>0.896</td>\n",
              "    </tr>\n",
              "    <tr>\n",
              "      <th>67</th>\n",
              "      <td>The Perfect Girl [Beethoven St. Studio Demo 6/...</td>\n",
              "      <td>Kiss Me Kiss Me Kiss Me</td>\n",
              "      <td>0.884</td>\n",
              "    </tr>\n",
              "    <tr>\n",
              "      <th>86</th>\n",
              "      <td>Esten [Band Demo (instrumental)-09/88]</td>\n",
              "      <td>Disintegration (Deluxe Edition [Remastered])</td>\n",
              "      <td>0.880</td>\n",
              "    </tr>\n",
              "    <tr>\n",
              "      <th>84</th>\n",
              "      <td>Fear Of Ghosts [Band Rehearsal (instrumental)-...</td>\n",
              "      <td>Disintegration (Deluxe Edition [Remastered])</td>\n",
              "      <td>0.874</td>\n",
              "    </tr>\n",
              "    <tr>\n",
              "      <th>93</th>\n",
              "      <td>A Forest - Tree Mix</td>\n",
              "      <td>Mixed Up (Remastered 2018 / Deluxe Edition)</td>\n",
              "      <td>0.873</td>\n",
              "    </tr>\n",
              "    <tr>\n",
              "      <th>80</th>\n",
              "      <td>Prayers For Rain [RS Home Demo (instrumental)-...</td>\n",
              "      <td>Disintegration (Deluxe Edition [Remastered])</td>\n",
              "      <td>0.858</td>\n",
              "    </tr>\n",
              "  </tbody>\n",
              "</table>\n",
              "</div>"
            ],
            "text/plain": [
              "                                            track_name  ... instrumentalness\n",
              "100                  Just One Kiss - Extended Mix 1982  ...            0.933\n",
              "81   Pictures Of You [RS Home Demo (instrumental)-0...  ...            0.931\n",
              "132  Tape - Live At The Palace, Auburn Hills, Michigan  ...            0.903\n",
              "71                                            Lovesong  ...            0.898\n",
              "140  Trust - Live At The Palace, Auburn Hills, Mich...  ...            0.896\n",
              "67   The Perfect Girl [Beethoven St. Studio Demo 6/...  ...            0.884\n",
              "86              Esten [Band Demo (instrumental)-09/88]  ...            0.880\n",
              "84   Fear Of Ghosts [Band Rehearsal (instrumental)-...  ...            0.874\n",
              "93                                 A Forest - Tree Mix  ...            0.873\n",
              "80   Prayers For Rain [RS Home Demo (instrumental)-...  ...            0.858\n",
              "\n",
              "[10 rows x 3 columns]"
            ]
          },
          "metadata": {
            "tags": []
          },
          "execution_count": 154
        }
      ]
    },
    {
      "cell_type": "markdown",
      "metadata": {
        "id": "rl_2K3SiGJ1a"
      },
      "source": [
        "### Top 10 músicas com menor índice instrumental"
      ],
      "id": "rl_2K3SiGJ1a"
    },
    {
      "cell_type": "code",
      "metadata": {
        "colab": {
          "base_uri": "https://localhost:8080/",
          "height": 355
        },
        "id": "F_jg_r7v_fFK",
        "outputId": "d00a7d00-6477-4545-b8dd-bdbe6a1552dd"
      },
      "source": [
        "top_musicas_inf('instrumentalness')"
      ],
      "id": "F_jg_r7v_fFK",
      "execution_count": 155,
      "outputs": [
        {
          "output_type": "execute_result",
          "data": {
            "text/html": [
              "<div>\n",
              "<style scoped>\n",
              "    .dataframe tbody tr th:only-of-type {\n",
              "        vertical-align: middle;\n",
              "    }\n",
              "\n",
              "    .dataframe tbody tr th {\n",
              "        vertical-align: top;\n",
              "    }\n",
              "\n",
              "    .dataframe thead th {\n",
              "        text-align: right;\n",
              "    }\n",
              "</style>\n",
              "<table border=\"1\" class=\"dataframe\">\n",
              "  <thead>\n",
              "    <tr style=\"text-align: right;\">\n",
              "      <th></th>\n",
              "      <th>track_name</th>\n",
              "      <th>album_name</th>\n",
              "      <th>instrumentalness</th>\n",
              "    </tr>\n",
              "  </thead>\n",
              "  <tbody>\n",
              "    <tr>\n",
              "      <th>117</th>\n",
              "      <td>Cut</td>\n",
              "      <td>Wish</td>\n",
              "      <td>0.0</td>\n",
              "    </tr>\n",
              "    <tr>\n",
              "      <th>187</th>\n",
              "      <td>The Perfect Boy - Remix 4 by Patrick Stump / P...</td>\n",
              "      <td>Hypnagogic States</td>\n",
              "      <td>0.0</td>\n",
              "    </tr>\n",
              "    <tr>\n",
              "      <th>198</th>\n",
              "      <td>The Perfect Boy</td>\n",
              "      <td>4:13 Dream</td>\n",
              "      <td>0.0</td>\n",
              "    </tr>\n",
              "    <tr>\n",
              "      <th>199</th>\n",
              "      <td>This. Here And Now. With You</td>\n",
              "      <td>4:13 Dream</td>\n",
              "      <td>0.0</td>\n",
              "    </tr>\n",
              "    <tr>\n",
              "      <th>179</th>\n",
              "      <td>alt.end</td>\n",
              "      <td>The Cure</td>\n",
              "      <td>0.0</td>\n",
              "    </tr>\n",
              "    <tr>\n",
              "      <th>176</th>\n",
              "      <td>The End Of The World</td>\n",
              "      <td>The Cure</td>\n",
              "      <td>0.0</td>\n",
              "    </tr>\n",
              "    <tr>\n",
              "      <th>141</th>\n",
              "      <td>Doing The Unstuck - Live At The Palace, Auburn...</td>\n",
              "      <td>Show</td>\n",
              "      <td>0.0</td>\n",
              "    </tr>\n",
              "    <tr>\n",
              "      <th>143</th>\n",
              "      <td>Let's Go To Bed - Live At The Palace, Auburn H...</td>\n",
              "      <td>Show</td>\n",
              "      <td>0.0</td>\n",
              "    </tr>\n",
              "    <tr>\n",
              "      <th>14</th>\n",
              "      <td>Piggy In The Mirror - Remastered</td>\n",
              "      <td>The Top</td>\n",
              "      <td>0.0</td>\n",
              "    </tr>\n",
              "    <tr>\n",
              "      <th>154</th>\n",
              "      <td>Strange Attraction</td>\n",
              "      <td>Wild Mood Swings</td>\n",
              "      <td>0.0</td>\n",
              "    </tr>\n",
              "  </tbody>\n",
              "</table>\n",
              "</div>"
            ],
            "text/plain": [
              "                                            track_name  ... instrumentalness\n",
              "117                                                Cut  ...              0.0\n",
              "187  The Perfect Boy - Remix 4 by Patrick Stump / P...  ...              0.0\n",
              "198                                    The Perfect Boy  ...              0.0\n",
              "199                       This. Here And Now. With You  ...              0.0\n",
              "179                                            alt.end  ...              0.0\n",
              "176                               The End Of The World  ...              0.0\n",
              "141  Doing The Unstuck - Live At The Palace, Auburn...  ...              0.0\n",
              "143  Let's Go To Bed - Live At The Palace, Auburn H...  ...              0.0\n",
              "14                    Piggy In The Mirror - Remastered  ...              0.0\n",
              "154                                 Strange Attraction  ...              0.0\n",
              "\n",
              "[10 rows x 3 columns]"
            ]
          },
          "metadata": {
            "tags": []
          },
          "execution_count": 155
        }
      ]
    },
    {
      "cell_type": "markdown",
      "metadata": {
        "id": "Qymu0ZcGGKt8"
      },
      "source": [
        "Analisando esse índice, vemos que os álbuns \"Disintegration\" e \"Pornography\" destoam dos demais, que possuem uma certa semelhança, mostrando que no geral, as músicas do The Cure possuem curtos períodos de tempo em que apareçem apenas os intrumentos, sem o vocalista.\n",
        "Esses dois álbuns também figuram entre os que possuem as menores médias de partes cantadas nas músicas, indicando que suas músicas podem possuir uma parte instrumental muito longa e que suas letras são mais curtas comparadas aos dos outros álbuns. \n",
        "O álbum \"Pornography\" não possui nenhuma música entre as 10 com os maiores índices instrumentais, porém, possui o segundo maior índice da banda. Ao olharmos para cada uma de suas músicas individualmente, podemos ver também que elas não possuem muita disparidade nesse aspecto, tornando o álbum uma ótima opção para quem curte escutar \"apenas\" os instrumentos por um longo período. "
      ],
      "id": "Qymu0ZcGGKt8"
    },
    {
      "cell_type": "markdown",
      "metadata": {
        "id": "Hzsl-tC3aDHn"
      },
      "source": [
        "# Energia"
      ],
      "id": "Hzsl-tC3aDHn"
    },
    {
      "cell_type": "markdown",
      "metadata": {
        "id": "sYlFgIKeXI1_"
      },
      "source": [
        "### Média de Energia por Álbum"
      ],
      "id": "sYlFgIKeXI1_"
    },
    {
      "cell_type": "code",
      "metadata": {
        "colab": {
          "base_uri": "https://localhost:8080/",
          "height": 538
        },
        "id": "d36e9a46",
        "outputId": "f00240e2-189f-420b-dbe4-b3fc8eb287cc"
      },
      "source": [
        "media('energy')"
      ],
      "id": "d36e9a46",
      "execution_count": 156,
      "outputs": [
        {
          "output_type": "execute_result",
          "data": {
            "text/html": [
              "<div>\n",
              "<style scoped>\n",
              "    .dataframe tbody tr th:only-of-type {\n",
              "        vertical-align: middle;\n",
              "    }\n",
              "\n",
              "    .dataframe tbody tr th {\n",
              "        vertical-align: top;\n",
              "    }\n",
              "\n",
              "    .dataframe thead th {\n",
              "        text-align: right;\n",
              "    }\n",
              "</style>\n",
              "<table border=\"1\" class=\"dataframe\">\n",
              "  <thead>\n",
              "    <tr style=\"text-align: right;\">\n",
              "      <th></th>\n",
              "      <th>album_name</th>\n",
              "      <th>energy</th>\n",
              "    </tr>\n",
              "  </thead>\n",
              "  <tbody>\n",
              "    <tr>\n",
              "      <th>11</th>\n",
              "      <td>The Cure</td>\n",
              "      <td>0.920000</td>\n",
              "    </tr>\n",
              "    <tr>\n",
              "      <th>0</th>\n",
              "      <td>4:13 Dream</td>\n",
              "      <td>0.883846</td>\n",
              "    </tr>\n",
              "    <tr>\n",
              "      <th>1</th>\n",
              "      <td>Bestival Live 2011</td>\n",
              "      <td>0.874800</td>\n",
              "    </tr>\n",
              "    <tr>\n",
              "      <th>5</th>\n",
              "      <td>Hypnagogic States</td>\n",
              "      <td>0.851667</td>\n",
              "    </tr>\n",
              "    <tr>\n",
              "      <th>9</th>\n",
              "      <td>Pornography</td>\n",
              "      <td>0.824500</td>\n",
              "    </tr>\n",
              "    <tr>\n",
              "      <th>14</th>\n",
              "      <td>Wild Mood Swings</td>\n",
              "      <td>0.804214</td>\n",
              "    </tr>\n",
              "    <tr>\n",
              "      <th>3</th>\n",
              "      <td>Concert - The Cure Live</td>\n",
              "      <td>0.790900</td>\n",
              "    </tr>\n",
              "    <tr>\n",
              "      <th>6</th>\n",
              "      <td>Kiss Me Kiss Me Kiss Me</td>\n",
              "      <td>0.785900</td>\n",
              "    </tr>\n",
              "    <tr>\n",
              "      <th>7</th>\n",
              "      <td>Mixed Up (Remastered 2018 / Deluxe Edition)</td>\n",
              "      <td>0.776300</td>\n",
              "    </tr>\n",
              "    <tr>\n",
              "      <th>2</th>\n",
              "      <td>Bloodflowers</td>\n",
              "      <td>0.768000</td>\n",
              "    </tr>\n",
              "    <tr>\n",
              "      <th>10</th>\n",
              "      <td>Show</td>\n",
              "      <td>0.730722</td>\n",
              "    </tr>\n",
              "    <tr>\n",
              "      <th>13</th>\n",
              "      <td>The Top</td>\n",
              "      <td>0.715750</td>\n",
              "    </tr>\n",
              "    <tr>\n",
              "      <th>4</th>\n",
              "      <td>Disintegration (Deluxe Edition [Remastered])</td>\n",
              "      <td>0.711400</td>\n",
              "    </tr>\n",
              "    <tr>\n",
              "      <th>12</th>\n",
              "      <td>The Head On The Door</td>\n",
              "      <td>0.683000</td>\n",
              "    </tr>\n",
              "    <tr>\n",
              "      <th>15</th>\n",
              "      <td>Wish</td>\n",
              "      <td>0.635250</td>\n",
              "    </tr>\n",
              "    <tr>\n",
              "      <th>8</th>\n",
              "      <td>Paris</td>\n",
              "      <td>0.599833</td>\n",
              "    </tr>\n",
              "  </tbody>\n",
              "</table>\n",
              "</div>"
            ],
            "text/plain": [
              "                                      album_name    energy\n",
              "11                                      The Cure  0.920000\n",
              "0                                     4:13 Dream  0.883846\n",
              "1                             Bestival Live 2011  0.874800\n",
              "5                              Hypnagogic States  0.851667\n",
              "9                                    Pornography  0.824500\n",
              "14                              Wild Mood Swings  0.804214\n",
              "3                        Concert - The Cure Live  0.790900\n",
              "6                        Kiss Me Kiss Me Kiss Me  0.785900\n",
              "7    Mixed Up (Remastered 2018 / Deluxe Edition)  0.776300\n",
              "2                                   Bloodflowers  0.768000\n",
              "10                                          Show  0.730722\n",
              "13                                       The Top  0.715750\n",
              "4   Disintegration (Deluxe Edition [Remastered])  0.711400\n",
              "12                          The Head On The Door  0.683000\n",
              "15                                          Wish  0.635250\n",
              "8                                          Paris  0.599833"
            ]
          },
          "metadata": {
            "tags": []
          },
          "execution_count": 156
        }
      ]
    },
    {
      "cell_type": "markdown",
      "metadata": {
        "id": "iOA8b4ImYLmg"
      },
      "source": [
        "### Gráfico de Energia por Álbum"
      ],
      "id": "iOA8b4ImYLmg"
    },
    {
      "cell_type": "code",
      "metadata": {
        "colab": {
          "base_uri": "https://localhost:8080/",
          "height": 414
        },
        "id": "TXLGDJc4XioB",
        "outputId": "71ed0c95-9dc5-4f1b-ff31-d58097c92420"
      },
      "source": [
        "plotar('Energia por Álbum', 'energy', 'album_name', 'Média Energia', 'Nome do Álbum', 'energy')"
      ],
      "id": "TXLGDJc4XioB",
      "execution_count": 157,
      "outputs": [
        {
          "output_type": "display_data",
          "data": {
            "image/png": "[encoded data removed]",
            "text/plain": [
              "<Figure size 864x432 with 1 Axes>"
            ]
          },
          "metadata": {
            "tags": [],
            "needs_background": "light"
          }
        }
      ]
    },
    {
      "cell_type": "markdown",
      "metadata": {
        "id": "u-gW3uicFgED"
      },
      "source": [
        "Observando os álbuns com maiores índices de energia e o Top 10 geral desse aspecto, vemos que, apesar do álbum \"The Cure\" possuir o maior índice de energia, ele possui apenas uma música no Top 10 geral, enquanto outros álbuns possuem mais músicas aparecendo entre as 10 com mais energia e possuem uma média geral inferior.\n",
        "Olhando para dentro do álbum e vendo o índice de suas músicas individualmente, podemos observar uma regularidade em todas elas, ou seja, apesar do álbum \"The Cure\" possui apenas uma entre as 10 mais \"enérgicas\", todas as suas músicas possuem índices bem próximos e parecidos, fazendo com que a média do álbum se destaque entre os demais. "
      ],
      "id": "u-gW3uicFgED"
    },
    {
      "cell_type": "markdown",
      "metadata": {
        "id": "yczm2NP52YJi"
      },
      "source": [
        "### Top 10 músicas com mais energia"
      ],
      "id": "yczm2NP52YJi"
    },
    {
      "cell_type": "code",
      "metadata": {
        "colab": {
          "base_uri": "https://localhost:8080/",
          "height": 355
        },
        "id": "ij76nhKB2eN9",
        "outputId": "d02af61d-bfbc-4de7-8b7c-0175c3cf80da"
      },
      "source": [
        "top_musicas_sup('energy')"
      ],
      "id": "ij76nhKB2eN9",
      "execution_count": 158,
      "outputs": [
        {
          "output_type": "execute_result",
          "data": {
            "text/html": [
              "<div>\n",
              "<style scoped>\n",
              "    .dataframe tbody tr th:only-of-type {\n",
              "        vertical-align: middle;\n",
              "    }\n",
              "\n",
              "    .dataframe tbody tr th {\n",
              "        vertical-align: top;\n",
              "    }\n",
              "\n",
              "    .dataframe thead th {\n",
              "        text-align: right;\n",
              "    }\n",
              "</style>\n",
              "<table border=\"1\" class=\"dataframe\">\n",
              "  <thead>\n",
              "    <tr style=\"text-align: right;\">\n",
              "      <th></th>\n",
              "      <th>track_name</th>\n",
              "      <th>album_name</th>\n",
              "      <th>energy</th>\n",
              "    </tr>\n",
              "  </thead>\n",
              "  <tbody>\n",
              "    <tr>\n",
              "      <th>202</th>\n",
              "      <td>It's Over</td>\n",
              "      <td>4:13 Dream</td>\n",
              "      <td>0.998</td>\n",
              "    </tr>\n",
              "    <tr>\n",
              "      <th>201</th>\n",
              "      <td>The Scream</td>\n",
              "      <td>4:13 Dream</td>\n",
              "      <td>0.982</td>\n",
              "    </tr>\n",
              "    <tr>\n",
              "      <th>178</th>\n",
              "      <td>Us Or Them</td>\n",
              "      <td>The Cure</td>\n",
              "      <td>0.978</td>\n",
              "    </tr>\n",
              "    <tr>\n",
              "      <th>151</th>\n",
              "      <td>Club America</td>\n",
              "      <td>Wild Mood Swings</td>\n",
              "      <td>0.978</td>\n",
              "    </tr>\n",
              "    <tr>\n",
              "      <th>11</th>\n",
              "      <td>Give Me It - Remastered</td>\n",
              "      <td>The Top</td>\n",
              "      <td>0.973</td>\n",
              "    </tr>\n",
              "    <tr>\n",
              "      <th>32</th>\n",
              "      <td>Give Me It - Live Version (1984)</td>\n",
              "      <td>Concert - The Cure Live</td>\n",
              "      <td>0.971</td>\n",
              "    </tr>\n",
              "    <tr>\n",
              "      <th>200</th>\n",
              "      <td>Sleep When I'm Dead</td>\n",
              "      <td>4:13 Dream</td>\n",
              "      <td>0.970</td>\n",
              "    </tr>\n",
              "    <tr>\n",
              "      <th>25</th>\n",
              "      <td>Give Me It [Garden /Eden Studios RS&amp;AA Demo 12...</td>\n",
              "      <td>The Top</td>\n",
              "      <td>0.968</td>\n",
              "    </tr>\n",
              "    <tr>\n",
              "      <th>197</th>\n",
              "      <td>Switch</td>\n",
              "      <td>4:13 Dream</td>\n",
              "      <td>0.965</td>\n",
              "    </tr>\n",
              "    <tr>\n",
              "      <th>5</th>\n",
              "      <td>A Strange Day - Remastered Version</td>\n",
              "      <td>Pornography</td>\n",
              "      <td>0.964</td>\n",
              "    </tr>\n",
              "  </tbody>\n",
              "</table>\n",
              "</div>"
            ],
            "text/plain": [
              "                                            track_name  ... energy\n",
              "202                                          It's Over  ...  0.998\n",
              "201                                         The Scream  ...  0.982\n",
              "178                                         Us Or Them  ...  0.978\n",
              "151                                       Club America  ...  0.978\n",
              "11                             Give Me It - Remastered  ...  0.973\n",
              "32                    Give Me It - Live Version (1984)  ...  0.971\n",
              "200                                Sleep When I'm Dead  ...  0.970\n",
              "25   Give Me It [Garden /Eden Studios RS&AA Demo 12...  ...  0.968\n",
              "197                                             Switch  ...  0.965\n",
              "5                   A Strange Day - Remastered Version  ...  0.964\n",
              "\n",
              "[10 rows x 3 columns]"
            ]
          },
          "metadata": {
            "tags": []
          },
          "execution_count": 158
        }
      ]
    },
    {
      "cell_type": "markdown",
      "metadata": {
        "id": "AWv6YYEi23zk"
      },
      "source": [
        "### Top 10 músicas com menos energia"
      ],
      "id": "AWv6YYEi23zk"
    },
    {
      "cell_type": "code",
      "metadata": {
        "colab": {
          "base_uri": "https://localhost:8080/",
          "height": 355
        },
        "id": "Mw-MVlcV27Wi",
        "outputId": "633413c1-9faf-47ef-f6c9-fcdf6dd1dc82"
      },
      "source": [
        "top_musicas_inf('energy')"
      ],
      "id": "Mw-MVlcV27Wi",
      "execution_count": 159,
      "outputs": [
        {
          "output_type": "execute_result",
          "data": {
            "text/html": [
              "<div>\n",
              "<style scoped>\n",
              "    .dataframe tbody tr th:only-of-type {\n",
              "        vertical-align: middle;\n",
              "    }\n",
              "\n",
              "    .dataframe tbody tr th {\n",
              "        vertical-align: top;\n",
              "    }\n",
              "\n",
              "    .dataframe thead th {\n",
              "        text-align: right;\n",
              "    }\n",
              "</style>\n",
              "<table border=\"1\" class=\"dataframe\">\n",
              "  <thead>\n",
              "    <tr style=\"text-align: right;\">\n",
              "      <th></th>\n",
              "      <th>track_name</th>\n",
              "      <th>album_name</th>\n",
              "      <th>energy</th>\n",
              "    </tr>\n",
              "  </thead>\n",
              "  <tbody>\n",
              "    <tr>\n",
              "      <th>132</th>\n",
              "      <td>Tape - Live At The Palace, Auburn Hills, Michigan</td>\n",
              "      <td>Show</td>\n",
              "      <td>0.284</td>\n",
              "    </tr>\n",
              "    <tr>\n",
              "      <th>118</th>\n",
              "      <td>To Wish Impossible Things</td>\n",
              "      <td>Wish</td>\n",
              "      <td>0.297</td>\n",
              "    </tr>\n",
              "    <tr>\n",
              "      <th>44</th>\n",
              "      <td>Close To Me</td>\n",
              "      <td>The Head On The Door</td>\n",
              "      <td>0.341</td>\n",
              "    </tr>\n",
              "    <tr>\n",
              "      <th>115</th>\n",
              "      <td>Trust</td>\n",
              "      <td>Wish</td>\n",
              "      <td>0.367</td>\n",
              "    </tr>\n",
              "    <tr>\n",
              "      <th>120</th>\n",
              "      <td>The Figurehead - Live Paris Version</td>\n",
              "      <td>Paris</td>\n",
              "      <td>0.395</td>\n",
              "    </tr>\n",
              "    <tr>\n",
              "      <th>96</th>\n",
              "      <td>The Caterpillar - Flicker Mix</td>\n",
              "      <td>Mixed Up (Remastered 2018 / Deluxe Edition)</td>\n",
              "      <td>0.399</td>\n",
              "    </tr>\n",
              "    <tr>\n",
              "      <th>140</th>\n",
              "      <td>Trust - Live At The Palace, Auburn Hills, Mich...</td>\n",
              "      <td>Show</td>\n",
              "      <td>0.400</td>\n",
              "    </tr>\n",
              "    <tr>\n",
              "      <th>68</th>\n",
              "      <td>Plainsong</td>\n",
              "      <td>Disintegration (Deluxe Edition [Remastered])</td>\n",
              "      <td>0.428</td>\n",
              "    </tr>\n",
              "    <tr>\n",
              "      <th>110</th>\n",
              "      <td>Apart</td>\n",
              "      <td>Wish</td>\n",
              "      <td>0.433</td>\n",
              "    </tr>\n",
              "    <tr>\n",
              "      <th>51</th>\n",
              "      <td>If Only Tonight We Could Sleep - 2006 Remaster...</td>\n",
              "      <td>Kiss Me Kiss Me Kiss Me</td>\n",
              "      <td>0.439</td>\n",
              "    </tr>\n",
              "  </tbody>\n",
              "</table>\n",
              "</div>"
            ],
            "text/plain": [
              "                                            track_name  ... energy\n",
              "132  Tape - Live At The Palace, Auburn Hills, Michigan  ...  0.284\n",
              "118                          To Wish Impossible Things  ...  0.297\n",
              "44                                         Close To Me  ...  0.341\n",
              "115                                              Trust  ...  0.367\n",
              "120                The Figurehead - Live Paris Version  ...  0.395\n",
              "96                       The Caterpillar - Flicker Mix  ...  0.399\n",
              "140  Trust - Live At The Palace, Auburn Hills, Mich...  ...  0.400\n",
              "68                                           Plainsong  ...  0.428\n",
              "110                                              Apart  ...  0.433\n",
              "51   If Only Tonight We Could Sleep - 2006 Remaster...  ...  0.439\n",
              "\n",
              "[10 rows x 3 columns]"
            ]
          },
          "metadata": {
            "tags": []
          },
          "execution_count": 159
        }
      ]
    },
    {
      "cell_type": "markdown",
      "metadata": {
        "id": "qTq5robsZzcv"
      },
      "source": [
        "# Popularidade"
      ],
      "id": "qTq5robsZzcv"
    },
    {
      "cell_type": "markdown",
      "metadata": {
        "id": "0b27689b"
      },
      "source": [
        "### Popularidade por Álbum"
      ],
      "id": "0b27689b"
    },
    {
      "cell_type": "code",
      "metadata": {
        "colab": {
          "base_uri": "https://localhost:8080/",
          "height": 538
        },
        "id": "2e2f2453",
        "outputId": "43836609-01c4-4aef-c49a-029e661a6f79"
      },
      "source": [
        "media('album_popularity')"
      ],
      "id": "2e2f2453",
      "execution_count": 160,
      "outputs": [
        {
          "output_type": "execute_result",
          "data": {
            "text/html": [
              "<div>\n",
              "<style scoped>\n",
              "    .dataframe tbody tr th:only-of-type {\n",
              "        vertical-align: middle;\n",
              "    }\n",
              "\n",
              "    .dataframe tbody tr th {\n",
              "        vertical-align: top;\n",
              "    }\n",
              "\n",
              "    .dataframe thead th {\n",
              "        text-align: right;\n",
              "    }\n",
              "</style>\n",
              "<table border=\"1\" class=\"dataframe\">\n",
              "  <thead>\n",
              "    <tr style=\"text-align: right;\">\n",
              "      <th></th>\n",
              "      <th>album_name</th>\n",
              "      <th>album_popularity</th>\n",
              "    </tr>\n",
              "  </thead>\n",
              "  <tbody>\n",
              "    <tr>\n",
              "      <th>4</th>\n",
              "      <td>Disintegration (Deluxe Edition [Remastered])</td>\n",
              "      <td>52.0</td>\n",
              "    </tr>\n",
              "    <tr>\n",
              "      <th>15</th>\n",
              "      <td>Wish</td>\n",
              "      <td>52.0</td>\n",
              "    </tr>\n",
              "    <tr>\n",
              "      <th>6</th>\n",
              "      <td>Kiss Me Kiss Me Kiss Me</td>\n",
              "      <td>40.0</td>\n",
              "    </tr>\n",
              "    <tr>\n",
              "      <th>0</th>\n",
              "      <td>4:13 Dream</td>\n",
              "      <td>38.0</td>\n",
              "    </tr>\n",
              "    <tr>\n",
              "      <th>7</th>\n",
              "      <td>Mixed Up (Remastered 2018 / Deluxe Edition)</td>\n",
              "      <td>37.0</td>\n",
              "    </tr>\n",
              "    <tr>\n",
              "      <th>12</th>\n",
              "      <td>The Head On The Door</td>\n",
              "      <td>36.0</td>\n",
              "    </tr>\n",
              "    <tr>\n",
              "      <th>9</th>\n",
              "      <td>Pornography</td>\n",
              "      <td>34.0</td>\n",
              "    </tr>\n",
              "    <tr>\n",
              "      <th>10</th>\n",
              "      <td>Show</td>\n",
              "      <td>34.0</td>\n",
              "    </tr>\n",
              "    <tr>\n",
              "      <th>2</th>\n",
              "      <td>Bloodflowers</td>\n",
              "      <td>31.0</td>\n",
              "    </tr>\n",
              "    <tr>\n",
              "      <th>14</th>\n",
              "      <td>Wild Mood Swings</td>\n",
              "      <td>30.0</td>\n",
              "    </tr>\n",
              "    <tr>\n",
              "      <th>11</th>\n",
              "      <td>The Cure</td>\n",
              "      <td>28.0</td>\n",
              "    </tr>\n",
              "    <tr>\n",
              "      <th>13</th>\n",
              "      <td>The Top</td>\n",
              "      <td>28.0</td>\n",
              "    </tr>\n",
              "    <tr>\n",
              "      <th>3</th>\n",
              "      <td>Concert - The Cure Live</td>\n",
              "      <td>26.0</td>\n",
              "    </tr>\n",
              "    <tr>\n",
              "      <th>8</th>\n",
              "      <td>Paris</td>\n",
              "      <td>21.0</td>\n",
              "    </tr>\n",
              "    <tr>\n",
              "      <th>1</th>\n",
              "      <td>Bestival Live 2011</td>\n",
              "      <td>16.0</td>\n",
              "    </tr>\n",
              "    <tr>\n",
              "      <th>5</th>\n",
              "      <td>Hypnagogic States</td>\n",
              "      <td>11.0</td>\n",
              "    </tr>\n",
              "  </tbody>\n",
              "</table>\n",
              "</div>"
            ],
            "text/plain": [
              "                                      album_name  album_popularity\n",
              "4   Disintegration (Deluxe Edition [Remastered])              52.0\n",
              "15                                          Wish              52.0\n",
              "6                        Kiss Me Kiss Me Kiss Me              40.0\n",
              "0                                     4:13 Dream              38.0\n",
              "7    Mixed Up (Remastered 2018 / Deluxe Edition)              37.0\n",
              "12                          The Head On The Door              36.0\n",
              "9                                    Pornography              34.0\n",
              "10                                          Show              34.0\n",
              "2                                   Bloodflowers              31.0\n",
              "14                              Wild Mood Swings              30.0\n",
              "11                                      The Cure              28.0\n",
              "13                                       The Top              28.0\n",
              "3                        Concert - The Cure Live              26.0\n",
              "8                                          Paris              21.0\n",
              "1                             Bestival Live 2011              16.0\n",
              "5                              Hypnagogic States              11.0"
            ]
          },
          "metadata": {
            "tags": []
          },
          "execution_count": 160
        }
      ]
    },
    {
      "cell_type": "markdown",
      "metadata": {
        "id": "vbGKteAMCv6P"
      },
      "source": [
        "O álbum \"Disintegration\" é o álbum mais popular da banda junto com o \"Wish\", e ao contrário do Hypnagogic States, ele possui um dos menores índices de partes cantadas em suas músicas, assim como também possui um dos menores índices de energia e junto com o \"Wish\", ele está entre os 5 álbuns com os menores índices de dançabilidade. \n",
        "Além disso, esse álbum é o que possui o maior índice instrumental comparado aos demais.\n",
        "Porém, esses fatores seriam determinantes para a popularidade do álbum? \n"
      ],
      "id": "vbGKteAMCv6P"
    },
    {
      "cell_type": "markdown",
      "metadata": {
        "id": "60f1d47c"
      },
      "source": [
        "### Gráfico de Popularidade por Álbum"
      ],
      "id": "60f1d47c"
    },
    {
      "cell_type": "code",
      "metadata": {
        "colab": {
          "base_uri": "https://localhost:8080/",
          "height": 414
        },
        "id": "138721b4",
        "outputId": "1d426a24-b972-4667-b1e7-0b2c35f90b27"
      },
      "source": [
        "plotar('Popularidade por Álbum', 'album_popularity', 'album_name', 'Popularidade', 'Nome do Álbum', 'album_popularity')"
      ],
      "id": "138721b4",
      "execution_count": 161,
      "outputs": [
        {
          "output_type": "display_data",
          "data": {
            "image/png": "[encoded data removed]",
            "text/plain": [
              "<Figure size 864x432 with 1 Axes>"
            ]
          },
          "metadata": {
            "tags": [],
            "needs_background": "light"
          }
        }
      ]
    },
    {
      "cell_type": "markdown",
      "metadata": {
        "id": "672f5dKcCjIC"
      },
      "source": [
        "Outro ponto de destaque, é o álbum Hypnagogic States, além de ser o álbum menos popular, podemos ver através dos gráficos que ele também possui um dos maiores índices de partes cantadas nas músicas em comparação aos outros álbuns. \n"
      ],
      "id": "672f5dKcCjIC"
    },
    {
      "cell_type": "markdown",
      "metadata": {
        "id": "LTSKZxCzwLE5"
      },
      "source": [
        "### Top 10 músicas mais populares"
      ],
      "id": "LTSKZxCzwLE5"
    },
    {
      "cell_type": "code",
      "metadata": {
        "colab": {
          "base_uri": "https://localhost:8080/",
          "height": 355
        },
        "id": "n8dqTnacwR-c",
        "outputId": "06662812-0922-4a42-a221-10b39ba6ebd4"
      },
      "source": [
        "top_musicas_sup('track_popularity')"
      ],
      "id": "n8dqTnacwR-c",
      "execution_count": 162,
      "outputs": [
        {
          "output_type": "execute_result",
          "data": {
            "text/html": [
              "<div>\n",
              "<style scoped>\n",
              "    .dataframe tbody tr th:only-of-type {\n",
              "        vertical-align: middle;\n",
              "    }\n",
              "\n",
              "    .dataframe tbody tr th {\n",
              "        vertical-align: top;\n",
              "    }\n",
              "\n",
              "    .dataframe thead th {\n",
              "        text-align: right;\n",
              "    }\n",
              "</style>\n",
              "<table border=\"1\" class=\"dataframe\">\n",
              "  <thead>\n",
              "    <tr style=\"text-align: right;\">\n",
              "      <th></th>\n",
              "      <th>track_name</th>\n",
              "      <th>album_name</th>\n",
              "      <th>track_popularity</th>\n",
              "    </tr>\n",
              "  </thead>\n",
              "  <tbody>\n",
              "    <tr>\n",
              "      <th>114</th>\n",
              "      <td>Friday I'm In Love</td>\n",
              "      <td>Wish</td>\n",
              "      <td>62</td>\n",
              "    </tr>\n",
              "    <tr>\n",
              "      <th>71</th>\n",
              "      <td>Lovesong</td>\n",
              "      <td>Disintegration (Deluxe Edition [Remastered])</td>\n",
              "      <td>58</td>\n",
              "    </tr>\n",
              "    <tr>\n",
              "      <th>69</th>\n",
              "      <td>Pictures Of You</td>\n",
              "      <td>Disintegration (Deluxe Edition [Remastered])</td>\n",
              "      <td>52</td>\n",
              "    </tr>\n",
              "    <tr>\n",
              "      <th>73</th>\n",
              "      <td>Lullaby</td>\n",
              "      <td>Disintegration (Deluxe Edition [Remastered])</td>\n",
              "      <td>50</td>\n",
              "    </tr>\n",
              "    <tr>\n",
              "      <th>74</th>\n",
              "      <td>Fascination Street</td>\n",
              "      <td>Disintegration (Deluxe Edition [Remastered])</td>\n",
              "      <td>49</td>\n",
              "    </tr>\n",
              "    <tr>\n",
              "      <th>116</th>\n",
              "      <td>A Letter To Elise</td>\n",
              "      <td>Wish</td>\n",
              "      <td>45</td>\n",
              "    </tr>\n",
              "    <tr>\n",
              "      <th>56</th>\n",
              "      <td>Just Like Heaven - 2006 Remastered Version</td>\n",
              "      <td>Kiss Me Kiss Me Kiss Me</td>\n",
              "      <td>45</td>\n",
              "    </tr>\n",
              "    <tr>\n",
              "      <th>44</th>\n",
              "      <td>Close To Me</td>\n",
              "      <td>The Head On The Door</td>\n",
              "      <td>43</td>\n",
              "    </tr>\n",
              "    <tr>\n",
              "      <th>118</th>\n",
              "      <td>To Wish Impossible Things</td>\n",
              "      <td>Wish</td>\n",
              "      <td>41</td>\n",
              "    </tr>\n",
              "    <tr>\n",
              "      <th>190</th>\n",
              "      <td>Underneath The Stars</td>\n",
              "      <td>4:13 Dream</td>\n",
              "      <td>41</td>\n",
              "    </tr>\n",
              "  </tbody>\n",
              "</table>\n",
              "</div>"
            ],
            "text/plain": [
              "                                     track_name  ... track_popularity\n",
              "114                          Friday I'm In Love  ...               62\n",
              "71                                     Lovesong  ...               58\n",
              "69                              Pictures Of You  ...               52\n",
              "73                                      Lullaby  ...               50\n",
              "74                           Fascination Street  ...               49\n",
              "116                           A Letter To Elise  ...               45\n",
              "56   Just Like Heaven - 2006 Remastered Version  ...               45\n",
              "44                                  Close To Me  ...               43\n",
              "118                   To Wish Impossible Things  ...               41\n",
              "190                        Underneath The Stars  ...               41\n",
              "\n",
              "[10 rows x 3 columns]"
            ]
          },
          "metadata": {
            "tags": []
          },
          "execution_count": 162
        }
      ]
    },
    {
      "cell_type": "markdown",
      "metadata": {
        "id": "EYVvFbB6y0zb"
      },
      "source": [
        "### Top 10 músicas menos populares"
      ],
      "id": "EYVvFbB6y0zb"
    },
    {
      "cell_type": "code",
      "metadata": {
        "colab": {
          "base_uri": "https://localhost:8080/",
          "height": 355
        },
        "id": "6QIEefTDyvML",
        "outputId": "77bb99a8-317b-4c3e-90c5-666d047e2836"
      },
      "source": [
        "top_musicas_inf('track_popularity')"
      ],
      "id": "6QIEefTDyvML",
      "execution_count": 163,
      "outputs": [
        {
          "output_type": "execute_result",
          "data": {
            "text/html": [
              "<div>\n",
              "<style scoped>\n",
              "    .dataframe tbody tr th:only-of-type {\n",
              "        vertical-align: middle;\n",
              "    }\n",
              "\n",
              "    .dataframe tbody tr th {\n",
              "        vertical-align: top;\n",
              "    }\n",
              "\n",
              "    .dataframe thead th {\n",
              "        text-align: right;\n",
              "    }\n",
              "</style>\n",
              "<table border=\"1\" class=\"dataframe\">\n",
              "  <thead>\n",
              "    <tr style=\"text-align: right;\">\n",
              "      <th></th>\n",
              "      <th>track_name</th>\n",
              "      <th>album_name</th>\n",
              "      <th>track_popularity</th>\n",
              "    </tr>\n",
              "  </thead>\n",
              "  <tbody>\n",
              "    <tr>\n",
              "      <th>189</th>\n",
              "      <td>The Only One - Remix 65 by 65 Days Of Static</td>\n",
              "      <td>Hypnagogic States</td>\n",
              "      <td>0</td>\n",
              "    </tr>\n",
              "    <tr>\n",
              "      <th>183</th>\n",
              "      <td>The Promise</td>\n",
              "      <td>The Cure</td>\n",
              "      <td>0</td>\n",
              "    </tr>\n",
              "    <tr>\n",
              "      <th>220</th>\n",
              "      <td>One Hundred Years - Bestival Live 2011</td>\n",
              "      <td>Bestival Live 2011</td>\n",
              "      <td>4</td>\n",
              "    </tr>\n",
              "    <tr>\n",
              "      <th>219</th>\n",
              "      <td>The Hungry Ghost - Bestival Live 2011</td>\n",
              "      <td>Bestival Live 2011</td>\n",
              "      <td>4</td>\n",
              "    </tr>\n",
              "    <tr>\n",
              "      <th>221</th>\n",
              "      <td>End - Bestival Live 2011</td>\n",
              "      <td>Bestival Live 2011</td>\n",
              "      <td>4</td>\n",
              "    </tr>\n",
              "    <tr>\n",
              "      <th>222</th>\n",
              "      <td>Disintegration - Bestival Live 2011</td>\n",
              "      <td>Bestival Live 2011</td>\n",
              "      <td>5</td>\n",
              "    </tr>\n",
              "    <tr>\n",
              "      <th>217</th>\n",
              "      <td>Primary - Bestival Live 2011</td>\n",
              "      <td>Bestival Live 2011</td>\n",
              "      <td>5</td>\n",
              "    </tr>\n",
              "    <tr>\n",
              "      <th>215</th>\n",
              "      <td>Play For Today - Bestival Live 2011</td>\n",
              "      <td>Bestival Live 2011</td>\n",
              "      <td>5</td>\n",
              "    </tr>\n",
              "    <tr>\n",
              "      <th>218</th>\n",
              "      <td>Shake Dog Shake - Bestival Live 2011</td>\n",
              "      <td>Bestival Live 2011</td>\n",
              "      <td>5</td>\n",
              "    </tr>\n",
              "    <tr>\n",
              "      <th>212</th>\n",
              "      <td>Push - Bestival Live 2011</td>\n",
              "      <td>Bestival Live 2011</td>\n",
              "      <td>6</td>\n",
              "    </tr>\n",
              "  </tbody>\n",
              "</table>\n",
              "</div>"
            ],
            "text/plain": [
              "                                       track_name  ... track_popularity\n",
              "189  The Only One - Remix 65 by 65 Days Of Static  ...                0\n",
              "183                                   The Promise  ...                0\n",
              "220        One Hundred Years - Bestival Live 2011  ...                4\n",
              "219         The Hungry Ghost - Bestival Live 2011  ...                4\n",
              "221                      End - Bestival Live 2011  ...                4\n",
              "222           Disintegration - Bestival Live 2011  ...                5\n",
              "217                  Primary - Bestival Live 2011  ...                5\n",
              "215           Play For Today - Bestival Live 2011  ...                5\n",
              "218          Shake Dog Shake - Bestival Live 2011  ...                5\n",
              "212                     Push - Bestival Live 2011  ...                6\n",
              "\n",
              "[10 rows x 3 columns]"
            ]
          },
          "metadata": {
            "tags": []
          },
          "execution_count": 163
        }
      ]
    },
    {
      "cell_type": "markdown",
      "metadata": {
        "id": "05UJz57cWzbu"
      },
      "source": [
        "### Análise de popularidade das tracks dos álbuns mais populares"
      ],
      "id": "05UJz57cWzbu"
    },
    {
      "cell_type": "markdown",
      "metadata": {
        "id": "aL536F3vW_me"
      },
      "source": [
        "#### DISINTEGRATION"
      ],
      "id": "aL536F3vW_me"
    },
    {
      "cell_type": "code",
      "metadata": {
        "id": "6TLyHOVUXFbc"
      },
      "source": [
        "musicas_disintegration = discografia.query(\"album_name=='Disintegration (Deluxe Edition [Remastered])'\")[['track_name', 'album_name', 'track_popularity']]\n",
        "musicas_disintegration = musicas_disintegration.sort_values('track_popularity', ascending = False)"
      ],
      "id": "6TLyHOVUXFbc",
      "execution_count": 164,
      "outputs": []
    },
    {
      "cell_type": "code",
      "metadata": {
        "colab": {
          "base_uri": "https://localhost:8080/",
          "height": 662
        },
        "id": "dGQq8i0RXJPN",
        "outputId": "7f9c7316-09b1-4400-acd8-861aa15eb1b8"
      },
      "source": [
        "musicas_disintegration"
      ],
      "id": "dGQq8i0RXJPN",
      "execution_count": 165,
      "outputs": [
        {
          "output_type": "execute_result",
          "data": {
            "text/html": [
              "<div>\n",
              "<style scoped>\n",
              "    .dataframe tbody tr th:only-of-type {\n",
              "        vertical-align: middle;\n",
              "    }\n",
              "\n",
              "    .dataframe tbody tr th {\n",
              "        vertical-align: top;\n",
              "    }\n",
              "\n",
              "    .dataframe thead th {\n",
              "        text-align: right;\n",
              "    }\n",
              "</style>\n",
              "<table border=\"1\" class=\"dataframe\">\n",
              "  <thead>\n",
              "    <tr style=\"text-align: right;\">\n",
              "      <th></th>\n",
              "      <th>track_name</th>\n",
              "      <th>album_name</th>\n",
              "      <th>track_popularity</th>\n",
              "    </tr>\n",
              "  </thead>\n",
              "  <tbody>\n",
              "    <tr>\n",
              "      <th>71</th>\n",
              "      <td>Lovesong</td>\n",
              "      <td>Disintegration (Deluxe Edition [Remastered])</td>\n",
              "      <td>58</td>\n",
              "    </tr>\n",
              "    <tr>\n",
              "      <th>69</th>\n",
              "      <td>Pictures Of You</td>\n",
              "      <td>Disintegration (Deluxe Edition [Remastered])</td>\n",
              "      <td>52</td>\n",
              "    </tr>\n",
              "    <tr>\n",
              "      <th>73</th>\n",
              "      <td>Lullaby</td>\n",
              "      <td>Disintegration (Deluxe Edition [Remastered])</td>\n",
              "      <td>50</td>\n",
              "    </tr>\n",
              "    <tr>\n",
              "      <th>74</th>\n",
              "      <td>Fascination Street</td>\n",
              "      <td>Disintegration (Deluxe Edition [Remastered])</td>\n",
              "      <td>49</td>\n",
              "    </tr>\n",
              "    <tr>\n",
              "      <th>68</th>\n",
              "      <td>Plainsong</td>\n",
              "      <td>Disintegration (Deluxe Edition [Remastered])</td>\n",
              "      <td>40</td>\n",
              "    </tr>\n",
              "    <tr>\n",
              "      <th>77</th>\n",
              "      <td>Disintegration</td>\n",
              "      <td>Disintegration (Deluxe Edition [Remastered])</td>\n",
              "      <td>40</td>\n",
              "    </tr>\n",
              "    <tr>\n",
              "      <th>70</th>\n",
              "      <td>Closedown</td>\n",
              "      <td>Disintegration (Deluxe Edition [Remastered])</td>\n",
              "      <td>36</td>\n",
              "    </tr>\n",
              "    <tr>\n",
              "      <th>72</th>\n",
              "      <td>Last Dance</td>\n",
              "      <td>Disintegration (Deluxe Edition [Remastered])</td>\n",
              "      <td>35</td>\n",
              "    </tr>\n",
              "    <tr>\n",
              "      <th>75</th>\n",
              "      <td>Prayers For Rain</td>\n",
              "      <td>Disintegration (Deluxe Edition [Remastered])</td>\n",
              "      <td>35</td>\n",
              "    </tr>\n",
              "    <tr>\n",
              "      <th>76</th>\n",
              "      <td>The Same Deep Water As You</td>\n",
              "      <td>Disintegration (Deluxe Edition [Remastered])</td>\n",
              "      <td>32</td>\n",
              "    </tr>\n",
              "    <tr>\n",
              "      <th>78</th>\n",
              "      <td>Homesick</td>\n",
              "      <td>Disintegration (Deluxe Edition [Remastered])</td>\n",
              "      <td>30</td>\n",
              "    </tr>\n",
              "    <tr>\n",
              "      <th>79</th>\n",
              "      <td>Untitled</td>\n",
              "      <td>Disintegration (Deluxe Edition [Remastered])</td>\n",
              "      <td>27</td>\n",
              "    </tr>\n",
              "    <tr>\n",
              "      <th>81</th>\n",
              "      <td>Pictures Of You [RS Home Demo (instrumental)-0...</td>\n",
              "      <td>Disintegration (Deluxe Edition [Remastered])</td>\n",
              "      <td>23</td>\n",
              "    </tr>\n",
              "    <tr>\n",
              "      <th>80</th>\n",
              "      <td>Prayers For Rain [RS Home Demo (instrumental)-...</td>\n",
              "      <td>Disintegration (Deluxe Edition [Remastered])</td>\n",
              "      <td>22</td>\n",
              "    </tr>\n",
              "    <tr>\n",
              "      <th>82</th>\n",
              "      <td>Fascination Street [RS Home Demo (instrumental...</td>\n",
              "      <td>Disintegration (Deluxe Edition [Remastered])</td>\n",
              "      <td>21</td>\n",
              "    </tr>\n",
              "    <tr>\n",
              "      <th>83</th>\n",
              "      <td>Homesick [Band Rehearsal (instrumental)-06/88]</td>\n",
              "      <td>Disintegration (Deluxe Edition [Remastered])</td>\n",
              "      <td>20</td>\n",
              "    </tr>\n",
              "    <tr>\n",
              "      <th>84</th>\n",
              "      <td>Fear Of Ghosts [Band Rehearsal (instrumental)-...</td>\n",
              "      <td>Disintegration (Deluxe Edition [Remastered])</td>\n",
              "      <td>20</td>\n",
              "    </tr>\n",
              "    <tr>\n",
              "      <th>86</th>\n",
              "      <td>Esten [Band Demo (instrumental)-09/88]</td>\n",
              "      <td>Disintegration (Deluxe Edition [Remastered])</td>\n",
              "      <td>20</td>\n",
              "    </tr>\n",
              "    <tr>\n",
              "      <th>85</th>\n",
              "      <td>No Heart [Band Rehearsal (instrumental)-06/88]</td>\n",
              "      <td>Disintegration (Deluxe Edition [Remastered])</td>\n",
              "      <td>19</td>\n",
              "    </tr>\n",
              "    <tr>\n",
              "      <th>87</th>\n",
              "      <td>Closedown [Band Demo (instrumental)-09/88]</td>\n",
              "      <td>Disintegration (Deluxe Edition [Remastered])</td>\n",
              "      <td>19</td>\n",
              "    </tr>\n",
              "  </tbody>\n",
              "</table>\n",
              "</div>"
            ],
            "text/plain": [
              "                                           track_name  ... track_popularity\n",
              "71                                           Lovesong  ...               58\n",
              "69                                    Pictures Of You  ...               52\n",
              "73                                            Lullaby  ...               50\n",
              "74                                 Fascination Street  ...               49\n",
              "68                                          Plainsong  ...               40\n",
              "77                                     Disintegration  ...               40\n",
              "70                                          Closedown  ...               36\n",
              "72                                         Last Dance  ...               35\n",
              "75                                   Prayers For Rain  ...               35\n",
              "76                         The Same Deep Water As You  ...               32\n",
              "78                                           Homesick  ...               30\n",
              "79                                           Untitled  ...               27\n",
              "81  Pictures Of You [RS Home Demo (instrumental)-0...  ...               23\n",
              "80  Prayers For Rain [RS Home Demo (instrumental)-...  ...               22\n",
              "82  Fascination Street [RS Home Demo (instrumental...  ...               21\n",
              "83     Homesick [Band Rehearsal (instrumental)-06/88]  ...               20\n",
              "84  Fear Of Ghosts [Band Rehearsal (instrumental)-...  ...               20\n",
              "86             Esten [Band Demo (instrumental)-09/88]  ...               20\n",
              "85     No Heart [Band Rehearsal (instrumental)-06/88]  ...               19\n",
              "87         Closedown [Band Demo (instrumental)-09/88]  ...               19\n",
              "\n",
              "[20 rows x 3 columns]"
            ]
          },
          "metadata": {
            "tags": []
          },
          "execution_count": 165
        }
      ]
    },
    {
      "cell_type": "code",
      "metadata": {
        "colab": {
          "base_uri": "https://localhost:8080/",
          "height": 78
        },
        "id": "7I0w_aeXXNIJ",
        "outputId": "19decf61-075f-4bde-d338-cc16b290aa0b"
      },
      "source": [
        "media_popularidade_musicas_disintegration = musicas_disintegration.groupby('album_name').mean()[['track_popularity']].reset_index()\n",
        "media_popularidade_musicas_disintegration"
      ],
      "id": "7I0w_aeXXNIJ",
      "execution_count": 166,
      "outputs": [
        {
          "output_type": "execute_result",
          "data": {
            "text/html": [
              "<div>\n",
              "<style scoped>\n",
              "    .dataframe tbody tr th:only-of-type {\n",
              "        vertical-align: middle;\n",
              "    }\n",
              "\n",
              "    .dataframe tbody tr th {\n",
              "        vertical-align: top;\n",
              "    }\n",
              "\n",
              "    .dataframe thead th {\n",
              "        text-align: right;\n",
              "    }\n",
              "</style>\n",
              "<table border=\"1\" class=\"dataframe\">\n",
              "  <thead>\n",
              "    <tr style=\"text-align: right;\">\n",
              "      <th></th>\n",
              "      <th>album_name</th>\n",
              "      <th>track_popularity</th>\n",
              "    </tr>\n",
              "  </thead>\n",
              "  <tbody>\n",
              "    <tr>\n",
              "      <th>0</th>\n",
              "      <td>Disintegration (Deluxe Edition [Remastered])</td>\n",
              "      <td>32.4</td>\n",
              "    </tr>\n",
              "  </tbody>\n",
              "</table>\n",
              "</div>"
            ],
            "text/plain": [
              "                                     album_name  track_popularity\n",
              "0  Disintegration (Deluxe Edition [Remastered])              32.4"
            ]
          },
          "metadata": {
            "tags": []
          },
          "execution_count": 166
        }
      ]
    },
    {
      "cell_type": "markdown",
      "metadata": {
        "id": "JGAcw438Xp-u"
      },
      "source": [
        "#### WISH"
      ],
      "id": "JGAcw438Xp-u"
    },
    {
      "cell_type": "code",
      "metadata": {
        "colab": {
          "base_uri": "https://localhost:8080/",
          "height": 416
        },
        "id": "5LMfo5L5XwZ9",
        "outputId": "f424bc71-aec9-4764-cbd1-d8be455ce3ad"
      },
      "source": [
        "musicas_wish = discografia.query(\"album_name=='Wish'\")[['album_name','track_name', 'track_popularity']]\n",
        "musicas_wish = musicas_wish.sort_values('track_popularity', ascending = False)\n",
        "musicas_wish"
      ],
      "id": "5LMfo5L5XwZ9",
      "execution_count": 167,
      "outputs": [
        {
          "output_type": "execute_result",
          "data": {
            "text/html": [
              "<div>\n",
              "<style scoped>\n",
              "    .dataframe tbody tr th:only-of-type {\n",
              "        vertical-align: middle;\n",
              "    }\n",
              "\n",
              "    .dataframe tbody tr th {\n",
              "        vertical-align: top;\n",
              "    }\n",
              "\n",
              "    .dataframe thead th {\n",
              "        text-align: right;\n",
              "    }\n",
              "</style>\n",
              "<table border=\"1\" class=\"dataframe\">\n",
              "  <thead>\n",
              "    <tr style=\"text-align: right;\">\n",
              "      <th></th>\n",
              "      <th>album_name</th>\n",
              "      <th>track_name</th>\n",
              "      <th>track_popularity</th>\n",
              "    </tr>\n",
              "  </thead>\n",
              "  <tbody>\n",
              "    <tr>\n",
              "      <th>114</th>\n",
              "      <td>Wish</td>\n",
              "      <td>Friday I'm In Love</td>\n",
              "      <td>62</td>\n",
              "    </tr>\n",
              "    <tr>\n",
              "      <th>116</th>\n",
              "      <td>Wish</td>\n",
              "      <td>A Letter To Elise</td>\n",
              "      <td>45</td>\n",
              "    </tr>\n",
              "    <tr>\n",
              "      <th>118</th>\n",
              "      <td>Wish</td>\n",
              "      <td>To Wish Impossible Things</td>\n",
              "      <td>41</td>\n",
              "    </tr>\n",
              "    <tr>\n",
              "      <th>109</th>\n",
              "      <td>Wish</td>\n",
              "      <td>High</td>\n",
              "      <td>40</td>\n",
              "    </tr>\n",
              "    <tr>\n",
              "      <th>111</th>\n",
              "      <td>Wish</td>\n",
              "      <td>From The Edge Of The Deep Green Sea</td>\n",
              "      <td>37</td>\n",
              "    </tr>\n",
              "    <tr>\n",
              "      <th>108</th>\n",
              "      <td>Wish</td>\n",
              "      <td>Open</td>\n",
              "      <td>36</td>\n",
              "    </tr>\n",
              "    <tr>\n",
              "      <th>110</th>\n",
              "      <td>Wish</td>\n",
              "      <td>Apart</td>\n",
              "      <td>30</td>\n",
              "    </tr>\n",
              "    <tr>\n",
              "      <th>113</th>\n",
              "      <td>Wish</td>\n",
              "      <td>Doing The Unstuck</td>\n",
              "      <td>30</td>\n",
              "    </tr>\n",
              "    <tr>\n",
              "      <th>115</th>\n",
              "      <td>Wish</td>\n",
              "      <td>Trust</td>\n",
              "      <td>30</td>\n",
              "    </tr>\n",
              "    <tr>\n",
              "      <th>117</th>\n",
              "      <td>Wish</td>\n",
              "      <td>Cut</td>\n",
              "      <td>28</td>\n",
              "    </tr>\n",
              "    <tr>\n",
              "      <th>112</th>\n",
              "      <td>Wish</td>\n",
              "      <td>Wendy Time</td>\n",
              "      <td>27</td>\n",
              "    </tr>\n",
              "    <tr>\n",
              "      <th>119</th>\n",
              "      <td>Wish</td>\n",
              "      <td>End</td>\n",
              "      <td>26</td>\n",
              "    </tr>\n",
              "  </tbody>\n",
              "</table>\n",
              "</div>"
            ],
            "text/plain": [
              "    album_name                           track_name  track_popularity\n",
              "114       Wish                   Friday I'm In Love                62\n",
              "116       Wish                    A Letter To Elise                45\n",
              "118       Wish            To Wish Impossible Things                41\n",
              "109       Wish                                 High                40\n",
              "111       Wish  From The Edge Of The Deep Green Sea                37\n",
              "108       Wish                                 Open                36\n",
              "110       Wish                                Apart                30\n",
              "113       Wish                    Doing The Unstuck                30\n",
              "115       Wish                                Trust                30\n",
              "117       Wish                                  Cut                28\n",
              "112       Wish                           Wendy Time                27\n",
              "119       Wish                                  End                26"
            ]
          },
          "metadata": {
            "tags": []
          },
          "execution_count": 167
        }
      ]
    },
    {
      "cell_type": "code",
      "metadata": {
        "colab": {
          "base_uri": "https://localhost:8080/",
          "height": 78
        },
        "id": "AWYI4FyEYDgs",
        "outputId": "a50d07dc-2ab7-4ef6-9b83-abfbb2effbf4"
      },
      "source": [
        "media_popularidade_musicas_wish = musicas_wish.groupby('album_name').mean()[['track_popularity']].reset_index()\n",
        "media_popularidade_musicas_wish"
      ],
      "id": "AWYI4FyEYDgs",
      "execution_count": 168,
      "outputs": [
        {
          "output_type": "execute_result",
          "data": {
            "text/html": [
              "<div>\n",
              "<style scoped>\n",
              "    .dataframe tbody tr th:only-of-type {\n",
              "        vertical-align: middle;\n",
              "    }\n",
              "\n",
              "    .dataframe tbody tr th {\n",
              "        vertical-align: top;\n",
              "    }\n",
              "\n",
              "    .dataframe thead th {\n",
              "        text-align: right;\n",
              "    }\n",
              "</style>\n",
              "<table border=\"1\" class=\"dataframe\">\n",
              "  <thead>\n",
              "    <tr style=\"text-align: right;\">\n",
              "      <th></th>\n",
              "      <th>album_name</th>\n",
              "      <th>track_popularity</th>\n",
              "    </tr>\n",
              "  </thead>\n",
              "  <tbody>\n",
              "    <tr>\n",
              "      <th>0</th>\n",
              "      <td>Wish</td>\n",
              "      <td>36</td>\n",
              "    </tr>\n",
              "  </tbody>\n",
              "</table>\n",
              "</div>"
            ],
            "text/plain": [
              "  album_name  track_popularity\n",
              "0       Wish                36"
            ]
          },
          "metadata": {
            "tags": []
          },
          "execution_count": 168
        }
      ]
    },
    {
      "cell_type": "markdown",
      "metadata": {
        "id": "OTaG2JnNYTqb"
      },
      "source": [
        "#### KISS ME KISS ME KISS ME"
      ],
      "id": "OTaG2JnNYTqb"
    },
    {
      "cell_type": "code",
      "metadata": {
        "colab": {
          "base_uri": "https://localhost:8080/",
          "height": 662
        },
        "id": "8NYQ_AcTYXbU",
        "outputId": "1e0cb8f1-0574-4283-f99d-44eb2c309aad"
      },
      "source": [
        "musicas_kissme = discografia.query(\"album_name=='Kiss Me Kiss Me Kiss Me'\")[['track_name', 'album_name', 'track_popularity']]\n",
        "musicas_kissme = musicas_kissme.sort_values('track_popularity', ascending = False)\n",
        "musicas_kissme"
      ],
      "id": "8NYQ_AcTYXbU",
      "execution_count": 169,
      "outputs": [
        {
          "output_type": "execute_result",
          "data": {
            "text/html": [
              "<div>\n",
              "<style scoped>\n",
              "    .dataframe tbody tr th:only-of-type {\n",
              "        vertical-align: middle;\n",
              "    }\n",
              "\n",
              "    .dataframe tbody tr th {\n",
              "        vertical-align: top;\n",
              "    }\n",
              "\n",
              "    .dataframe thead th {\n",
              "        text-align: right;\n",
              "    }\n",
              "</style>\n",
              "<table border=\"1\" class=\"dataframe\">\n",
              "  <thead>\n",
              "    <tr style=\"text-align: right;\">\n",
              "      <th></th>\n",
              "      <th>track_name</th>\n",
              "      <th>album_name</th>\n",
              "      <th>track_popularity</th>\n",
              "    </tr>\n",
              "  </thead>\n",
              "  <tbody>\n",
              "    <tr>\n",
              "      <th>56</th>\n",
              "      <td>Just Like Heaven - 2006 Remastered Version</td>\n",
              "      <td>Kiss Me Kiss Me Kiss Me</td>\n",
              "      <td>45</td>\n",
              "    </tr>\n",
              "    <tr>\n",
              "      <th>53</th>\n",
              "      <td>How Beautiful You Are - 2006 Remastered Version</td>\n",
              "      <td>Kiss Me Kiss Me Kiss Me</td>\n",
              "      <td>35</td>\n",
              "    </tr>\n",
              "    <tr>\n",
              "      <th>52</th>\n",
              "      <td>Why Can't I Be You? - 2006 Remastered Version</td>\n",
              "      <td>Kiss Me Kiss Me Kiss Me</td>\n",
              "      <td>32</td>\n",
              "    </tr>\n",
              "    <tr>\n",
              "      <th>48</th>\n",
              "      <td>The Kiss - 2006 Remastered Version</td>\n",
              "      <td>Kiss Me Kiss Me Kiss Me</td>\n",
              "      <td>31</td>\n",
              "    </tr>\n",
              "    <tr>\n",
              "      <th>49</th>\n",
              "      <td>Catch - 2006 Remastered Version</td>\n",
              "      <td>Kiss Me Kiss Me Kiss Me</td>\n",
              "      <td>30</td>\n",
              "    </tr>\n",
              "    <tr>\n",
              "      <th>58</th>\n",
              "      <td>Hot Hot Hot !!! - 2006 Remastered Version</td>\n",
              "      <td>Kiss Me Kiss Me Kiss Me</td>\n",
              "      <td>30</td>\n",
              "    </tr>\n",
              "    <tr>\n",
              "      <th>51</th>\n",
              "      <td>If Only Tonight We Could Sleep - 2006 Remaster...</td>\n",
              "      <td>Kiss Me Kiss Me Kiss Me</td>\n",
              "      <td>27</td>\n",
              "    </tr>\n",
              "    <tr>\n",
              "      <th>57</th>\n",
              "      <td>All I Want - 2006 Remastered Version</td>\n",
              "      <td>Kiss Me Kiss Me Kiss Me</td>\n",
              "      <td>27</td>\n",
              "    </tr>\n",
              "    <tr>\n",
              "      <th>62</th>\n",
              "      <td>The Perfect Girl - 2006 Remastered Version</td>\n",
              "      <td>Kiss Me Kiss Me Kiss Me</td>\n",
              "      <td>27</td>\n",
              "    </tr>\n",
              "    <tr>\n",
              "      <th>59</th>\n",
              "      <td>One More Time - 2006 Remastered Version</td>\n",
              "      <td>Kiss Me Kiss Me Kiss Me</td>\n",
              "      <td>26</td>\n",
              "    </tr>\n",
              "    <tr>\n",
              "      <th>50</th>\n",
              "      <td>Torture - 2006 Remastered Version</td>\n",
              "      <td>Kiss Me Kiss Me Kiss Me</td>\n",
              "      <td>25</td>\n",
              "    </tr>\n",
              "    <tr>\n",
              "      <th>60</th>\n",
              "      <td>Like Cockatoos - 2006 Remastered Version</td>\n",
              "      <td>Kiss Me Kiss Me Kiss Me</td>\n",
              "      <td>25</td>\n",
              "    </tr>\n",
              "    <tr>\n",
              "      <th>63</th>\n",
              "      <td>A Thousand Hours - 2006 Remastered Version</td>\n",
              "      <td>Kiss Me Kiss Me Kiss Me</td>\n",
              "      <td>24</td>\n",
              "    </tr>\n",
              "    <tr>\n",
              "      <th>54</th>\n",
              "      <td>The Snakepit - 2006 Remastered Version</td>\n",
              "      <td>Kiss Me Kiss Me Kiss Me</td>\n",
              "      <td>23</td>\n",
              "    </tr>\n",
              "    <tr>\n",
              "      <th>55</th>\n",
              "      <td>Hey You !!! - 2006 Remastered Version</td>\n",
              "      <td>Kiss Me Kiss Me Kiss Me</td>\n",
              "      <td>23</td>\n",
              "    </tr>\n",
              "    <tr>\n",
              "      <th>61</th>\n",
              "      <td>Icing Sugar - 2006 Remastered Version</td>\n",
              "      <td>Kiss Me Kiss Me Kiss Me</td>\n",
              "      <td>22</td>\n",
              "    </tr>\n",
              "    <tr>\n",
              "      <th>64</th>\n",
              "      <td>Shiver and Shake - 2006 Remastered Version</td>\n",
              "      <td>Kiss Me Kiss Me Kiss Me</td>\n",
              "      <td>21</td>\n",
              "    </tr>\n",
              "    <tr>\n",
              "      <th>65</th>\n",
              "      <td>Fight - 2006 Remastered Version</td>\n",
              "      <td>Kiss Me Kiss Me Kiss Me</td>\n",
              "      <td>21</td>\n",
              "    </tr>\n",
              "    <tr>\n",
              "      <th>67</th>\n",
              "      <td>The Perfect Girl [Beethoven St. Studio Demo 6/...</td>\n",
              "      <td>Kiss Me Kiss Me Kiss Me</td>\n",
              "      <td>17</td>\n",
              "    </tr>\n",
              "    <tr>\n",
              "      <th>66</th>\n",
              "      <td>The Kiss [RS Home Demo 3/86] [Instrumental]</td>\n",
              "      <td>Kiss Me Kiss Me Kiss Me</td>\n",
              "      <td>16</td>\n",
              "    </tr>\n",
              "  </tbody>\n",
              "</table>\n",
              "</div>"
            ],
            "text/plain": [
              "                                           track_name  ... track_popularity\n",
              "56         Just Like Heaven - 2006 Remastered Version  ...               45\n",
              "53    How Beautiful You Are - 2006 Remastered Version  ...               35\n",
              "52      Why Can't I Be You? - 2006 Remastered Version  ...               32\n",
              "48                 The Kiss - 2006 Remastered Version  ...               31\n",
              "49                    Catch - 2006 Remastered Version  ...               30\n",
              "58          Hot Hot Hot !!! - 2006 Remastered Version  ...               30\n",
              "51  If Only Tonight We Could Sleep - 2006 Remaster...  ...               27\n",
              "57               All I Want - 2006 Remastered Version  ...               27\n",
              "62         The Perfect Girl - 2006 Remastered Version  ...               27\n",
              "59            One More Time - 2006 Remastered Version  ...               26\n",
              "50                  Torture - 2006 Remastered Version  ...               25\n",
              "60           Like Cockatoos - 2006 Remastered Version  ...               25\n",
              "63         A Thousand Hours - 2006 Remastered Version  ...               24\n",
              "54             The Snakepit - 2006 Remastered Version  ...               23\n",
              "55              Hey You !!! - 2006 Remastered Version  ...               23\n",
              "61              Icing Sugar - 2006 Remastered Version  ...               22\n",
              "64         Shiver and Shake - 2006 Remastered Version  ...               21\n",
              "65                    Fight - 2006 Remastered Version  ...               21\n",
              "67  The Perfect Girl [Beethoven St. Studio Demo 6/...  ...               17\n",
              "66        The Kiss [RS Home Demo 3/86] [Instrumental]  ...               16\n",
              "\n",
              "[20 rows x 3 columns]"
            ]
          },
          "metadata": {
            "tags": []
          },
          "execution_count": 169
        }
      ]
    },
    {
      "cell_type": "code",
      "metadata": {
        "colab": {
          "base_uri": "https://localhost:8080/",
          "height": 78
        },
        "id": "CuHcNxndY0sI",
        "outputId": "99795027-d314-4588-bb5d-e21e1c00ac4f"
      },
      "source": [
        "media_popularidade_musicas_kissme = musicas_kissme.groupby('album_name').mean()[['track_popularity']].reset_index()\n",
        "media_popularidade_musicas_kissme"
      ],
      "id": "CuHcNxndY0sI",
      "execution_count": 170,
      "outputs": [
        {
          "output_type": "execute_result",
          "data": {
            "text/html": [
              "<div>\n",
              "<style scoped>\n",
              "    .dataframe tbody tr th:only-of-type {\n",
              "        vertical-align: middle;\n",
              "    }\n",
              "\n",
              "    .dataframe tbody tr th {\n",
              "        vertical-align: top;\n",
              "    }\n",
              "\n",
              "    .dataframe thead th {\n",
              "        text-align: right;\n",
              "    }\n",
              "</style>\n",
              "<table border=\"1\" class=\"dataframe\">\n",
              "  <thead>\n",
              "    <tr style=\"text-align: right;\">\n",
              "      <th></th>\n",
              "      <th>album_name</th>\n",
              "      <th>track_popularity</th>\n",
              "    </tr>\n",
              "  </thead>\n",
              "  <tbody>\n",
              "    <tr>\n",
              "      <th>0</th>\n",
              "      <td>Kiss Me Kiss Me Kiss Me</td>\n",
              "      <td>26.35</td>\n",
              "    </tr>\n",
              "  </tbody>\n",
              "</table>\n",
              "</div>"
            ],
            "text/plain": [
              "                album_name  track_popularity\n",
              "0  Kiss Me Kiss Me Kiss Me             26.35"
            ]
          },
          "metadata": {
            "tags": []
          },
          "execution_count": 170
        }
      ]
    },
    {
      "cell_type": "markdown",
      "metadata": {
        "id": "HP_Ql1lYfT4G"
      },
      "source": [
        "#### Dataset dos 3 álbuns mais populares comparando a média de popularidade de suas músicas com a popularidade do álbum"
      ],
      "id": "HP_Ql1lYfT4G"
    },
    {
      "cell_type": "code",
      "metadata": {
        "colab": {
          "base_uri": "https://localhost:8080/",
          "height": 141
        },
        "id": "27qiIXgoff6M",
        "outputId": "d77ea38e-68e5-420d-9d51-c5c13de81349"
      },
      "source": [
        "media_popularidade_comparativa = pd.concat([media_popularidade_musicas_disintegration, media_popularidade_musicas_wish, media_popularidade_musicas_kissme]).reset_index()\n",
        "media_popularidade_comparativa"
      ],
      "id": "27qiIXgoff6M",
      "execution_count": 171,
      "outputs": [
        {
          "output_type": "execute_result",
          "data": {
            "text/html": [
              "<div>\n",
              "<style scoped>\n",
              "    .dataframe tbody tr th:only-of-type {\n",
              "        vertical-align: middle;\n",
              "    }\n",
              "\n",
              "    .dataframe tbody tr th {\n",
              "        vertical-align: top;\n",
              "    }\n",
              "\n",
              "    .dataframe thead th {\n",
              "        text-align: right;\n",
              "    }\n",
              "</style>\n",
              "<table border=\"1\" class=\"dataframe\">\n",
              "  <thead>\n",
              "    <tr style=\"text-align: right;\">\n",
              "      <th></th>\n",
              "      <th>index</th>\n",
              "      <th>album_name</th>\n",
              "      <th>track_popularity</th>\n",
              "    </tr>\n",
              "  </thead>\n",
              "  <tbody>\n",
              "    <tr>\n",
              "      <th>0</th>\n",
              "      <td>0</td>\n",
              "      <td>Disintegration (Deluxe Edition [Remastered])</td>\n",
              "      <td>32.40</td>\n",
              "    </tr>\n",
              "    <tr>\n",
              "      <th>1</th>\n",
              "      <td>0</td>\n",
              "      <td>Wish</td>\n",
              "      <td>36.00</td>\n",
              "    </tr>\n",
              "    <tr>\n",
              "      <th>2</th>\n",
              "      <td>0</td>\n",
              "      <td>Kiss Me Kiss Me Kiss Me</td>\n",
              "      <td>26.35</td>\n",
              "    </tr>\n",
              "  </tbody>\n",
              "</table>\n",
              "</div>"
            ],
            "text/plain": [
              "   index                                    album_name  track_popularity\n",
              "0      0  Disintegration (Deluxe Edition [Remastered])             32.40\n",
              "1      0                                          Wish             36.00\n",
              "2      0                       Kiss Me Kiss Me Kiss Me             26.35"
            ]
          },
          "metadata": {
            "tags": []
          },
          "execution_count": 171
        }
      ]
    },
    {
      "cell_type": "markdown",
      "metadata": {
        "id": "fns44pibDELZ"
      },
      "source": [
        "### Análise da relação das músicas mais populares com os álbuns mais populares\n",
        "Ao analisar os 3 álbuns mais populares individualmente, vemos a popularidade das músicas que estão dentro deles. Com isso, podemos comparar a popularidade do álbum com a média de popularidade de suas músicas.\n",
        "O álbum Disintegration possui uma popularidade de 52, enquanto a média de popularidade de suas músicas é de apenas 32,4.\n",
        "Já o álbum Wish, possui a mesma popularidade do Disintegration, porém, a média de popularidade de suas músicas é de 36.\n",
        "Por fim, o álbum Kiss Me Kiss Me Kiss Me possui uma popularidade de 40, enquanto a média de popularidade de suas músicas é de 26,3.\n",
        "Sendo valores tão distantes entre a média de popularidade das músicas e a popularidade do álbum, o que faz esses álbuns serem tão populares comparados aos demais?\n",
        "Podemos dar uma olhada no Top 10 geral das músicas mais populares do The Cure, ao observar esse ranking, vemos que 8 das 10 músicas mais populares da banda estão dentro dos 3 álbuns mais populares. \n",
        "Se fizermos uma média dessas músicas, vemos que:\n",
        "A média das músicas mais populares do álbum Disintegration que aparecem no Top 10 geral da banda é igual a 52,2 e a média do álbum é 52.\n",
        "A média das músicas mais populares do álbum Wish que aparecem no Top 10 geral da banda é igual a 49,3 e a média do álbum é 52.\n",
        "A única música do álbum Kiss Me Kiss Me Kiss Me que aparece no Top 10 possui um índice de popularidade igual a 45, enquanto a popularidade do álbum é 40.\n",
        "Além disso, vemos também uma certa diferença considerável entre a popularidade dessas músicas e as demais que compõem esses álbuns. Com isso, vemos que a popularidade desses 3 álbuns está muito ligada à popularidade dessas músicas, pois como são as músicas mais ouvidas da banda, consequentemente esses álbuns acabam tendo seu índice de popularidade aumentado em relação aos demais álbuns da banda.\n",
        "Outra coisa que podemos observar em relação a esses 3 álbuns, é que a média da popularidade dos 3 é bem próxima da média dessas 8 músicas mais populares que constam no Top 10.\n",
        "A média de popularidade dos 3 álbuns é igual a 48, enquanto a média de popularidade das 8 músicas desses álbuns que constam no Top 10 geral é de 50,2."
      ],
      "id": "fns44pibDELZ"
    },
    {
      "cell_type": "markdown",
      "metadata": {
        "id": "ntvx4wd1a7tB"
      },
      "source": [
        "# Volume geral em decibéis (loudness)"
      ],
      "id": "ntvx4wd1a7tB"
    },
    {
      "cell_type": "markdown",
      "metadata": {
        "id": "VePeErVla_mN"
      },
      "source": [
        "### Média geral de decibéis por álbum"
      ],
      "id": "VePeErVla_mN"
    },
    {
      "cell_type": "code",
      "metadata": {
        "colab": {
          "base_uri": "https://localhost:8080/",
          "height": 538
        },
        "id": "dy0t_uhxYdIb",
        "outputId": "6acb6b0a-6aa7-4be2-fdb4-8cd60d42402e"
      },
      "source": [
        "media('loudness')"
      ],
      "id": "dy0t_uhxYdIb",
      "execution_count": 172,
      "outputs": [
        {
          "output_type": "execute_result",
          "data": {
            "text/html": [
              "<div>\n",
              "<style scoped>\n",
              "    .dataframe tbody tr th:only-of-type {\n",
              "        vertical-align: middle;\n",
              "    }\n",
              "\n",
              "    .dataframe tbody tr th {\n",
              "        vertical-align: top;\n",
              "    }\n",
              "\n",
              "    .dataframe thead th {\n",
              "        text-align: right;\n",
              "    }\n",
              "</style>\n",
              "<table border=\"1\" class=\"dataframe\">\n",
              "  <thead>\n",
              "    <tr style=\"text-align: right;\">\n",
              "      <th></th>\n",
              "      <th>album_name</th>\n",
              "      <th>loudness</th>\n",
              "    </tr>\n",
              "  </thead>\n",
              "  <tbody>\n",
              "    <tr>\n",
              "      <th>0</th>\n",
              "      <td>4:13 Dream</td>\n",
              "      <td>-3.061308</td>\n",
              "    </tr>\n",
              "    <tr>\n",
              "      <th>11</th>\n",
              "      <td>The Cure</td>\n",
              "      <td>-4.048182</td>\n",
              "    </tr>\n",
              "    <tr>\n",
              "      <th>14</th>\n",
              "      <td>Wild Mood Swings</td>\n",
              "      <td>-4.509643</td>\n",
              "    </tr>\n",
              "    <tr>\n",
              "      <th>5</th>\n",
              "      <td>Hypnagogic States</td>\n",
              "      <td>-5.411167</td>\n",
              "    </tr>\n",
              "    <tr>\n",
              "      <th>1</th>\n",
              "      <td>Bestival Live 2011</td>\n",
              "      <td>-5.977250</td>\n",
              "    </tr>\n",
              "    <tr>\n",
              "      <th>2</th>\n",
              "      <td>Bloodflowers</td>\n",
              "      <td>-6.363111</td>\n",
              "    </tr>\n",
              "    <tr>\n",
              "      <th>9</th>\n",
              "      <td>Pornography</td>\n",
              "      <td>-6.935875</td>\n",
              "    </tr>\n",
              "    <tr>\n",
              "      <th>6</th>\n",
              "      <td>Kiss Me Kiss Me Kiss Me</td>\n",
              "      <td>-7.554100</td>\n",
              "    </tr>\n",
              "    <tr>\n",
              "      <th>13</th>\n",
              "      <td>The Top</td>\n",
              "      <td>-8.185500</td>\n",
              "    </tr>\n",
              "    <tr>\n",
              "      <th>7</th>\n",
              "      <td>Mixed Up (Remastered 2018 / Deluxe Edition)</td>\n",
              "      <td>-8.584050</td>\n",
              "    </tr>\n",
              "    <tr>\n",
              "      <th>4</th>\n",
              "      <td>Disintegration (Deluxe Edition [Remastered])</td>\n",
              "      <td>-8.595750</td>\n",
              "    </tr>\n",
              "    <tr>\n",
              "      <th>12</th>\n",
              "      <td>The Head On The Door</td>\n",
              "      <td>-11.811600</td>\n",
              "    </tr>\n",
              "    <tr>\n",
              "      <th>15</th>\n",
              "      <td>Wish</td>\n",
              "      <td>-13.244583</td>\n",
              "    </tr>\n",
              "    <tr>\n",
              "      <th>10</th>\n",
              "      <td>Show</td>\n",
              "      <td>-13.321722</td>\n",
              "    </tr>\n",
              "    <tr>\n",
              "      <th>3</th>\n",
              "      <td>Concert - The Cure Live</td>\n",
              "      <td>-13.349100</td>\n",
              "    </tr>\n",
              "    <tr>\n",
              "      <th>8</th>\n",
              "      <td>Paris</td>\n",
              "      <td>-14.286167</td>\n",
              "    </tr>\n",
              "  </tbody>\n",
              "</table>\n",
              "</div>"
            ],
            "text/plain": [
              "                                      album_name   loudness\n",
              "0                                     4:13 Dream  -3.061308\n",
              "11                                      The Cure  -4.048182\n",
              "14                              Wild Mood Swings  -4.509643\n",
              "5                              Hypnagogic States  -5.411167\n",
              "1                             Bestival Live 2011  -5.977250\n",
              "2                                   Bloodflowers  -6.363111\n",
              "9                                    Pornography  -6.935875\n",
              "6                        Kiss Me Kiss Me Kiss Me  -7.554100\n",
              "13                                       The Top  -8.185500\n",
              "7    Mixed Up (Remastered 2018 / Deluxe Edition)  -8.584050\n",
              "4   Disintegration (Deluxe Edition [Remastered])  -8.595750\n",
              "12                          The Head On The Door -11.811600\n",
              "15                                          Wish -13.244583\n",
              "10                                          Show -13.321722\n",
              "3                        Concert - The Cure Live -13.349100\n",
              "8                                          Paris -14.286167"
            ]
          },
          "metadata": {
            "tags": []
          },
          "execution_count": 172
        }
      ]
    },
    {
      "cell_type": "markdown",
      "metadata": {
        "id": "9jwkuuN0bypx"
      },
      "source": [
        "### Gráfico de decibéis por álbum"
      ],
      "id": "9jwkuuN0bypx"
    },
    {
      "cell_type": "code",
      "metadata": {
        "colab": {
          "base_uri": "https://localhost:8080/",
          "height": 414
        },
        "id": "xwC6xF5ZbYEY",
        "outputId": "e7432b5b-a63a-4875-e677-7705d65badee"
      },
      "source": [
        "plotar('Decibeis por Álbum', 'loudness', 'album_name', 'Média Decibéis', 'Nome do Álbum', 'loudness')"
      ],
      "id": "xwC6xF5ZbYEY",
      "execution_count": 173,
      "outputs": [
        {
          "output_type": "display_data",
          "data": {
            "image/png": "[encoded data removed]",
            "text/plain": [
              "<Figure size 864x432 with 1 Axes>"
            ]
          },
          "metadata": {
            "tags": [],
            "needs_background": "light"
          }
        }
      ]
    },
    {
      "cell_type": "markdown",
      "metadata": {
        "id": "UX1vqRwR4YWT"
      },
      "source": [
        "### Top 10 músicas mais suaves"
      ],
      "id": "UX1vqRwR4YWT"
    },
    {
      "cell_type": "code",
      "metadata": {
        "colab": {
          "base_uri": "https://localhost:8080/",
          "height": 355
        },
        "id": "eFmNK7ev4gwE",
        "outputId": "8d9e2404-1386-49ea-9373-1a37652dcdea"
      },
      "source": [
        "top_musicas_inf('loudness')"
      ],
      "id": "eFmNK7ev4gwE",
      "execution_count": 174,
      "outputs": [
        {
          "output_type": "execute_result",
          "data": {
            "text/html": [
              "<div>\n",
              "<style scoped>\n",
              "    .dataframe tbody tr th:only-of-type {\n",
              "        vertical-align: middle;\n",
              "    }\n",
              "\n",
              "    .dataframe tbody tr th {\n",
              "        vertical-align: top;\n",
              "    }\n",
              "\n",
              "    .dataframe thead th {\n",
              "        text-align: right;\n",
              "    }\n",
              "</style>\n",
              "<table border=\"1\" class=\"dataframe\">\n",
              "  <thead>\n",
              "    <tr style=\"text-align: right;\">\n",
              "      <th></th>\n",
              "      <th>track_name</th>\n",
              "      <th>album_name</th>\n",
              "      <th>loudness</th>\n",
              "    </tr>\n",
              "  </thead>\n",
              "  <tbody>\n",
              "    <tr>\n",
              "      <th>132</th>\n",
              "      <td>Tape - Live At The Palace, Auburn Hills, Michigan</td>\n",
              "      <td>Show</td>\n",
              "      <td>-24.265</td>\n",
              "    </tr>\n",
              "    <tr>\n",
              "      <th>118</th>\n",
              "      <td>To Wish Impossible Things</td>\n",
              "      <td>Wish</td>\n",
              "      <td>-19.624</td>\n",
              "    </tr>\n",
              "    <tr>\n",
              "      <th>44</th>\n",
              "      <td>Close To Me</td>\n",
              "      <td>The Head On The Door</td>\n",
              "      <td>-17.927</td>\n",
              "    </tr>\n",
              "    <tr>\n",
              "      <th>120</th>\n",
              "      <td>The Figurehead - Live Paris Version</td>\n",
              "      <td>Paris</td>\n",
              "      <td>-17.460</td>\n",
              "    </tr>\n",
              "    <tr>\n",
              "      <th>115</th>\n",
              "      <td>Trust</td>\n",
              "      <td>Wish</td>\n",
              "      <td>-16.847</td>\n",
              "    </tr>\n",
              "    <tr>\n",
              "      <th>126</th>\n",
              "      <td>Love Song</td>\n",
              "      <td>Paris</td>\n",
              "      <td>-15.940</td>\n",
              "    </tr>\n",
              "    <tr>\n",
              "      <th>110</th>\n",
              "      <td>Apart</td>\n",
              "      <td>Wish</td>\n",
              "      <td>-15.933</td>\n",
              "    </tr>\n",
              "    <tr>\n",
              "      <th>124</th>\n",
              "      <td>Apart - Live Paris Version</td>\n",
              "      <td>Paris</td>\n",
              "      <td>-15.354</td>\n",
              "    </tr>\n",
              "    <tr>\n",
              "      <th>125</th>\n",
              "      <td>In Your House - Live Paris Version</td>\n",
              "      <td>Paris</td>\n",
              "      <td>-15.174</td>\n",
              "    </tr>\n",
              "    <tr>\n",
              "      <th>131</th>\n",
              "      <td>Close To Me - Live Paris Version</td>\n",
              "      <td>Paris</td>\n",
              "      <td>-15.009</td>\n",
              "    </tr>\n",
              "  </tbody>\n",
              "</table>\n",
              "</div>"
            ],
            "text/plain": [
              "                                            track_name  ... loudness\n",
              "132  Tape - Live At The Palace, Auburn Hills, Michigan  ...  -24.265\n",
              "118                          To Wish Impossible Things  ...  -19.624\n",
              "44                                         Close To Me  ...  -17.927\n",
              "120                The Figurehead - Live Paris Version  ...  -17.460\n",
              "115                                              Trust  ...  -16.847\n",
              "126                                          Love Song  ...  -15.940\n",
              "110                                              Apart  ...  -15.933\n",
              "124                         Apart - Live Paris Version  ...  -15.354\n",
              "125                 In Your House - Live Paris Version  ...  -15.174\n",
              "131                   Close To Me - Live Paris Version  ...  -15.009\n",
              "\n",
              "[10 rows x 3 columns]"
            ]
          },
          "metadata": {
            "tags": []
          },
          "execution_count": 174
        }
      ]
    },
    {
      "cell_type": "markdown",
      "metadata": {
        "id": "LYMK8Z7A43BD"
      },
      "source": [
        "### Top 10 músicas menos suaves"
      ],
      "id": "LYMK8Z7A43BD"
    },
    {
      "cell_type": "code",
      "metadata": {
        "colab": {
          "base_uri": "https://localhost:8080/",
          "height": 355
        },
        "id": "I9B1O4mq5ANo",
        "outputId": "6779437e-bc84-47fb-ab7d-ea9196f0a575"
      },
      "source": [
        "top_musicas_sup('loudness')"
      ],
      "id": "I9B1O4mq5ANo",
      "execution_count": 175,
      "outputs": [
        {
          "output_type": "execute_result",
          "data": {
            "text/html": [
              "<div>\n",
              "<style scoped>\n",
              "    .dataframe tbody tr th:only-of-type {\n",
              "        vertical-align: middle;\n",
              "    }\n",
              "\n",
              "    .dataframe tbody tr th {\n",
              "        vertical-align: top;\n",
              "    }\n",
              "\n",
              "    .dataframe thead th {\n",
              "        text-align: right;\n",
              "    }\n",
              "</style>\n",
              "<table border=\"1\" class=\"dataframe\">\n",
              "  <thead>\n",
              "    <tr style=\"text-align: right;\">\n",
              "      <th></th>\n",
              "      <th>track_name</th>\n",
              "      <th>album_name</th>\n",
              "      <th>loudness</th>\n",
              "    </tr>\n",
              "  </thead>\n",
              "  <tbody>\n",
              "    <tr>\n",
              "      <th>202</th>\n",
              "      <td>It's Over</td>\n",
              "      <td>4:13 Dream</td>\n",
              "      <td>-1.378</td>\n",
              "    </tr>\n",
              "    <tr>\n",
              "      <th>200</th>\n",
              "      <td>Sleep When I'm Dead</td>\n",
              "      <td>4:13 Dream</td>\n",
              "      <td>-1.677</td>\n",
              "    </tr>\n",
              "    <tr>\n",
              "      <th>195</th>\n",
              "      <td>The Real Snow White</td>\n",
              "      <td>4:13 Dream</td>\n",
              "      <td>-1.705</td>\n",
              "    </tr>\n",
              "    <tr>\n",
              "      <th>197</th>\n",
              "      <td>Switch</td>\n",
              "      <td>4:13 Dream</td>\n",
              "      <td>-1.786</td>\n",
              "    </tr>\n",
              "    <tr>\n",
              "      <th>182</th>\n",
              "      <td>Never</td>\n",
              "      <td>The Cure</td>\n",
              "      <td>-2.161</td>\n",
              "    </tr>\n",
              "    <tr>\n",
              "      <th>191</th>\n",
              "      <td>The Only One</td>\n",
              "      <td>4:13 Dream</td>\n",
              "      <td>-2.414</td>\n",
              "    </tr>\n",
              "    <tr>\n",
              "      <th>157</th>\n",
              "      <td>Round &amp; Round &amp; Round</td>\n",
              "      <td>Wild Mood Swings</td>\n",
              "      <td>-2.538</td>\n",
              "    </tr>\n",
              "    <tr>\n",
              "      <th>196</th>\n",
              "      <td>The Hungry Ghost</td>\n",
              "      <td>4:13 Dream</td>\n",
              "      <td>-2.588</td>\n",
              "    </tr>\n",
              "    <tr>\n",
              "      <th>160</th>\n",
              "      <td>Return</td>\n",
              "      <td>Wild Mood Swings</td>\n",
              "      <td>-2.791</td>\n",
              "    </tr>\n",
              "    <tr>\n",
              "      <th>201</th>\n",
              "      <td>The Scream</td>\n",
              "      <td>4:13 Dream</td>\n",
              "      <td>-2.841</td>\n",
              "    </tr>\n",
              "  </tbody>\n",
              "</table>\n",
              "</div>"
            ],
            "text/plain": [
              "                track_name        album_name  loudness\n",
              "202              It's Over        4:13 Dream    -1.378\n",
              "200    Sleep When I'm Dead        4:13 Dream    -1.677\n",
              "195    The Real Snow White        4:13 Dream    -1.705\n",
              "197                 Switch        4:13 Dream    -1.786\n",
              "182                  Never          The Cure    -2.161\n",
              "191           The Only One        4:13 Dream    -2.414\n",
              "157  Round & Round & Round  Wild Mood Swings    -2.538\n",
              "196       The Hungry Ghost        4:13 Dream    -2.588\n",
              "160                 Return  Wild Mood Swings    -2.791\n",
              "201             The Scream        4:13 Dream    -2.841"
            ]
          },
          "metadata": {
            "tags": []
          },
          "execution_count": 175
        }
      ]
    },
    {
      "cell_type": "markdown",
      "metadata": {
        "id": "7JoS1GH_F0qW"
      },
      "source": [
        "\n",
        "Antes de analisarmos essa parte, precisamos entender como funciona a medida em decibéis.\n",
        "Ao olharem para esses índices, muitos devem perguntar: \"É possível existirem decibéis negativos? Como fazer para saber se um decibel é negativo ou não?\"\n",
        "Bom, isso acontece porque o decibel é uma medida relativa e não absoluta, ou seja, ele precisa que um ponto de referência seja definido anteriormente para ser medido.\n",
        "Exemplo:\n",
        "Se você estabeler um ponto de referência em 10W, todos os sons que ultrapassarem essa potência, terão um índice em decibéis positivos, já os que forem inferiores a ele, terão um índice negativo, porém, quanto maior o índice for positivo, maior será a distorção do sinal sonoro.\n",
        "Ao usarmos a audição humana como referência, 0 db representam que você está no limiar de nossa habilidade auditiva, sendo assim, os valores negativos representam que aquele som está algumas mais suave que esse limite.\n",
        "Sendo assim, vemos que o álbum \"4:13 Dream\", além de possuir o menor índice de suavidade, possui 7 músicas dentro do Top 10 geral de músicas com o maior nível de decibéis. \n",
        "Olhando para dentro do álbum, vemos que esse índice se mantém regular em todas as suas músicas, fazendo com que sua média de \"suavidade\" seja a menor entre todos os álbuns, com uma certa distância do segundo e terceiro. \n",
        "Com isso, em termos de suavidade, esse não é um álbum com mudanças significativas em suas músicas, e ao observar outros aspectos, como a \"dançabilidade\", índice instrumental, índice de detecção de palavras nas músicas e índice de energia, vemos que essa regularidade também aparece, impactando também na popularidade do álbum, fazendo ele ser o 4º álbum mais popular da banda, apesar de ser um dos mais recentes. "
      ],
      "id": "7JoS1GH_F0qW"
    },
    {
      "cell_type": "markdown",
      "metadata": {
        "id": "EB8TjI3z6Z3h"
      },
      "source": [
        "# Acústica (acousticness)"
      ],
      "id": "EB8TjI3z6Z3h"
    },
    {
      "cell_type": "markdown",
      "metadata": {
        "id": "u7q-H_Q-6msF"
      },
      "source": [
        "### Calculando a média de índice acústico por álbum"
      ],
      "id": "u7q-H_Q-6msF"
    },
    {
      "cell_type": "code",
      "metadata": {
        "colab": {
          "base_uri": "https://localhost:8080/",
          "height": 538
        },
        "id": "wDXIlu1m6MmP",
        "outputId": "41f450e5-a166-4d8f-dc73-7e32a0e042d3"
      },
      "source": [
        "media('acousticness')"
      ],
      "id": "wDXIlu1m6MmP",
      "execution_count": 176,
      "outputs": [
        {
          "output_type": "execute_result",
          "data": {
            "text/html": [
              "<div>\n",
              "<style scoped>\n",
              "    .dataframe tbody tr th:only-of-type {\n",
              "        vertical-align: middle;\n",
              "    }\n",
              "\n",
              "    .dataframe tbody tr th {\n",
              "        vertical-align: top;\n",
              "    }\n",
              "\n",
              "    .dataframe thead th {\n",
              "        text-align: right;\n",
              "    }\n",
              "</style>\n",
              "<table border=\"1\" class=\"dataframe\">\n",
              "  <thead>\n",
              "    <tr style=\"text-align: right;\">\n",
              "      <th></th>\n",
              "      <th>album_name</th>\n",
              "      <th>acousticness</th>\n",
              "    </tr>\n",
              "  </thead>\n",
              "  <tbody>\n",
              "    <tr>\n",
              "      <th>4</th>\n",
              "      <td>Disintegration (Deluxe Edition [Remastered])</td>\n",
              "      <td>0.260964</td>\n",
              "    </tr>\n",
              "    <tr>\n",
              "      <th>12</th>\n",
              "      <td>The Head On The Door</td>\n",
              "      <td>0.260002</td>\n",
              "    </tr>\n",
              "    <tr>\n",
              "      <th>10</th>\n",
              "      <td>Show</td>\n",
              "      <td>0.226317</td>\n",
              "    </tr>\n",
              "    <tr>\n",
              "      <th>14</th>\n",
              "      <td>Wild Mood Swings</td>\n",
              "      <td>0.214075</td>\n",
              "    </tr>\n",
              "    <tr>\n",
              "      <th>6</th>\n",
              "      <td>Kiss Me Kiss Me Kiss Me</td>\n",
              "      <td>0.205115</td>\n",
              "    </tr>\n",
              "    <tr>\n",
              "      <th>15</th>\n",
              "      <td>Wish</td>\n",
              "      <td>0.188874</td>\n",
              "    </tr>\n",
              "    <tr>\n",
              "      <th>3</th>\n",
              "      <td>Concert - The Cure Live</td>\n",
              "      <td>0.158653</td>\n",
              "    </tr>\n",
              "    <tr>\n",
              "      <th>13</th>\n",
              "      <td>The Top</td>\n",
              "      <td>0.122983</td>\n",
              "    </tr>\n",
              "    <tr>\n",
              "      <th>0</th>\n",
              "      <td>4:13 Dream</td>\n",
              "      <td>0.115023</td>\n",
              "    </tr>\n",
              "    <tr>\n",
              "      <th>2</th>\n",
              "      <td>Bloodflowers</td>\n",
              "      <td>0.092112</td>\n",
              "    </tr>\n",
              "    <tr>\n",
              "      <th>7</th>\n",
              "      <td>Mixed Up (Remastered 2018 / Deluxe Edition)</td>\n",
              "      <td>0.086787</td>\n",
              "    </tr>\n",
              "    <tr>\n",
              "      <th>5</th>\n",
              "      <td>Hypnagogic States</td>\n",
              "      <td>0.074682</td>\n",
              "    </tr>\n",
              "    <tr>\n",
              "      <th>1</th>\n",
              "      <td>Bestival Live 2011</td>\n",
              "      <td>0.071291</td>\n",
              "    </tr>\n",
              "    <tr>\n",
              "      <th>8</th>\n",
              "      <td>Paris</td>\n",
              "      <td>0.069224</td>\n",
              "    </tr>\n",
              "    <tr>\n",
              "      <th>9</th>\n",
              "      <td>Pornography</td>\n",
              "      <td>0.066902</td>\n",
              "    </tr>\n",
              "    <tr>\n",
              "      <th>11</th>\n",
              "      <td>The Cure</td>\n",
              "      <td>0.061844</td>\n",
              "    </tr>\n",
              "  </tbody>\n",
              "</table>\n",
              "</div>"
            ],
            "text/plain": [
              "                                      album_name  acousticness\n",
              "4   Disintegration (Deluxe Edition [Remastered])      0.260964\n",
              "12                          The Head On The Door      0.260002\n",
              "10                                          Show      0.226317\n",
              "14                              Wild Mood Swings      0.214075\n",
              "6                        Kiss Me Kiss Me Kiss Me      0.205115\n",
              "15                                          Wish      0.188874\n",
              "3                        Concert - The Cure Live      0.158653\n",
              "13                                       The Top      0.122983\n",
              "0                                     4:13 Dream      0.115023\n",
              "2                                   Bloodflowers      0.092112\n",
              "7    Mixed Up (Remastered 2018 / Deluxe Edition)      0.086787\n",
              "5                              Hypnagogic States      0.074682\n",
              "1                             Bestival Live 2011      0.071291\n",
              "8                                          Paris      0.069224\n",
              "9                                    Pornography      0.066902\n",
              "11                                      The Cure      0.061844"
            ]
          },
          "metadata": {
            "tags": []
          },
          "execution_count": 176
        }
      ]
    },
    {
      "cell_type": "markdown",
      "metadata": {
        "id": "rw_IkZNB7Irj"
      },
      "source": [
        "### Gráfico da média de índice acústico por álbum"
      ],
      "id": "rw_IkZNB7Irj"
    },
    {
      "cell_type": "code",
      "metadata": {
        "colab": {
          "base_uri": "https://localhost:8080/",
          "height": 414
        },
        "id": "R9t-_idi68hF",
        "outputId": "157185fc-0746-4215-c760-ec4a834f4530"
      },
      "source": [
        "plotar('Índice Acústico por Álbum', 'acousticness', 'album_name', 'Média Índice Acústico', 'Nome do Álbum', 'acousticness')"
      ],
      "id": "R9t-_idi68hF",
      "execution_count": 177,
      "outputs": [
        {
          "output_type": "display_data",
          "data": {
            "image/png": "[encoded data removed]",
            "text/plain": [
              "<Figure size 864x432 with 1 Axes>"
            ]
          },
          "metadata": {
            "tags": [],
            "needs_background": "light"
          }
        }
      ]
    },
    {
      "cell_type": "markdown",
      "metadata": {
        "id": "0JkR1hjv7boj"
      },
      "source": [
        "### Top 10 músicas com maior índice acústico"
      ],
      "id": "0JkR1hjv7boj"
    },
    {
      "cell_type": "code",
      "metadata": {
        "colab": {
          "base_uri": "https://localhost:8080/",
          "height": 355
        },
        "id": "pDyUrdXL7WLJ",
        "outputId": "26692617-fd59-4cce-e0dd-e5c118179c8c"
      },
      "source": [
        "top_musicas_sup('acousticness')"
      ],
      "id": "pDyUrdXL7WLJ",
      "execution_count": 178,
      "outputs": [
        {
          "output_type": "execute_result",
          "data": {
            "text/html": [
              "<div>\n",
              "<style scoped>\n",
              "    .dataframe tbody tr th:only-of-type {\n",
              "        vertical-align: middle;\n",
              "    }\n",
              "\n",
              "    .dataframe tbody tr th {\n",
              "        vertical-align: top;\n",
              "    }\n",
              "\n",
              "    .dataframe thead th {\n",
              "        text-align: right;\n",
              "    }\n",
              "</style>\n",
              "<table border=\"1\" class=\"dataframe\">\n",
              "  <thead>\n",
              "    <tr style=\"text-align: right;\">\n",
              "      <th></th>\n",
              "      <th>track_name</th>\n",
              "      <th>album_name</th>\n",
              "      <th>acousticness</th>\n",
              "    </tr>\n",
              "  </thead>\n",
              "  <tbody>\n",
              "    <tr>\n",
              "      <th>153</th>\n",
              "      <td>The 13th</td>\n",
              "      <td>Wild Mood Swings</td>\n",
              "      <td>0.759</td>\n",
              "    </tr>\n",
              "    <tr>\n",
              "      <th>132</th>\n",
              "      <td>Tape - Live At The Palace, Auburn Hills, Michigan</td>\n",
              "      <td>Show</td>\n",
              "      <td>0.747</td>\n",
              "    </tr>\n",
              "    <tr>\n",
              "      <th>136</th>\n",
              "      <td>Lullaby - Live At The Palace, Auburn Hills, Mi...</td>\n",
              "      <td>Show</td>\n",
              "      <td>0.709</td>\n",
              "    </tr>\n",
              "    <tr>\n",
              "      <th>83</th>\n",
              "      <td>Homesick [Band Rehearsal (instrumental)-06/88]</td>\n",
              "      <td>Disintegration (Deluxe Edition [Remastered])</td>\n",
              "      <td>0.677</td>\n",
              "    </tr>\n",
              "    <tr>\n",
              "      <th>27</th>\n",
              "      <td>Happy The Man [Garden /Eden Studios RS&amp;AA Demo...</td>\n",
              "      <td>The Top</td>\n",
              "      <td>0.642</td>\n",
              "    </tr>\n",
              "    <tr>\n",
              "      <th>84</th>\n",
              "      <td>Fear Of Ghosts [Band Rehearsal (instrumental)-...</td>\n",
              "      <td>Disintegration (Deluxe Edition [Remastered])</td>\n",
              "      <td>0.636</td>\n",
              "    </tr>\n",
              "    <tr>\n",
              "      <th>43</th>\n",
              "      <td>The Baby Screams</td>\n",
              "      <td>The Head On The Door</td>\n",
              "      <td>0.627</td>\n",
              "    </tr>\n",
              "    <tr>\n",
              "      <th>118</th>\n",
              "      <td>To Wish Impossible Things</td>\n",
              "      <td>Wish</td>\n",
              "      <td>0.608</td>\n",
              "    </tr>\n",
              "    <tr>\n",
              "      <th>162</th>\n",
              "      <td>Treasure</td>\n",
              "      <td>Wild Mood Swings</td>\n",
              "      <td>0.600</td>\n",
              "    </tr>\n",
              "    <tr>\n",
              "      <th>79</th>\n",
              "      <td>Untitled</td>\n",
              "      <td>Disintegration (Deluxe Edition [Remastered])</td>\n",
              "      <td>0.571</td>\n",
              "    </tr>\n",
              "  </tbody>\n",
              "</table>\n",
              "</div>"
            ],
            "text/plain": [
              "                                            track_name  ... acousticness\n",
              "153                                           The 13th  ...        0.759\n",
              "132  Tape - Live At The Palace, Auburn Hills, Michigan  ...        0.747\n",
              "136  Lullaby - Live At The Palace, Auburn Hills, Mi...  ...        0.709\n",
              "83      Homesick [Band Rehearsal (instrumental)-06/88]  ...        0.677\n",
              "27   Happy The Man [Garden /Eden Studios RS&AA Demo...  ...        0.642\n",
              "84   Fear Of Ghosts [Band Rehearsal (instrumental)-...  ...        0.636\n",
              "43                                    The Baby Screams  ...        0.627\n",
              "118                          To Wish Impossible Things  ...        0.608\n",
              "162                                           Treasure  ...        0.600\n",
              "79                                            Untitled  ...        0.571\n",
              "\n",
              "[10 rows x 3 columns]"
            ]
          },
          "metadata": {
            "tags": []
          },
          "execution_count": 178
        }
      ]
    },
    {
      "cell_type": "markdown",
      "metadata": {
        "id": "mhA-QNMW9aRC"
      },
      "source": [
        "### Top 10 músicas com menos índice acústico"
      ],
      "id": "mhA-QNMW9aRC"
    },
    {
      "cell_type": "code",
      "metadata": {
        "colab": {
          "base_uri": "https://localhost:8080/",
          "height": 355
        },
        "id": "pX7P1CZ17yEU",
        "outputId": "bd8dc6af-45e9-45eb-bd16-4de2661cd2e6"
      },
      "source": [
        "top_musicas_inf('acousticness')"
      ],
      "id": "pX7P1CZ17yEU",
      "execution_count": 179,
      "outputs": [
        {
          "output_type": "execute_result",
          "data": {
            "text/html": [
              "<div>\n",
              "<style scoped>\n",
              "    .dataframe tbody tr th:only-of-type {\n",
              "        vertical-align: middle;\n",
              "    }\n",
              "\n",
              "    .dataframe tbody tr th {\n",
              "        vertical-align: top;\n",
              "    }\n",
              "\n",
              "    .dataframe thead th {\n",
              "        text-align: right;\n",
              "    }\n",
              "</style>\n",
              "<table border=\"1\" class=\"dataframe\">\n",
              "  <thead>\n",
              "    <tr style=\"text-align: right;\">\n",
              "      <th></th>\n",
              "      <th>track_name</th>\n",
              "      <th>album_name</th>\n",
              "      <th>acousticness</th>\n",
              "    </tr>\n",
              "  </thead>\n",
              "  <tbody>\n",
              "    <tr>\n",
              "      <th>11</th>\n",
              "      <td>Give Me It - Remastered</td>\n",
              "      <td>The Top</td>\n",
              "      <td>0.000030</td>\n",
              "    </tr>\n",
              "    <tr>\n",
              "      <th>25</th>\n",
              "      <td>Give Me It [Garden /Eden Studios RS&amp;AA Demo 12...</td>\n",
              "      <td>The Top</td>\n",
              "      <td>0.000078</td>\n",
              "    </tr>\n",
              "    <tr>\n",
              "      <th>21</th>\n",
              "      <td>Sadacic [Olympic Studio RS Demo 12/83]</td>\n",
              "      <td>The Top</td>\n",
              "      <td>0.000099</td>\n",
              "    </tr>\n",
              "    <tr>\n",
              "      <th>5</th>\n",
              "      <td>A Strange Day - Remastered Version</td>\n",
              "      <td>Pornography</td>\n",
              "      <td>0.000109</td>\n",
              "    </tr>\n",
              "    <tr>\n",
              "      <th>91</th>\n",
              "      <td>The Walk - Everything Mix</td>\n",
              "      <td>Mixed Up (Remastered 2018 / Deluxe Edition)</td>\n",
              "      <td>0.000121</td>\n",
              "    </tr>\n",
              "    <tr>\n",
              "      <th>107</th>\n",
              "      <td>Just Like Heaven - Dizzy Mix 1990</td>\n",
              "      <td>Mixed Up (Remastered 2018 / Deluxe Edition)</td>\n",
              "      <td>0.000130</td>\n",
              "    </tr>\n",
              "    <tr>\n",
              "      <th>90</th>\n",
              "      <td>Fascination Street - Extended Mix</td>\n",
              "      <td>Mixed Up (Remastered 2018 / Deluxe Edition)</td>\n",
              "      <td>0.000183</td>\n",
              "    </tr>\n",
              "    <tr>\n",
              "      <th>3</th>\n",
              "      <td>Siamese Twins - Remastered Version</td>\n",
              "      <td>Pornography</td>\n",
              "      <td>0.000298</td>\n",
              "    </tr>\n",
              "    <tr>\n",
              "      <th>165</th>\n",
              "      <td>Watching Me Fall</td>\n",
              "      <td>Bloodflowers</td>\n",
              "      <td>0.000299</td>\n",
              "    </tr>\n",
              "    <tr>\n",
              "      <th>185</th>\n",
              "      <td>Freakshow - Wolves At The Gate Remix by Jade P...</td>\n",
              "      <td>Hypnagogic States</td>\n",
              "      <td>0.000470</td>\n",
              "    </tr>\n",
              "  </tbody>\n",
              "</table>\n",
              "</div>"
            ],
            "text/plain": [
              "                                            track_name  ... acousticness\n",
              "11                             Give Me It - Remastered  ...     0.000030\n",
              "25   Give Me It [Garden /Eden Studios RS&AA Demo 12...  ...     0.000078\n",
              "21              Sadacic [Olympic Studio RS Demo 12/83]  ...     0.000099\n",
              "5                   A Strange Day - Remastered Version  ...     0.000109\n",
              "91                           The Walk - Everything Mix  ...     0.000121\n",
              "107                  Just Like Heaven - Dizzy Mix 1990  ...     0.000130\n",
              "90                   Fascination Street - Extended Mix  ...     0.000183\n",
              "3                   Siamese Twins - Remastered Version  ...     0.000298\n",
              "165                                   Watching Me Fall  ...     0.000299\n",
              "185  Freakshow - Wolves At The Gate Remix by Jade P...  ...     0.000470\n",
              "\n",
              "[10 rows x 3 columns]"
            ]
          },
          "metadata": {
            "tags": []
          },
          "execution_count": 179
        }
      ]
    },
    {
      "cell_type": "markdown",
      "metadata": {
        "id": "NExumUGYF-Mz"
      },
      "source": [
        "Sobre a acústica, em geral, as músicas do The Cure não possuem índices altos nesse aspecto, sendo assim, as músicas que possuem os maiores índices acabam impulsionando seus respectivos álbuns para o topo do gráfico. Podemos observar que os 4 álbuns que aparecem no Top 10 de músicas com maiores índices de acústica, são também os 4 álbuns com a maior média geral, o que não acontece necessariamente em outros indicadores. "
      ],
      "id": "NExumUGYF-Mz"
    },
    {
      "cell_type": "code",
      "metadata": {
        "colab": {
          "base_uri": "https://localhost:8080/"
        },
        "id": "A6xoykK8iLEc",
        "outputId": "2d54fe60-01a0-4ea8-b53d-bd705c893645"
      },
      "source": [
        "from google.colab import drive\n",
        "drive.mount('/content/drive')"
      ],
      "id": "A6xoykK8iLEc",
      "execution_count": 180,
      "outputs": [
        {
          "output_type": "stream",
          "text": [
            "Drive already mounted at /content/drive; to attempt to forcibly remount, call drive.mount(\"/content/drive\", force_remount=True).\n"
          ],
          "name": "stdout"
        }
      ]
    },
    {
      "cell_type": "code",
      "metadata": {
        "id": "GDg7P_h9iSSU"
      },
      "source": [
        "%%capture\n",
        "!wget -nc https://raw.githubusercontent.com/brpy/colab-pdf/master/colab_pdf.py\n",
        "from colab_pdf import colab_pdf\n",
        "colab_pdf('THE_CURE_Analise_da_Discografia.ipynb') # Função para gerar arquivo PDF"
      ],
      "id": "GDg7P_h9iSSU",
      "execution_count": 181,
      "outputs": []
    }
  ]
}